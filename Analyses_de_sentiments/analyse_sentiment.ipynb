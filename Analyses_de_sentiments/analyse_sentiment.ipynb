{
 "cells": [
  {
   "cell_type": "code",
   "execution_count": 455,
   "metadata": {},
   "outputs": [
    {
     "name": "stdout",
     "output_type": "stream",
     "text": [
      "Defaulting to user installation because normal site-packages is not writeable\n",
      "Requirement already satisfied: tweepy in /home/ensai/.local/lib/python3.10/site-packages (4.14.0)\n",
      "Requirement already satisfied: oauthlib<4,>=3.2.0 in /usr/lib/python3/dist-packages (from tweepy) (3.2.0)\n",
      "Requirement already satisfied: requests<3,>=2.27.0 in /home/ensai/.local/lib/python3.10/site-packages (from tweepy) (2.31.0)\n",
      "Requirement already satisfied: requests-oauthlib<2,>=1.2.0 in /home/ensai/.local/lib/python3.10/site-packages (from tweepy) (1.3.1)\n",
      "Requirement already satisfied: charset-normalizer<4,>=2 in /home/ensai/.local/lib/python3.10/site-packages (from requests<3,>=2.27.0->tweepy) (3.3.2)\n",
      "Requirement already satisfied: idna<4,>=2.5 in /usr/lib/python3/dist-packages (from requests<3,>=2.27.0->tweepy) (3.3)\n",
      "Requirement already satisfied: urllib3<3,>=1.21.1 in /usr/lib/python3/dist-packages (from requests<3,>=2.27.0->tweepy) (1.26.5)\n",
      "Requirement already satisfied: certifi>=2017.4.17 in /home/ensai/.local/lib/python3.10/site-packages (from requests<3,>=2.27.0->tweepy) (2024.8.30)\n"
     ]
    }
   ],
   "source": [
    "!pip install tweepy"
   ]
  },
  {
   "cell_type": "code",
   "execution_count": 456,
   "metadata": {},
   "outputs": [
    {
     "name": "stderr",
     "output_type": "stream",
     "text": [
      "[nltk_data] Downloading package stopwords to /home/ensai/nltk_data...\n",
      "[nltk_data]   Package stopwords is already up-to-date!\n"
     ]
    }
   ],
   "source": [
    "import numpy as np # linear algebra\n",
    "import pandas as pd # data processing\n",
    "import os\n",
    "import tweepy as tw #for accessing Twitter API\n",
    "\n",
    "\n",
    "#For Preprocessing\n",
    "import re    # RegEx for removing non-letter characters\n",
    "import nltk  #natural language processing\n",
    "nltk.download(\"stopwords\")\n",
    "from nltk.corpus import stopwords\n",
    "from nltk.stem.porter import *\n",
    "\n",
    "# For Building the model\n",
    "from sklearn.model_selection import train_test_split\n",
    "import tensorflow as tf\n",
    "import seaborn as sns\n",
    "\n",
    "#For data visualization\n",
    "import matplotlib.pyplot as plt\n",
    "import matplotlib.patches as mpatches\n",
    "%matplotlib inline\n",
    "\n",
    "pd.options.plotting.backend = \"plotly\""
   ]
  },
  {
   "cell_type": "code",
   "execution_count": 457,
   "metadata": {},
   "outputs": [
    {
     "name": "stdout",
     "output_type": "stream",
     "text": [
      "Le dossier twitter-airline-sentimentexiste déjà. Aucune action n'a été effectuée.\n"
     ]
    }
   ],
   "source": [
    "import os\n",
    "\n",
    "# Définir le chemin vers le dossier du dataset\n",
    "dataset_dir = './twitter-airline-sentiment'\n",
    "kaggle_dest = os.path.expanduser('~/.kaggle')\n",
    "kaggle_json_path = os.path.join(kaggle_dest, 'kaggle.json')\n",
    "\n",
    "# Vérifier si le dossier twitter-airline-sentiment existe\n",
    "if not os.path.exists(dataset_dir):\n",
    "    # Créer le dossier .kaggle et placer votre fichier kaggle.json (API token) si nécessaire\n",
    "    os.makedirs(kaggle_dest, exist_ok=True)\n",
    "    \n",
    "    if not os.path.exists(kaggle_json_path):\n",
    "        os.system('cp kaggle.json ~/.kaggle/')\n",
    "        os.system('chmod 600 ~/.kaggle/kaggle.json')\n",
    "\n",
    "    # Télécharger le dataset \"car-brand-recognition\" depuis Kaggle\n",
    "\n",
    "    #https://www.kaggle.com/datasets/crowdflower/twitter-airline-sentiment\n",
    "    username = 'crowdflower'\n",
    "    dataset_name = 'twitter-airline-sentiment'\n",
    "    os.system(f'kaggle datasets download -d {username}/{dataset_name}')\n",
    "\n",
    "    # Créer le dossier pour la décompression\n",
    "    os.makedirs(dataset_dir, exist_ok=True)\n",
    "\n",
    "    # Décompresser le fichier zip téléchargé dans le dossier twitter-airline-sentiment\n",
    "    os.system(f'unzip -q {dataset_name}.zip -d {dataset_dir}')\n",
    "\n",
    "    print(\"Le dataset a été téléchargé et décompressé.\")\n",
    "else:\n",
    "    print(\"Le dossier twitter-airline-sentimentexiste déjà. Aucune action n'a été effectuée.\")"
   ]
  },
  {
   "cell_type": "markdown",
   "metadata": {},
   "source": [
    "## Exploratory Data Analysis"
   ]
  },
  {
   "cell_type": "markdown",
   "metadata": {},
   "source": [
    "### Cleaning and prepping dataset"
   ]
  },
  {
   "cell_type": "code",
   "execution_count": 458,
   "metadata": {},
   "outputs": [
    {
     "data": {
      "text/html": [
       "<div>\n",
       "<style scoped>\n",
       "    .dataframe tbody tr th:only-of-type {\n",
       "        vertical-align: middle;\n",
       "    }\n",
       "\n",
       "    .dataframe tbody tr th {\n",
       "        vertical-align: top;\n",
       "    }\n",
       "\n",
       "    .dataframe thead th {\n",
       "        text-align: right;\n",
       "    }\n",
       "</style>\n",
       "<table border=\"1\" class=\"dataframe\">\n",
       "  <thead>\n",
       "    <tr style=\"text-align: right;\">\n",
       "      <th></th>\n",
       "      <th>tweet_id</th>\n",
       "      <th>airline_sentiment</th>\n",
       "      <th>airline_sentiment_confidence</th>\n",
       "      <th>negativereason</th>\n",
       "      <th>negativereason_confidence</th>\n",
       "      <th>airline</th>\n",
       "      <th>airline_sentiment_gold</th>\n",
       "      <th>name</th>\n",
       "      <th>negativereason_gold</th>\n",
       "      <th>retweet_count</th>\n",
       "      <th>text</th>\n",
       "      <th>tweet_coord</th>\n",
       "      <th>tweet_created</th>\n",
       "      <th>tweet_location</th>\n",
       "      <th>user_timezone</th>\n",
       "    </tr>\n",
       "  </thead>\n",
       "  <tbody>\n",
       "    <tr>\n",
       "      <th>0</th>\n",
       "      <td>570306133677760513</td>\n",
       "      <td>neutral</td>\n",
       "      <td>1.0000</td>\n",
       "      <td>NaN</td>\n",
       "      <td>NaN</td>\n",
       "      <td>Virgin America</td>\n",
       "      <td>NaN</td>\n",
       "      <td>cairdin</td>\n",
       "      <td>NaN</td>\n",
       "      <td>0</td>\n",
       "      <td>@VirginAmerica What @dhepburn said.</td>\n",
       "      <td>NaN</td>\n",
       "      <td>2015-02-24 11:35:52 -0800</td>\n",
       "      <td>NaN</td>\n",
       "      <td>Eastern Time (US &amp; Canada)</td>\n",
       "    </tr>\n",
       "    <tr>\n",
       "      <th>1</th>\n",
       "      <td>570301130888122368</td>\n",
       "      <td>positive</td>\n",
       "      <td>0.3486</td>\n",
       "      <td>NaN</td>\n",
       "      <td>0.0000</td>\n",
       "      <td>Virgin America</td>\n",
       "      <td>NaN</td>\n",
       "      <td>jnardino</td>\n",
       "      <td>NaN</td>\n",
       "      <td>0</td>\n",
       "      <td>@VirginAmerica plus you've added commercials t...</td>\n",
       "      <td>NaN</td>\n",
       "      <td>2015-02-24 11:15:59 -0800</td>\n",
       "      <td>NaN</td>\n",
       "      <td>Pacific Time (US &amp; Canada)</td>\n",
       "    </tr>\n",
       "    <tr>\n",
       "      <th>2</th>\n",
       "      <td>570301083672813571</td>\n",
       "      <td>neutral</td>\n",
       "      <td>0.6837</td>\n",
       "      <td>NaN</td>\n",
       "      <td>NaN</td>\n",
       "      <td>Virgin America</td>\n",
       "      <td>NaN</td>\n",
       "      <td>yvonnalynn</td>\n",
       "      <td>NaN</td>\n",
       "      <td>0</td>\n",
       "      <td>@VirginAmerica I didn't today... Must mean I n...</td>\n",
       "      <td>NaN</td>\n",
       "      <td>2015-02-24 11:15:48 -0800</td>\n",
       "      <td>Lets Play</td>\n",
       "      <td>Central Time (US &amp; Canada)</td>\n",
       "    </tr>\n",
       "    <tr>\n",
       "      <th>3</th>\n",
       "      <td>570301031407624196</td>\n",
       "      <td>negative</td>\n",
       "      <td>1.0000</td>\n",
       "      <td>Bad Flight</td>\n",
       "      <td>0.7033</td>\n",
       "      <td>Virgin America</td>\n",
       "      <td>NaN</td>\n",
       "      <td>jnardino</td>\n",
       "      <td>NaN</td>\n",
       "      <td>0</td>\n",
       "      <td>@VirginAmerica it's really aggressive to blast...</td>\n",
       "      <td>NaN</td>\n",
       "      <td>2015-02-24 11:15:36 -0800</td>\n",
       "      <td>NaN</td>\n",
       "      <td>Pacific Time (US &amp; Canada)</td>\n",
       "    </tr>\n",
       "    <tr>\n",
       "      <th>4</th>\n",
       "      <td>570300817074462722</td>\n",
       "      <td>negative</td>\n",
       "      <td>1.0000</td>\n",
       "      <td>Can't Tell</td>\n",
       "      <td>1.0000</td>\n",
       "      <td>Virgin America</td>\n",
       "      <td>NaN</td>\n",
       "      <td>jnardino</td>\n",
       "      <td>NaN</td>\n",
       "      <td>0</td>\n",
       "      <td>@VirginAmerica and it's a really big bad thing...</td>\n",
       "      <td>NaN</td>\n",
       "      <td>2015-02-24 11:14:45 -0800</td>\n",
       "      <td>NaN</td>\n",
       "      <td>Pacific Time (US &amp; Canada)</td>\n",
       "    </tr>\n",
       "  </tbody>\n",
       "</table>\n",
       "</div>"
      ],
      "text/plain": [
       "             tweet_id airline_sentiment  airline_sentiment_confidence  \\\n",
       "0  570306133677760513           neutral                        1.0000   \n",
       "1  570301130888122368          positive                        0.3486   \n",
       "2  570301083672813571           neutral                        0.6837   \n",
       "3  570301031407624196          negative                        1.0000   \n",
       "4  570300817074462722          negative                        1.0000   \n",
       "\n",
       "  negativereason  negativereason_confidence         airline  \\\n",
       "0            NaN                        NaN  Virgin America   \n",
       "1            NaN                     0.0000  Virgin America   \n",
       "2            NaN                        NaN  Virgin America   \n",
       "3     Bad Flight                     0.7033  Virgin America   \n",
       "4     Can't Tell                     1.0000  Virgin America   \n",
       "\n",
       "  airline_sentiment_gold        name negativereason_gold  retweet_count  \\\n",
       "0                    NaN     cairdin                 NaN              0   \n",
       "1                    NaN    jnardino                 NaN              0   \n",
       "2                    NaN  yvonnalynn                 NaN              0   \n",
       "3                    NaN    jnardino                 NaN              0   \n",
       "4                    NaN    jnardino                 NaN              0   \n",
       "\n",
       "                                                text tweet_coord  \\\n",
       "0                @VirginAmerica What @dhepburn said.         NaN   \n",
       "1  @VirginAmerica plus you've added commercials t...         NaN   \n",
       "2  @VirginAmerica I didn't today... Must mean I n...         NaN   \n",
       "3  @VirginAmerica it's really aggressive to blast...         NaN   \n",
       "4  @VirginAmerica and it's a really big bad thing...         NaN   \n",
       "\n",
       "               tweet_created tweet_location               user_timezone  \n",
       "0  2015-02-24 11:35:52 -0800            NaN  Eastern Time (US & Canada)  \n",
       "1  2015-02-24 11:15:59 -0800            NaN  Pacific Time (US & Canada)  \n",
       "2  2015-02-24 11:15:48 -0800      Lets Play  Central Time (US & Canada)  \n",
       "3  2015-02-24 11:15:36 -0800            NaN  Pacific Time (US & Canada)  \n",
       "4  2015-02-24 11:14:45 -0800            NaN  Pacific Time (US & Canada)  "
      ]
     },
     "execution_count": 458,
     "metadata": {},
     "output_type": "execute_result"
    }
   ],
   "source": [
    "\n",
    "data = pd.read_csv('twitter-airline-sentiment/Tweets.csv')\n",
    "\n",
    "data.head()"
   ]
  },
  {
   "cell_type": "code",
   "execution_count": 459,
   "metadata": {},
   "outputs": [
    {
     "data": {
      "text/plain": [
       "Index(['tweet_id', 'airline_sentiment', 'airline_sentiment_confidence',\n",
       "       'negativereason', 'negativereason_confidence', 'airline',\n",
       "       'airline_sentiment_gold', 'name', 'negativereason_gold',\n",
       "       'retweet_count', 'text', 'tweet_coord', 'tweet_created',\n",
       "       'tweet_location', 'user_timezone'],\n",
       "      dtype='object')"
      ]
     },
     "execution_count": 459,
     "metadata": {},
     "output_type": "execute_result"
    }
   ],
   "source": [
    "data.columns"
   ]
  },
  {
   "cell_type": "code",
   "execution_count": 460,
   "metadata": {},
   "outputs": [
    {
     "name": "stdout",
     "output_type": "stream",
     "text": [
      "<class 'pandas.core.frame.DataFrame'>\n",
      "RangeIndex: 14640 entries, 0 to 14639\n",
      "Data columns (total 15 columns):\n",
      " #   Column                        Non-Null Count  Dtype  \n",
      "---  ------                        --------------  -----  \n",
      " 0   tweet_id                      14640 non-null  int64  \n",
      " 1   airline_sentiment             14640 non-null  object \n",
      " 2   airline_sentiment_confidence  14640 non-null  float64\n",
      " 3   negativereason                9178 non-null   object \n",
      " 4   negativereason_confidence     10522 non-null  float64\n",
      " 5   airline                       14640 non-null  object \n",
      " 6   airline_sentiment_gold        40 non-null     object \n",
      " 7   name                          14640 non-null  object \n",
      " 8   negativereason_gold           32 non-null     object \n",
      " 9   retweet_count                 14640 non-null  int64  \n",
      " 10  text                          14640 non-null  object \n",
      " 11  tweet_coord                   1019 non-null   object \n",
      " 12  tweet_created                 14640 non-null  object \n",
      " 13  tweet_location                9907 non-null   object \n",
      " 14  user_timezone                 9820 non-null   object \n",
      "dtypes: float64(2), int64(2), object(11)\n",
      "memory usage: 1.7+ MB\n"
     ]
    }
   ],
   "source": [
    "data.info()"
   ]
  },
  {
   "cell_type": "code",
   "execution_count": 461,
   "metadata": {},
   "outputs": [
    {
     "data": {
      "text/plain": [
       "tweet_id                            0\n",
       "airline_sentiment                   0\n",
       "airline_sentiment_confidence        0\n",
       "negativereason                   5462\n",
       "negativereason_confidence        4118\n",
       "airline                             0\n",
       "airline_sentiment_gold          14600\n",
       "name                                0\n",
       "negativereason_gold             14608\n",
       "retweet_count                       0\n",
       "text                                0\n",
       "tweet_coord                     13621\n",
       "tweet_created                       0\n",
       "tweet_location                   4733\n",
       "user_timezone                    4820\n",
       "dtype: int64"
      ]
     },
     "execution_count": 461,
     "metadata": {},
     "output_type": "execute_result"
    }
   ],
   "source": [
    "data.isnull().sum()"
   ]
  },
  {
   "cell_type": "markdown",
   "metadata": {},
   "source": [
    "## **Preprocessing**"
   ]
  },
  {
   "cell_type": "code",
   "execution_count": 462,
   "metadata": {},
   "outputs": [],
   "source": [
    "data['tweet_date'] = pd.to_datetime(data['tweet_created']).dt.date\n"
   ]
  },
  {
   "cell_type": "code",
   "execution_count": 463,
   "metadata": {},
   "outputs": [],
   "source": [
    "# nombre de tweet par date \n",
    "nb_twt_date = data.groupby('tweet_date').size()"
   ]
  },
  {
   "cell_type": "code",
   "execution_count": 464,
   "metadata": {},
   "outputs": [
    {
     "name": "stdout",
     "output_type": "stream",
     "text": [
      "Percentage of null or na values in each column of df:\n",
      "negativereason_gold             99.78\n",
      "airline_sentiment_gold          99.73\n",
      "tweet_coord                     93.04\n",
      "negativereason                  37.31\n",
      "user_timezone                   32.92\n",
      "tweet_location                  32.33\n",
      "negativereason_confidence       28.13\n",
      "tweet_id                         0.00\n",
      "airline_sentiment                0.00\n",
      "airline_sentiment_confidence     0.00\n",
      "airline                          0.00\n",
      "name                             0.00\n",
      "retweet_count                    0.00\n",
      "text                             0.00\n",
      "tweet_created                    0.00\n",
      "tweet_date                       0.00\n",
      "dtype: float64\n"
     ]
    }
   ],
   "source": [
    "import pandas as pd\n",
    "\n",
    "# Affichage du pourcentage de valeurs manquantes par colonne dans le DataFrame\n",
    "print(\"Percentage of null or na values in each column of df:\")\n",
    "missing_percentage = (data.isna().sum() / len(data) * 100).round(2)\n",
    "print(missing_percentage.sort_values(ascending=False))\n"
   ]
  },
  {
   "cell_type": "code",
   "execution_count": 465,
   "metadata": {},
   "outputs": [
    {
     "data": {
      "application/vnd.plotly.v1+json": {
       "config": {
        "plotlyServerURL": "https://plot.ly"
       },
       "data": [
        {
         "alignmentgroup": "True",
         "hovertemplate": "Column=%{x}<br>% of Missing Values=%{text}<extra></extra>",
         "legendgroup": "",
         "marker": {
          "color": "#636efa",
          "pattern": {
           "shape": ""
          }
         },
         "name": "",
         "offsetgroup": "",
         "orientation": "v",
         "showlegend": false,
         "text": [
          0,
          0,
          0,
          37.31,
          28.13,
          0,
          99.73,
          0,
          99.78,
          0,
          0,
          93.04,
          0,
          32.33,
          32.92,
          0
         ],
         "textposition": "outside",
         "texttemplate": "%{text:.2f}",
         "type": "bar",
         "x": [
          "tweet_id",
          "airline_sentiment",
          "airline_sentiment_confidence",
          "negativereason",
          "negativereason_confidence",
          "airline",
          "airline_sentiment_gold",
          "name",
          "negativereason_gold",
          "retweet_count",
          "text",
          "tweet_coord",
          "tweet_created",
          "tweet_location",
          "user_timezone",
          "tweet_date"
         ],
         "xaxis": "x",
         "y": [
          0,
          0,
          0,
          37.31,
          28.13,
          0,
          99.73,
          0,
          99.78,
          0,
          0,
          93.04,
          0,
          32.33,
          32.92,
          0
         ],
         "yaxis": "y"
        }
       ],
       "layout": {
        "barmode": "relative",
        "legend": {
         "tracegroupgap": 0
        },
        "template": {
         "data": {
          "bar": [
           {
            "error_x": {
             "color": "#2a3f5f"
            },
            "error_y": {
             "color": "#2a3f5f"
            },
            "marker": {
             "line": {
              "color": "#E5ECF6",
              "width": 0.5
             },
             "pattern": {
              "fillmode": "overlay",
              "size": 10,
              "solidity": 0.2
             }
            },
            "type": "bar"
           }
          ],
          "barpolar": [
           {
            "marker": {
             "line": {
              "color": "#E5ECF6",
              "width": 0.5
             },
             "pattern": {
              "fillmode": "overlay",
              "size": 10,
              "solidity": 0.2
             }
            },
            "type": "barpolar"
           }
          ],
          "carpet": [
           {
            "aaxis": {
             "endlinecolor": "#2a3f5f",
             "gridcolor": "white",
             "linecolor": "white",
             "minorgridcolor": "white",
             "startlinecolor": "#2a3f5f"
            },
            "baxis": {
             "endlinecolor": "#2a3f5f",
             "gridcolor": "white",
             "linecolor": "white",
             "minorgridcolor": "white",
             "startlinecolor": "#2a3f5f"
            },
            "type": "carpet"
           }
          ],
          "choropleth": [
           {
            "colorbar": {
             "outlinewidth": 0,
             "ticks": ""
            },
            "type": "choropleth"
           }
          ],
          "contour": [
           {
            "colorbar": {
             "outlinewidth": 0,
             "ticks": ""
            },
            "colorscale": [
             [
              0,
              "#0d0887"
             ],
             [
              0.1111111111111111,
              "#46039f"
             ],
             [
              0.2222222222222222,
              "#7201a8"
             ],
             [
              0.3333333333333333,
              "#9c179e"
             ],
             [
              0.4444444444444444,
              "#bd3786"
             ],
             [
              0.5555555555555556,
              "#d8576b"
             ],
             [
              0.6666666666666666,
              "#ed7953"
             ],
             [
              0.7777777777777778,
              "#fb9f3a"
             ],
             [
              0.8888888888888888,
              "#fdca26"
             ],
             [
              1,
              "#f0f921"
             ]
            ],
            "type": "contour"
           }
          ],
          "contourcarpet": [
           {
            "colorbar": {
             "outlinewidth": 0,
             "ticks": ""
            },
            "type": "contourcarpet"
           }
          ],
          "heatmap": [
           {
            "colorbar": {
             "outlinewidth": 0,
             "ticks": ""
            },
            "colorscale": [
             [
              0,
              "#0d0887"
             ],
             [
              0.1111111111111111,
              "#46039f"
             ],
             [
              0.2222222222222222,
              "#7201a8"
             ],
             [
              0.3333333333333333,
              "#9c179e"
             ],
             [
              0.4444444444444444,
              "#bd3786"
             ],
             [
              0.5555555555555556,
              "#d8576b"
             ],
             [
              0.6666666666666666,
              "#ed7953"
             ],
             [
              0.7777777777777778,
              "#fb9f3a"
             ],
             [
              0.8888888888888888,
              "#fdca26"
             ],
             [
              1,
              "#f0f921"
             ]
            ],
            "type": "heatmap"
           }
          ],
          "heatmapgl": [
           {
            "colorbar": {
             "outlinewidth": 0,
             "ticks": ""
            },
            "colorscale": [
             [
              0,
              "#0d0887"
             ],
             [
              0.1111111111111111,
              "#46039f"
             ],
             [
              0.2222222222222222,
              "#7201a8"
             ],
             [
              0.3333333333333333,
              "#9c179e"
             ],
             [
              0.4444444444444444,
              "#bd3786"
             ],
             [
              0.5555555555555556,
              "#d8576b"
             ],
             [
              0.6666666666666666,
              "#ed7953"
             ],
             [
              0.7777777777777778,
              "#fb9f3a"
             ],
             [
              0.8888888888888888,
              "#fdca26"
             ],
             [
              1,
              "#f0f921"
             ]
            ],
            "type": "heatmapgl"
           }
          ],
          "histogram": [
           {
            "marker": {
             "pattern": {
              "fillmode": "overlay",
              "size": 10,
              "solidity": 0.2
             }
            },
            "type": "histogram"
           }
          ],
          "histogram2d": [
           {
            "colorbar": {
             "outlinewidth": 0,
             "ticks": ""
            },
            "colorscale": [
             [
              0,
              "#0d0887"
             ],
             [
              0.1111111111111111,
              "#46039f"
             ],
             [
              0.2222222222222222,
              "#7201a8"
             ],
             [
              0.3333333333333333,
              "#9c179e"
             ],
             [
              0.4444444444444444,
              "#bd3786"
             ],
             [
              0.5555555555555556,
              "#d8576b"
             ],
             [
              0.6666666666666666,
              "#ed7953"
             ],
             [
              0.7777777777777778,
              "#fb9f3a"
             ],
             [
              0.8888888888888888,
              "#fdca26"
             ],
             [
              1,
              "#f0f921"
             ]
            ],
            "type": "histogram2d"
           }
          ],
          "histogram2dcontour": [
           {
            "colorbar": {
             "outlinewidth": 0,
             "ticks": ""
            },
            "colorscale": [
             [
              0,
              "#0d0887"
             ],
             [
              0.1111111111111111,
              "#46039f"
             ],
             [
              0.2222222222222222,
              "#7201a8"
             ],
             [
              0.3333333333333333,
              "#9c179e"
             ],
             [
              0.4444444444444444,
              "#bd3786"
             ],
             [
              0.5555555555555556,
              "#d8576b"
             ],
             [
              0.6666666666666666,
              "#ed7953"
             ],
             [
              0.7777777777777778,
              "#fb9f3a"
             ],
             [
              0.8888888888888888,
              "#fdca26"
             ],
             [
              1,
              "#f0f921"
             ]
            ],
            "type": "histogram2dcontour"
           }
          ],
          "mesh3d": [
           {
            "colorbar": {
             "outlinewidth": 0,
             "ticks": ""
            },
            "type": "mesh3d"
           }
          ],
          "parcoords": [
           {
            "line": {
             "colorbar": {
              "outlinewidth": 0,
              "ticks": ""
             }
            },
            "type": "parcoords"
           }
          ],
          "pie": [
           {
            "automargin": true,
            "type": "pie"
           }
          ],
          "scatter": [
           {
            "fillpattern": {
             "fillmode": "overlay",
             "size": 10,
             "solidity": 0.2
            },
            "type": "scatter"
           }
          ],
          "scatter3d": [
           {
            "line": {
             "colorbar": {
              "outlinewidth": 0,
              "ticks": ""
             }
            },
            "marker": {
             "colorbar": {
              "outlinewidth": 0,
              "ticks": ""
             }
            },
            "type": "scatter3d"
           }
          ],
          "scattercarpet": [
           {
            "marker": {
             "colorbar": {
              "outlinewidth": 0,
              "ticks": ""
             }
            },
            "type": "scattercarpet"
           }
          ],
          "scattergeo": [
           {
            "marker": {
             "colorbar": {
              "outlinewidth": 0,
              "ticks": ""
             }
            },
            "type": "scattergeo"
           }
          ],
          "scattergl": [
           {
            "marker": {
             "colorbar": {
              "outlinewidth": 0,
              "ticks": ""
             }
            },
            "type": "scattergl"
           }
          ],
          "scattermapbox": [
           {
            "marker": {
             "colorbar": {
              "outlinewidth": 0,
              "ticks": ""
             }
            },
            "type": "scattermapbox"
           }
          ],
          "scatterpolar": [
           {
            "marker": {
             "colorbar": {
              "outlinewidth": 0,
              "ticks": ""
             }
            },
            "type": "scatterpolar"
           }
          ],
          "scatterpolargl": [
           {
            "marker": {
             "colorbar": {
              "outlinewidth": 0,
              "ticks": ""
             }
            },
            "type": "scatterpolargl"
           }
          ],
          "scatterternary": [
           {
            "marker": {
             "colorbar": {
              "outlinewidth": 0,
              "ticks": ""
             }
            },
            "type": "scatterternary"
           }
          ],
          "surface": [
           {
            "colorbar": {
             "outlinewidth": 0,
             "ticks": ""
            },
            "colorscale": [
             [
              0,
              "#0d0887"
             ],
             [
              0.1111111111111111,
              "#46039f"
             ],
             [
              0.2222222222222222,
              "#7201a8"
             ],
             [
              0.3333333333333333,
              "#9c179e"
             ],
             [
              0.4444444444444444,
              "#bd3786"
             ],
             [
              0.5555555555555556,
              "#d8576b"
             ],
             [
              0.6666666666666666,
              "#ed7953"
             ],
             [
              0.7777777777777778,
              "#fb9f3a"
             ],
             [
              0.8888888888888888,
              "#fdca26"
             ],
             [
              1,
              "#f0f921"
             ]
            ],
            "type": "surface"
           }
          ],
          "table": [
           {
            "cells": {
             "fill": {
              "color": "#EBF0F8"
             },
             "line": {
              "color": "white"
             }
            },
            "header": {
             "fill": {
              "color": "#C8D4E3"
             },
             "line": {
              "color": "white"
             }
            },
            "type": "table"
           }
          ]
         },
         "layout": {
          "annotationdefaults": {
           "arrowcolor": "#2a3f5f",
           "arrowhead": 0,
           "arrowwidth": 1
          },
          "autotypenumbers": "strict",
          "coloraxis": {
           "colorbar": {
            "outlinewidth": 0,
            "ticks": ""
           }
          },
          "colorscale": {
           "diverging": [
            [
             0,
             "#8e0152"
            ],
            [
             0.1,
             "#c51b7d"
            ],
            [
             0.2,
             "#de77ae"
            ],
            [
             0.3,
             "#f1b6da"
            ],
            [
             0.4,
             "#fde0ef"
            ],
            [
             0.5,
             "#f7f7f7"
            ],
            [
             0.6,
             "#e6f5d0"
            ],
            [
             0.7,
             "#b8e186"
            ],
            [
             0.8,
             "#7fbc41"
            ],
            [
             0.9,
             "#4d9221"
            ],
            [
             1,
             "#276419"
            ]
           ],
           "sequential": [
            [
             0,
             "#0d0887"
            ],
            [
             0.1111111111111111,
             "#46039f"
            ],
            [
             0.2222222222222222,
             "#7201a8"
            ],
            [
             0.3333333333333333,
             "#9c179e"
            ],
            [
             0.4444444444444444,
             "#bd3786"
            ],
            [
             0.5555555555555556,
             "#d8576b"
            ],
            [
             0.6666666666666666,
             "#ed7953"
            ],
            [
             0.7777777777777778,
             "#fb9f3a"
            ],
            [
             0.8888888888888888,
             "#fdca26"
            ],
            [
             1,
             "#f0f921"
            ]
           ],
           "sequentialminus": [
            [
             0,
             "#0d0887"
            ],
            [
             0.1111111111111111,
             "#46039f"
            ],
            [
             0.2222222222222222,
             "#7201a8"
            ],
            [
             0.3333333333333333,
             "#9c179e"
            ],
            [
             0.4444444444444444,
             "#bd3786"
            ],
            [
             0.5555555555555556,
             "#d8576b"
            ],
            [
             0.6666666666666666,
             "#ed7953"
            ],
            [
             0.7777777777777778,
             "#fb9f3a"
            ],
            [
             0.8888888888888888,
             "#fdca26"
            ],
            [
             1,
             "#f0f921"
            ]
           ]
          },
          "colorway": [
           "#636efa",
           "#EF553B",
           "#00cc96",
           "#ab63fa",
           "#FFA15A",
           "#19d3f3",
           "#FF6692",
           "#B6E880",
           "#FF97FF",
           "#FECB52"
          ],
          "font": {
           "color": "#2a3f5f"
          },
          "geo": {
           "bgcolor": "white",
           "lakecolor": "white",
           "landcolor": "#E5ECF6",
           "showlakes": true,
           "showland": true,
           "subunitcolor": "white"
          },
          "hoverlabel": {
           "align": "left"
          },
          "hovermode": "closest",
          "mapbox": {
           "style": "light"
          },
          "paper_bgcolor": "white",
          "plot_bgcolor": "#E5ECF6",
          "polar": {
           "angularaxis": {
            "gridcolor": "white",
            "linecolor": "white",
            "ticks": ""
           },
           "bgcolor": "#E5ECF6",
           "radialaxis": {
            "gridcolor": "white",
            "linecolor": "white",
            "ticks": ""
           }
          },
          "scene": {
           "xaxis": {
            "backgroundcolor": "#E5ECF6",
            "gridcolor": "white",
            "gridwidth": 2,
            "linecolor": "white",
            "showbackground": true,
            "ticks": "",
            "zerolinecolor": "white"
           },
           "yaxis": {
            "backgroundcolor": "#E5ECF6",
            "gridcolor": "white",
            "gridwidth": 2,
            "linecolor": "white",
            "showbackground": true,
            "ticks": "",
            "zerolinecolor": "white"
           },
           "zaxis": {
            "backgroundcolor": "#E5ECF6",
            "gridcolor": "white",
            "gridwidth": 2,
            "linecolor": "white",
            "showbackground": true,
            "ticks": "",
            "zerolinecolor": "white"
           }
          },
          "shapedefaults": {
           "line": {
            "color": "#2a3f5f"
           }
          },
          "ternary": {
           "aaxis": {
            "gridcolor": "white",
            "linecolor": "white",
            "ticks": ""
           },
           "baxis": {
            "gridcolor": "white",
            "linecolor": "white",
            "ticks": ""
           },
           "bgcolor": "#E5ECF6",
           "caxis": {
            "gridcolor": "white",
            "linecolor": "white",
            "ticks": ""
           }
          },
          "title": {
           "x": 0.05
          },
          "xaxis": {
           "automargin": true,
           "gridcolor": "white",
           "linecolor": "white",
           "ticks": "",
           "title": {
            "standoff": 15
           },
           "zerolinecolor": "white",
           "zerolinewidth": 2
          },
          "yaxis": {
           "automargin": true,
           "gridcolor": "white",
           "linecolor": "white",
           "ticks": "",
           "title": {
            "standoff": 15
           },
           "zerolinecolor": "white",
           "zerolinewidth": 2
          }
         }
        },
        "title": {
         "text": "Percentage of Missing Values by Column in DataFrame"
        },
        "uniformtext": {
         "minsize": 8,
         "mode": "hide"
        },
        "xaxis": {
         "anchor": "y",
         "domain": [
          0,
          1
         ],
         "tickangle": -45,
         "title": {
          "text": "Column"
         }
        },
        "yaxis": {
         "anchor": "x",
         "domain": [
          0,
          1
         ],
         "title": {
          "text": "% of Missing Values"
         }
        }
       }
      }
     },
     "metadata": {},
     "output_type": "display_data"
    }
   ],
   "source": [
    "import plotly.express as px\n",
    "import pandas as pd\n",
    "\n",
    "# Calcul du pourcentage de valeurs manquantes par colonne\n",
    "missing_percentage = (data.isna().sum() / len(data) * 100).round(2)\n",
    "missing_percentage = missing_percentage.reset_index()\n",
    "missing_percentage.columns = ['column', 'missing_percentage']\n",
    "\n",
    "# Création du graphique à barres avec Plotly Express\n",
    "fig = px.bar(missing_percentage, \n",
    "             x='column', \n",
    "             y='missing_percentage', \n",
    "             title='Percentage of Missing Values by Column in DataFrame',\n",
    "             labels={'missing_percentage': '% of Missing Values', 'column': 'Column'},\n",
    "             text='missing_percentage')\n",
    "\n",
    "fig.update_traces(texttemplate='%{text:.2f}', textposition='outside')\n",
    "fig.update_layout(uniformtext_minsize=8, uniformtext_mode='hide', xaxis_tickangle=-45)\n",
    "\n",
    "# Afficher le graphique\n",
    "fig.show()\n"
   ]
  },
  {
   "cell_type": "code",
   "execution_count": 466,
   "metadata": {},
   "outputs": [
    {
     "data": {
      "text/plain": [
       "Index(['tweet_id', 'airline_sentiment', 'airline_sentiment_confidence',\n",
       "       'negativereason', 'negativereason_confidence', 'airline',\n",
       "       'airline_sentiment_gold', 'name', 'negativereason_gold',\n",
       "       'retweet_count', 'text', 'tweet_coord', 'tweet_created',\n",
       "       'tweet_location', 'user_timezone', 'tweet_date'],\n",
       "      dtype='object')"
      ]
     },
     "execution_count": 466,
     "metadata": {},
     "output_type": "execute_result"
    }
   ],
   "source": [
    "data.columns"
   ]
  },
  {
   "cell_type": "code",
   "execution_count": 467,
   "metadata": {},
   "outputs": [],
   "source": [
    "del data['tweet_coord']\n",
    "del data['airline_sentiment_gold']\n",
    "del data['negativereason_gold']\n"
   ]
  },
  {
   "cell_type": "markdown",
   "metadata": {},
   "source": [
    "### Analyse exploratoire"
   ]
  },
  {
   "cell_type": "code",
   "execution_count": 468,
   "metadata": {},
   "outputs": [
    {
     "data": {
      "application/vnd.plotly.v1+json": {
       "config": {
        "plotlyServerURL": "https://plot.ly"
       },
       "data": [
        {
         "alignmentgroup": "True",
         "hovertemplate": "Sentiment=%{x}<br>Nombre=%{text}<extra></extra>",
         "legendgroup": "negative",
         "marker": {
          "color": "red",
          "pattern": {
           "shape": ""
          }
         },
         "name": "negative",
         "offsetgroup": "negative",
         "orientation": "v",
         "showlegend": true,
         "text": [
          9178
         ],
         "textposition": "outside",
         "type": "bar",
         "x": [
          "negative"
         ],
         "xaxis": "x",
         "y": [
          9178
         ],
         "yaxis": "y"
        },
        {
         "alignmentgroup": "True",
         "hovertemplate": "Sentiment=%{x}<br>Nombre=%{text}<extra></extra>",
         "legendgroup": "neutral",
         "marker": {
          "color": "blue",
          "pattern": {
           "shape": ""
          }
         },
         "name": "neutral",
         "offsetgroup": "neutral",
         "orientation": "v",
         "showlegend": true,
         "text": [
          3099
         ],
         "textposition": "outside",
         "type": "bar",
         "x": [
          "neutral"
         ],
         "xaxis": "x",
         "y": [
          3099
         ],
         "yaxis": "y"
        },
        {
         "alignmentgroup": "True",
         "hovertemplate": "Sentiment=%{x}<br>Nombre=%{text}<extra></extra>",
         "legendgroup": "positive",
         "marker": {
          "color": "green",
          "pattern": {
           "shape": ""
          }
         },
         "name": "positive",
         "offsetgroup": "positive",
         "orientation": "v",
         "showlegend": true,
         "text": [
          2363
         ],
         "textposition": "outside",
         "type": "bar",
         "x": [
          "positive"
         ],
         "xaxis": "x",
         "y": [
          2363
         ],
         "yaxis": "y"
        }
       ],
       "layout": {
        "barmode": "relative",
        "legend": {
         "title": {
          "text": "Sentiment"
         },
         "tracegroupgap": 0
        },
        "plot_bgcolor": "white",
        "template": {
         "data": {
          "bar": [
           {
            "error_x": {
             "color": "#2a3f5f"
            },
            "error_y": {
             "color": "#2a3f5f"
            },
            "marker": {
             "line": {
              "color": "#E5ECF6",
              "width": 0.5
             },
             "pattern": {
              "fillmode": "overlay",
              "size": 10,
              "solidity": 0.2
             }
            },
            "type": "bar"
           }
          ],
          "barpolar": [
           {
            "marker": {
             "line": {
              "color": "#E5ECF6",
              "width": 0.5
             },
             "pattern": {
              "fillmode": "overlay",
              "size": 10,
              "solidity": 0.2
             }
            },
            "type": "barpolar"
           }
          ],
          "carpet": [
           {
            "aaxis": {
             "endlinecolor": "#2a3f5f",
             "gridcolor": "white",
             "linecolor": "white",
             "minorgridcolor": "white",
             "startlinecolor": "#2a3f5f"
            },
            "baxis": {
             "endlinecolor": "#2a3f5f",
             "gridcolor": "white",
             "linecolor": "white",
             "minorgridcolor": "white",
             "startlinecolor": "#2a3f5f"
            },
            "type": "carpet"
           }
          ],
          "choropleth": [
           {
            "colorbar": {
             "outlinewidth": 0,
             "ticks": ""
            },
            "type": "choropleth"
           }
          ],
          "contour": [
           {
            "colorbar": {
             "outlinewidth": 0,
             "ticks": ""
            },
            "colorscale": [
             [
              0,
              "#0d0887"
             ],
             [
              0.1111111111111111,
              "#46039f"
             ],
             [
              0.2222222222222222,
              "#7201a8"
             ],
             [
              0.3333333333333333,
              "#9c179e"
             ],
             [
              0.4444444444444444,
              "#bd3786"
             ],
             [
              0.5555555555555556,
              "#d8576b"
             ],
             [
              0.6666666666666666,
              "#ed7953"
             ],
             [
              0.7777777777777778,
              "#fb9f3a"
             ],
             [
              0.8888888888888888,
              "#fdca26"
             ],
             [
              1,
              "#f0f921"
             ]
            ],
            "type": "contour"
           }
          ],
          "contourcarpet": [
           {
            "colorbar": {
             "outlinewidth": 0,
             "ticks": ""
            },
            "type": "contourcarpet"
           }
          ],
          "heatmap": [
           {
            "colorbar": {
             "outlinewidth": 0,
             "ticks": ""
            },
            "colorscale": [
             [
              0,
              "#0d0887"
             ],
             [
              0.1111111111111111,
              "#46039f"
             ],
             [
              0.2222222222222222,
              "#7201a8"
             ],
             [
              0.3333333333333333,
              "#9c179e"
             ],
             [
              0.4444444444444444,
              "#bd3786"
             ],
             [
              0.5555555555555556,
              "#d8576b"
             ],
             [
              0.6666666666666666,
              "#ed7953"
             ],
             [
              0.7777777777777778,
              "#fb9f3a"
             ],
             [
              0.8888888888888888,
              "#fdca26"
             ],
             [
              1,
              "#f0f921"
             ]
            ],
            "type": "heatmap"
           }
          ],
          "heatmapgl": [
           {
            "colorbar": {
             "outlinewidth": 0,
             "ticks": ""
            },
            "colorscale": [
             [
              0,
              "#0d0887"
             ],
             [
              0.1111111111111111,
              "#46039f"
             ],
             [
              0.2222222222222222,
              "#7201a8"
             ],
             [
              0.3333333333333333,
              "#9c179e"
             ],
             [
              0.4444444444444444,
              "#bd3786"
             ],
             [
              0.5555555555555556,
              "#d8576b"
             ],
             [
              0.6666666666666666,
              "#ed7953"
             ],
             [
              0.7777777777777778,
              "#fb9f3a"
             ],
             [
              0.8888888888888888,
              "#fdca26"
             ],
             [
              1,
              "#f0f921"
             ]
            ],
            "type": "heatmapgl"
           }
          ],
          "histogram": [
           {
            "marker": {
             "pattern": {
              "fillmode": "overlay",
              "size": 10,
              "solidity": 0.2
             }
            },
            "type": "histogram"
           }
          ],
          "histogram2d": [
           {
            "colorbar": {
             "outlinewidth": 0,
             "ticks": ""
            },
            "colorscale": [
             [
              0,
              "#0d0887"
             ],
             [
              0.1111111111111111,
              "#46039f"
             ],
             [
              0.2222222222222222,
              "#7201a8"
             ],
             [
              0.3333333333333333,
              "#9c179e"
             ],
             [
              0.4444444444444444,
              "#bd3786"
             ],
             [
              0.5555555555555556,
              "#d8576b"
             ],
             [
              0.6666666666666666,
              "#ed7953"
             ],
             [
              0.7777777777777778,
              "#fb9f3a"
             ],
             [
              0.8888888888888888,
              "#fdca26"
             ],
             [
              1,
              "#f0f921"
             ]
            ],
            "type": "histogram2d"
           }
          ],
          "histogram2dcontour": [
           {
            "colorbar": {
             "outlinewidth": 0,
             "ticks": ""
            },
            "colorscale": [
             [
              0,
              "#0d0887"
             ],
             [
              0.1111111111111111,
              "#46039f"
             ],
             [
              0.2222222222222222,
              "#7201a8"
             ],
             [
              0.3333333333333333,
              "#9c179e"
             ],
             [
              0.4444444444444444,
              "#bd3786"
             ],
             [
              0.5555555555555556,
              "#d8576b"
             ],
             [
              0.6666666666666666,
              "#ed7953"
             ],
             [
              0.7777777777777778,
              "#fb9f3a"
             ],
             [
              0.8888888888888888,
              "#fdca26"
             ],
             [
              1,
              "#f0f921"
             ]
            ],
            "type": "histogram2dcontour"
           }
          ],
          "mesh3d": [
           {
            "colorbar": {
             "outlinewidth": 0,
             "ticks": ""
            },
            "type": "mesh3d"
           }
          ],
          "parcoords": [
           {
            "line": {
             "colorbar": {
              "outlinewidth": 0,
              "ticks": ""
             }
            },
            "type": "parcoords"
           }
          ],
          "pie": [
           {
            "automargin": true,
            "type": "pie"
           }
          ],
          "scatter": [
           {
            "fillpattern": {
             "fillmode": "overlay",
             "size": 10,
             "solidity": 0.2
            },
            "type": "scatter"
           }
          ],
          "scatter3d": [
           {
            "line": {
             "colorbar": {
              "outlinewidth": 0,
              "ticks": ""
             }
            },
            "marker": {
             "colorbar": {
              "outlinewidth": 0,
              "ticks": ""
             }
            },
            "type": "scatter3d"
           }
          ],
          "scattercarpet": [
           {
            "marker": {
             "colorbar": {
              "outlinewidth": 0,
              "ticks": ""
             }
            },
            "type": "scattercarpet"
           }
          ],
          "scattergeo": [
           {
            "marker": {
             "colorbar": {
              "outlinewidth": 0,
              "ticks": ""
             }
            },
            "type": "scattergeo"
           }
          ],
          "scattergl": [
           {
            "marker": {
             "colorbar": {
              "outlinewidth": 0,
              "ticks": ""
             }
            },
            "type": "scattergl"
           }
          ],
          "scattermapbox": [
           {
            "marker": {
             "colorbar": {
              "outlinewidth": 0,
              "ticks": ""
             }
            },
            "type": "scattermapbox"
           }
          ],
          "scatterpolar": [
           {
            "marker": {
             "colorbar": {
              "outlinewidth": 0,
              "ticks": ""
             }
            },
            "type": "scatterpolar"
           }
          ],
          "scatterpolargl": [
           {
            "marker": {
             "colorbar": {
              "outlinewidth": 0,
              "ticks": ""
             }
            },
            "type": "scatterpolargl"
           }
          ],
          "scatterternary": [
           {
            "marker": {
             "colorbar": {
              "outlinewidth": 0,
              "ticks": ""
             }
            },
            "type": "scatterternary"
           }
          ],
          "surface": [
           {
            "colorbar": {
             "outlinewidth": 0,
             "ticks": ""
            },
            "colorscale": [
             [
              0,
              "#0d0887"
             ],
             [
              0.1111111111111111,
              "#46039f"
             ],
             [
              0.2222222222222222,
              "#7201a8"
             ],
             [
              0.3333333333333333,
              "#9c179e"
             ],
             [
              0.4444444444444444,
              "#bd3786"
             ],
             [
              0.5555555555555556,
              "#d8576b"
             ],
             [
              0.6666666666666666,
              "#ed7953"
             ],
             [
              0.7777777777777778,
              "#fb9f3a"
             ],
             [
              0.8888888888888888,
              "#fdca26"
             ],
             [
              1,
              "#f0f921"
             ]
            ],
            "type": "surface"
           }
          ],
          "table": [
           {
            "cells": {
             "fill": {
              "color": "#EBF0F8"
             },
             "line": {
              "color": "white"
             }
            },
            "header": {
             "fill": {
              "color": "#C8D4E3"
             },
             "line": {
              "color": "white"
             }
            },
            "type": "table"
           }
          ]
         },
         "layout": {
          "annotationdefaults": {
           "arrowcolor": "#2a3f5f",
           "arrowhead": 0,
           "arrowwidth": 1
          },
          "autotypenumbers": "strict",
          "coloraxis": {
           "colorbar": {
            "outlinewidth": 0,
            "ticks": ""
           }
          },
          "colorscale": {
           "diverging": [
            [
             0,
             "#8e0152"
            ],
            [
             0.1,
             "#c51b7d"
            ],
            [
             0.2,
             "#de77ae"
            ],
            [
             0.3,
             "#f1b6da"
            ],
            [
             0.4,
             "#fde0ef"
            ],
            [
             0.5,
             "#f7f7f7"
            ],
            [
             0.6,
             "#e6f5d0"
            ],
            [
             0.7,
             "#b8e186"
            ],
            [
             0.8,
             "#7fbc41"
            ],
            [
             0.9,
             "#4d9221"
            ],
            [
             1,
             "#276419"
            ]
           ],
           "sequential": [
            [
             0,
             "#0d0887"
            ],
            [
             0.1111111111111111,
             "#46039f"
            ],
            [
             0.2222222222222222,
             "#7201a8"
            ],
            [
             0.3333333333333333,
             "#9c179e"
            ],
            [
             0.4444444444444444,
             "#bd3786"
            ],
            [
             0.5555555555555556,
             "#d8576b"
            ],
            [
             0.6666666666666666,
             "#ed7953"
            ],
            [
             0.7777777777777778,
             "#fb9f3a"
            ],
            [
             0.8888888888888888,
             "#fdca26"
            ],
            [
             1,
             "#f0f921"
            ]
           ],
           "sequentialminus": [
            [
             0,
             "#0d0887"
            ],
            [
             0.1111111111111111,
             "#46039f"
            ],
            [
             0.2222222222222222,
             "#7201a8"
            ],
            [
             0.3333333333333333,
             "#9c179e"
            ],
            [
             0.4444444444444444,
             "#bd3786"
            ],
            [
             0.5555555555555556,
             "#d8576b"
            ],
            [
             0.6666666666666666,
             "#ed7953"
            ],
            [
             0.7777777777777778,
             "#fb9f3a"
            ],
            [
             0.8888888888888888,
             "#fdca26"
            ],
            [
             1,
             "#f0f921"
            ]
           ]
          },
          "colorway": [
           "#636efa",
           "#EF553B",
           "#00cc96",
           "#ab63fa",
           "#FFA15A",
           "#19d3f3",
           "#FF6692",
           "#B6E880",
           "#FF97FF",
           "#FECB52"
          ],
          "font": {
           "color": "#2a3f5f"
          },
          "geo": {
           "bgcolor": "white",
           "lakecolor": "white",
           "landcolor": "#E5ECF6",
           "showlakes": true,
           "showland": true,
           "subunitcolor": "white"
          },
          "hoverlabel": {
           "align": "left"
          },
          "hovermode": "closest",
          "mapbox": {
           "style": "light"
          },
          "paper_bgcolor": "white",
          "plot_bgcolor": "#E5ECF6",
          "polar": {
           "angularaxis": {
            "gridcolor": "white",
            "linecolor": "white",
            "ticks": ""
           },
           "bgcolor": "#E5ECF6",
           "radialaxis": {
            "gridcolor": "white",
            "linecolor": "white",
            "ticks": ""
           }
          },
          "scene": {
           "xaxis": {
            "backgroundcolor": "#E5ECF6",
            "gridcolor": "white",
            "gridwidth": 2,
            "linecolor": "white",
            "showbackground": true,
            "ticks": "",
            "zerolinecolor": "white"
           },
           "yaxis": {
            "backgroundcolor": "#E5ECF6",
            "gridcolor": "white",
            "gridwidth": 2,
            "linecolor": "white",
            "showbackground": true,
            "ticks": "",
            "zerolinecolor": "white"
           },
           "zaxis": {
            "backgroundcolor": "#E5ECF6",
            "gridcolor": "white",
            "gridwidth": 2,
            "linecolor": "white",
            "showbackground": true,
            "ticks": "",
            "zerolinecolor": "white"
           }
          },
          "shapedefaults": {
           "line": {
            "color": "#2a3f5f"
           }
          },
          "ternary": {
           "aaxis": {
            "gridcolor": "white",
            "linecolor": "white",
            "ticks": ""
           },
           "baxis": {
            "gridcolor": "white",
            "linecolor": "white",
            "ticks": ""
           },
           "bgcolor": "#E5ECF6",
           "caxis": {
            "gridcolor": "white",
            "linecolor": "white",
            "ticks": ""
           }
          },
          "title": {
           "x": 0.05
          },
          "xaxis": {
           "automargin": true,
           "gridcolor": "white",
           "linecolor": "white",
           "ticks": "",
           "title": {
            "standoff": 15
           },
           "zerolinecolor": "white",
           "zerolinewidth": 2
          },
          "yaxis": {
           "automargin": true,
           "gridcolor": "white",
           "linecolor": "white",
           "ticks": "",
           "title": {
            "standoff": 15
           },
           "zerolinecolor": "white",
           "zerolinewidth": 2
          }
         }
        },
        "title": {
         "text": "Nombre de sentiments par type"
        },
        "xaxis": {
         "anchor": "y",
         "categoryarray": [
          "negative",
          "neutral",
          "positive"
         ],
         "categoryorder": "array",
         "domain": [
          0,
          1
         ],
         "tickangle": 0,
         "title": {
          "text": "Type de sentiment"
         }
        },
        "yaxis": {
         "anchor": "x",
         "domain": [
          0,
          1
         ],
         "title": {
          "text": "Nombre de sentiments"
         }
        }
       }
      }
     },
     "metadata": {},
     "output_type": "display_data"
    }
   ],
   "source": [
    "import plotly.express as px\n",
    "import pandas as pd\n",
    "\n",
    "# Comptage des différents types de sentiments\n",
    "counter = data['airline_sentiment'].value_counts().reset_index()\n",
    "counter.columns = ['Sentiment', 'Nombre']\n",
    "\n",
    "# Création d'un graphique à barres avec Plotly Express\n",
    "fig = px.bar(counter, \n",
    "             x='Sentiment', \n",
    "             y='Nombre',\n",
    "             text='Nombre',\n",
    "             color='Sentiment',  # Utilise la colonne 'Sentiment' pour la couleur\n",
    "             color_discrete_map={'negative': 'red', 'neutral': 'blue', 'positive': 'green'},  # Couleurs personnalisées\n",
    "             title='Nombre de sentiments par type')\n",
    "\n",
    "# Mise à jour des labels et des titres\n",
    "fig.update_layout(\n",
    "    xaxis_title='Type de sentiment',\n",
    "    yaxis_title='Nombre de sentiments',\n",
    "    xaxis_tickangle=0,  # Ajustement de l'angle des étiquettes de l'axe x\n",
    "    plot_bgcolor='white'  # Couleur de fond du graphique\n",
    ")\n",
    "\n",
    "# Mise à jour du texte des barres pour qu'il apparaisse à l'extérieur des barres\n",
    "fig.update_traces(textposition='outside')\n",
    "\n",
    "# Affichage du graphique\n",
    "fig.show()\n"
   ]
  },
  {
   "cell_type": "code",
   "execution_count": 469,
   "metadata": {},
   "outputs": [
    {
     "name": "stdout",
     "output_type": "stream",
     "text": [
      "Liste des compagnies aériennes : ['Virgin America' 'United' 'Southwest' 'Delta' 'US Airways' 'American']\n"
     ]
    }
   ],
   "source": [
    "# Extraction des compagnies aériennes uniques\n",
    "airlines = data['airline'].unique()\n",
    "\n",
    "# Affichage de la liste des compagnies aériennes\n",
    "print(\"Liste des compagnies aériennes :\", airlines)\n"
   ]
  },
  {
   "cell_type": "code",
   "execution_count": 470,
   "metadata": {},
   "outputs": [
    {
     "data": {
      "application/vnd.plotly.v1+json": {
       "config": {
        "plotlyServerURL": "https://plot.ly"
       },
       "data": [
        {
         "marker": {
          "color": [
           "red",
           "blue",
           "green"
          ]
         },
         "name": "Virgin America",
         "type": "bar",
         "x": [
          "négatif",
          "neutre",
          "positif"
         ],
         "xaxis": "x",
         "y": [
          181,
          171,
          152
         ],
         "yaxis": "y"
        },
        {
         "marker": {
          "color": [
           "red",
           "blue",
           "green"
          ]
         },
         "name": "United",
         "type": "bar",
         "x": [
          "négatif",
          "neutre",
          "positif"
         ],
         "xaxis": "x2",
         "y": [
          2633,
          697,
          492
         ],
         "yaxis": "y2"
        },
        {
         "marker": {
          "color": [
           "red",
           "blue",
           "green"
          ]
         },
         "name": "Southwest",
         "type": "bar",
         "x": [
          "négatif",
          "neutre",
          "positif"
         ],
         "xaxis": "x3",
         "y": [
          1186,
          664,
          570
         ],
         "yaxis": "y3"
        },
        {
         "marker": {
          "color": [
           "red",
           "blue",
           "green"
          ]
         },
         "name": "Delta",
         "type": "bar",
         "x": [
          "négatif",
          "neutre",
          "positif"
         ],
         "xaxis": "x4",
         "y": [
          955,
          723,
          544
         ],
         "yaxis": "y4"
        },
        {
         "marker": {
          "color": [
           "red",
           "blue",
           "green"
          ]
         },
         "name": "US Airways",
         "type": "bar",
         "x": [
          "négatif",
          "neutre",
          "positif"
         ],
         "xaxis": "x5",
         "y": [
          2263,
          381,
          269
         ],
         "yaxis": "y5"
        },
        {
         "marker": {
          "color": [
           "red",
           "blue",
           "green"
          ]
         },
         "name": "American",
         "type": "bar",
         "x": [
          "négatif",
          "neutre",
          "positif"
         ],
         "xaxis": "x6",
         "y": [
          1960,
          463,
          336
         ],
         "yaxis": "y6"
        }
       ],
       "layout": {
        "annotations": [
         {
          "font": {
           "size": 16
          },
          "showarrow": false,
          "text": "Sentiments pour Virgin America",
          "x": 0.14444444444444446,
          "xanchor": "center",
          "xref": "paper",
          "y": 1,
          "yanchor": "bottom",
          "yref": "paper"
         },
         {
          "font": {
           "size": 16
          },
          "showarrow": false,
          "text": "Sentiments pour United",
          "x": 0.5,
          "xanchor": "center",
          "xref": "paper",
          "y": 1,
          "yanchor": "bottom",
          "yref": "paper"
         },
         {
          "font": {
           "size": 16
          },
          "showarrow": false,
          "text": "Sentiments pour Southwest",
          "x": 0.8555555555555556,
          "xanchor": "center",
          "xref": "paper",
          "y": 1,
          "yanchor": "bottom",
          "yref": "paper"
         },
         {
          "font": {
           "size": 16
          },
          "showarrow": false,
          "text": "Sentiments pour Delta",
          "x": 0.14444444444444446,
          "xanchor": "center",
          "xref": "paper",
          "y": 0.375,
          "yanchor": "bottom",
          "yref": "paper"
         },
         {
          "font": {
           "size": 16
          },
          "showarrow": false,
          "text": "Sentiments pour US Airways",
          "x": 0.5,
          "xanchor": "center",
          "xref": "paper",
          "y": 0.375,
          "yanchor": "bottom",
          "yref": "paper"
         },
         {
          "font": {
           "size": 16
          },
          "showarrow": false,
          "text": "Sentiments pour American",
          "x": 0.8555555555555556,
          "xanchor": "center",
          "xref": "paper",
          "y": 0.375,
          "yanchor": "bottom",
          "yref": "paper"
         }
        ],
        "height": 800,
        "showlegend": false,
        "template": {
         "data": {
          "bar": [
           {
            "error_x": {
             "color": "#2a3f5f"
            },
            "error_y": {
             "color": "#2a3f5f"
            },
            "marker": {
             "line": {
              "color": "#E5ECF6",
              "width": 0.5
             },
             "pattern": {
              "fillmode": "overlay",
              "size": 10,
              "solidity": 0.2
             }
            },
            "type": "bar"
           }
          ],
          "barpolar": [
           {
            "marker": {
             "line": {
              "color": "#E5ECF6",
              "width": 0.5
             },
             "pattern": {
              "fillmode": "overlay",
              "size": 10,
              "solidity": 0.2
             }
            },
            "type": "barpolar"
           }
          ],
          "carpet": [
           {
            "aaxis": {
             "endlinecolor": "#2a3f5f",
             "gridcolor": "white",
             "linecolor": "white",
             "minorgridcolor": "white",
             "startlinecolor": "#2a3f5f"
            },
            "baxis": {
             "endlinecolor": "#2a3f5f",
             "gridcolor": "white",
             "linecolor": "white",
             "minorgridcolor": "white",
             "startlinecolor": "#2a3f5f"
            },
            "type": "carpet"
           }
          ],
          "choropleth": [
           {
            "colorbar": {
             "outlinewidth": 0,
             "ticks": ""
            },
            "type": "choropleth"
           }
          ],
          "contour": [
           {
            "colorbar": {
             "outlinewidth": 0,
             "ticks": ""
            },
            "colorscale": [
             [
              0,
              "#0d0887"
             ],
             [
              0.1111111111111111,
              "#46039f"
             ],
             [
              0.2222222222222222,
              "#7201a8"
             ],
             [
              0.3333333333333333,
              "#9c179e"
             ],
             [
              0.4444444444444444,
              "#bd3786"
             ],
             [
              0.5555555555555556,
              "#d8576b"
             ],
             [
              0.6666666666666666,
              "#ed7953"
             ],
             [
              0.7777777777777778,
              "#fb9f3a"
             ],
             [
              0.8888888888888888,
              "#fdca26"
             ],
             [
              1,
              "#f0f921"
             ]
            ],
            "type": "contour"
           }
          ],
          "contourcarpet": [
           {
            "colorbar": {
             "outlinewidth": 0,
             "ticks": ""
            },
            "type": "contourcarpet"
           }
          ],
          "heatmap": [
           {
            "colorbar": {
             "outlinewidth": 0,
             "ticks": ""
            },
            "colorscale": [
             [
              0,
              "#0d0887"
             ],
             [
              0.1111111111111111,
              "#46039f"
             ],
             [
              0.2222222222222222,
              "#7201a8"
             ],
             [
              0.3333333333333333,
              "#9c179e"
             ],
             [
              0.4444444444444444,
              "#bd3786"
             ],
             [
              0.5555555555555556,
              "#d8576b"
             ],
             [
              0.6666666666666666,
              "#ed7953"
             ],
             [
              0.7777777777777778,
              "#fb9f3a"
             ],
             [
              0.8888888888888888,
              "#fdca26"
             ],
             [
              1,
              "#f0f921"
             ]
            ],
            "type": "heatmap"
           }
          ],
          "heatmapgl": [
           {
            "colorbar": {
             "outlinewidth": 0,
             "ticks": ""
            },
            "colorscale": [
             [
              0,
              "#0d0887"
             ],
             [
              0.1111111111111111,
              "#46039f"
             ],
             [
              0.2222222222222222,
              "#7201a8"
             ],
             [
              0.3333333333333333,
              "#9c179e"
             ],
             [
              0.4444444444444444,
              "#bd3786"
             ],
             [
              0.5555555555555556,
              "#d8576b"
             ],
             [
              0.6666666666666666,
              "#ed7953"
             ],
             [
              0.7777777777777778,
              "#fb9f3a"
             ],
             [
              0.8888888888888888,
              "#fdca26"
             ],
             [
              1,
              "#f0f921"
             ]
            ],
            "type": "heatmapgl"
           }
          ],
          "histogram": [
           {
            "marker": {
             "pattern": {
              "fillmode": "overlay",
              "size": 10,
              "solidity": 0.2
             }
            },
            "type": "histogram"
           }
          ],
          "histogram2d": [
           {
            "colorbar": {
             "outlinewidth": 0,
             "ticks": ""
            },
            "colorscale": [
             [
              0,
              "#0d0887"
             ],
             [
              0.1111111111111111,
              "#46039f"
             ],
             [
              0.2222222222222222,
              "#7201a8"
             ],
             [
              0.3333333333333333,
              "#9c179e"
             ],
             [
              0.4444444444444444,
              "#bd3786"
             ],
             [
              0.5555555555555556,
              "#d8576b"
             ],
             [
              0.6666666666666666,
              "#ed7953"
             ],
             [
              0.7777777777777778,
              "#fb9f3a"
             ],
             [
              0.8888888888888888,
              "#fdca26"
             ],
             [
              1,
              "#f0f921"
             ]
            ],
            "type": "histogram2d"
           }
          ],
          "histogram2dcontour": [
           {
            "colorbar": {
             "outlinewidth": 0,
             "ticks": ""
            },
            "colorscale": [
             [
              0,
              "#0d0887"
             ],
             [
              0.1111111111111111,
              "#46039f"
             ],
             [
              0.2222222222222222,
              "#7201a8"
             ],
             [
              0.3333333333333333,
              "#9c179e"
             ],
             [
              0.4444444444444444,
              "#bd3786"
             ],
             [
              0.5555555555555556,
              "#d8576b"
             ],
             [
              0.6666666666666666,
              "#ed7953"
             ],
             [
              0.7777777777777778,
              "#fb9f3a"
             ],
             [
              0.8888888888888888,
              "#fdca26"
             ],
             [
              1,
              "#f0f921"
             ]
            ],
            "type": "histogram2dcontour"
           }
          ],
          "mesh3d": [
           {
            "colorbar": {
             "outlinewidth": 0,
             "ticks": ""
            },
            "type": "mesh3d"
           }
          ],
          "parcoords": [
           {
            "line": {
             "colorbar": {
              "outlinewidth": 0,
              "ticks": ""
             }
            },
            "type": "parcoords"
           }
          ],
          "pie": [
           {
            "automargin": true,
            "type": "pie"
           }
          ],
          "scatter": [
           {
            "fillpattern": {
             "fillmode": "overlay",
             "size": 10,
             "solidity": 0.2
            },
            "type": "scatter"
           }
          ],
          "scatter3d": [
           {
            "line": {
             "colorbar": {
              "outlinewidth": 0,
              "ticks": ""
             }
            },
            "marker": {
             "colorbar": {
              "outlinewidth": 0,
              "ticks": ""
             }
            },
            "type": "scatter3d"
           }
          ],
          "scattercarpet": [
           {
            "marker": {
             "colorbar": {
              "outlinewidth": 0,
              "ticks": ""
             }
            },
            "type": "scattercarpet"
           }
          ],
          "scattergeo": [
           {
            "marker": {
             "colorbar": {
              "outlinewidth": 0,
              "ticks": ""
             }
            },
            "type": "scattergeo"
           }
          ],
          "scattergl": [
           {
            "marker": {
             "colorbar": {
              "outlinewidth": 0,
              "ticks": ""
             }
            },
            "type": "scattergl"
           }
          ],
          "scattermapbox": [
           {
            "marker": {
             "colorbar": {
              "outlinewidth": 0,
              "ticks": ""
             }
            },
            "type": "scattermapbox"
           }
          ],
          "scatterpolar": [
           {
            "marker": {
             "colorbar": {
              "outlinewidth": 0,
              "ticks": ""
             }
            },
            "type": "scatterpolar"
           }
          ],
          "scatterpolargl": [
           {
            "marker": {
             "colorbar": {
              "outlinewidth": 0,
              "ticks": ""
             }
            },
            "type": "scatterpolargl"
           }
          ],
          "scatterternary": [
           {
            "marker": {
             "colorbar": {
              "outlinewidth": 0,
              "ticks": ""
             }
            },
            "type": "scatterternary"
           }
          ],
          "surface": [
           {
            "colorbar": {
             "outlinewidth": 0,
             "ticks": ""
            },
            "colorscale": [
             [
              0,
              "#0d0887"
             ],
             [
              0.1111111111111111,
              "#46039f"
             ],
             [
              0.2222222222222222,
              "#7201a8"
             ],
             [
              0.3333333333333333,
              "#9c179e"
             ],
             [
              0.4444444444444444,
              "#bd3786"
             ],
             [
              0.5555555555555556,
              "#d8576b"
             ],
             [
              0.6666666666666666,
              "#ed7953"
             ],
             [
              0.7777777777777778,
              "#fb9f3a"
             ],
             [
              0.8888888888888888,
              "#fdca26"
             ],
             [
              1,
              "#f0f921"
             ]
            ],
            "type": "surface"
           }
          ],
          "table": [
           {
            "cells": {
             "fill": {
              "color": "#EBF0F8"
             },
             "line": {
              "color": "white"
             }
            },
            "header": {
             "fill": {
              "color": "#C8D4E3"
             },
             "line": {
              "color": "white"
             }
            },
            "type": "table"
           }
          ]
         },
         "layout": {
          "annotationdefaults": {
           "arrowcolor": "#2a3f5f",
           "arrowhead": 0,
           "arrowwidth": 1
          },
          "autotypenumbers": "strict",
          "coloraxis": {
           "colorbar": {
            "outlinewidth": 0,
            "ticks": ""
           }
          },
          "colorscale": {
           "diverging": [
            [
             0,
             "#8e0152"
            ],
            [
             0.1,
             "#c51b7d"
            ],
            [
             0.2,
             "#de77ae"
            ],
            [
             0.3,
             "#f1b6da"
            ],
            [
             0.4,
             "#fde0ef"
            ],
            [
             0.5,
             "#f7f7f7"
            ],
            [
             0.6,
             "#e6f5d0"
            ],
            [
             0.7,
             "#b8e186"
            ],
            [
             0.8,
             "#7fbc41"
            ],
            [
             0.9,
             "#4d9221"
            ],
            [
             1,
             "#276419"
            ]
           ],
           "sequential": [
            [
             0,
             "#0d0887"
            ],
            [
             0.1111111111111111,
             "#46039f"
            ],
            [
             0.2222222222222222,
             "#7201a8"
            ],
            [
             0.3333333333333333,
             "#9c179e"
            ],
            [
             0.4444444444444444,
             "#bd3786"
            ],
            [
             0.5555555555555556,
             "#d8576b"
            ],
            [
             0.6666666666666666,
             "#ed7953"
            ],
            [
             0.7777777777777778,
             "#fb9f3a"
            ],
            [
             0.8888888888888888,
             "#fdca26"
            ],
            [
             1,
             "#f0f921"
            ]
           ],
           "sequentialminus": [
            [
             0,
             "#0d0887"
            ],
            [
             0.1111111111111111,
             "#46039f"
            ],
            [
             0.2222222222222222,
             "#7201a8"
            ],
            [
             0.3333333333333333,
             "#9c179e"
            ],
            [
             0.4444444444444444,
             "#bd3786"
            ],
            [
             0.5555555555555556,
             "#d8576b"
            ],
            [
             0.6666666666666666,
             "#ed7953"
            ],
            [
             0.7777777777777778,
             "#fb9f3a"
            ],
            [
             0.8888888888888888,
             "#fdca26"
            ],
            [
             1,
             "#f0f921"
            ]
           ]
          },
          "colorway": [
           "#636efa",
           "#EF553B",
           "#00cc96",
           "#ab63fa",
           "#FFA15A",
           "#19d3f3",
           "#FF6692",
           "#B6E880",
           "#FF97FF",
           "#FECB52"
          ],
          "font": {
           "color": "#2a3f5f"
          },
          "geo": {
           "bgcolor": "white",
           "lakecolor": "white",
           "landcolor": "#E5ECF6",
           "showlakes": true,
           "showland": true,
           "subunitcolor": "white"
          },
          "hoverlabel": {
           "align": "left"
          },
          "hovermode": "closest",
          "mapbox": {
           "style": "light"
          },
          "paper_bgcolor": "white",
          "plot_bgcolor": "#E5ECF6",
          "polar": {
           "angularaxis": {
            "gridcolor": "white",
            "linecolor": "white",
            "ticks": ""
           },
           "bgcolor": "#E5ECF6",
           "radialaxis": {
            "gridcolor": "white",
            "linecolor": "white",
            "ticks": ""
           }
          },
          "scene": {
           "xaxis": {
            "backgroundcolor": "#E5ECF6",
            "gridcolor": "white",
            "gridwidth": 2,
            "linecolor": "white",
            "showbackground": true,
            "ticks": "",
            "zerolinecolor": "white"
           },
           "yaxis": {
            "backgroundcolor": "#E5ECF6",
            "gridcolor": "white",
            "gridwidth": 2,
            "linecolor": "white",
            "showbackground": true,
            "ticks": "",
            "zerolinecolor": "white"
           },
           "zaxis": {
            "backgroundcolor": "#E5ECF6",
            "gridcolor": "white",
            "gridwidth": 2,
            "linecolor": "white",
            "showbackground": true,
            "ticks": "",
            "zerolinecolor": "white"
           }
          },
          "shapedefaults": {
           "line": {
            "color": "#2a3f5f"
           }
          },
          "ternary": {
           "aaxis": {
            "gridcolor": "white",
            "linecolor": "white",
            "ticks": ""
           },
           "baxis": {
            "gridcolor": "white",
            "linecolor": "white",
            "ticks": ""
           },
           "bgcolor": "#E5ECF6",
           "caxis": {
            "gridcolor": "white",
            "linecolor": "white",
            "ticks": ""
           }
          },
          "title": {
           "x": 0.05
          },
          "xaxis": {
           "automargin": true,
           "gridcolor": "white",
           "linecolor": "white",
           "ticks": "",
           "title": {
            "standoff": 15
           },
           "zerolinecolor": "white",
           "zerolinewidth": 2
          },
          "yaxis": {
           "automargin": true,
           "gridcolor": "white",
           "linecolor": "white",
           "ticks": "",
           "title": {
            "standoff": 15
           },
           "zerolinecolor": "white",
           "zerolinewidth": 2
          }
         }
        },
        "title": {
         "text": "Nombre de sentiments pour chaque compagnie aérienne"
        },
        "xaxis": {
         "anchor": "y",
         "domain": [
          0,
          0.2888888888888889
         ]
        },
        "xaxis2": {
         "anchor": "y2",
         "domain": [
          0.35555555555555557,
          0.6444444444444445
         ]
        },
        "xaxis3": {
         "anchor": "y3",
         "domain": [
          0.7111111111111111,
          1
         ]
        },
        "xaxis4": {
         "anchor": "y4",
         "domain": [
          0,
          0.2888888888888889
         ]
        },
        "xaxis5": {
         "anchor": "y5",
         "domain": [
          0.35555555555555557,
          0.6444444444444445
         ]
        },
        "xaxis6": {
         "anchor": "y6",
         "domain": [
          0.7111111111111111,
          1
         ]
        },
        "yaxis": {
         "anchor": "x",
         "domain": [
          0.625,
          1
         ]
        },
        "yaxis2": {
         "anchor": "x2",
         "domain": [
          0.625,
          1
         ]
        },
        "yaxis3": {
         "anchor": "x3",
         "domain": [
          0.625,
          1
         ]
        },
        "yaxis4": {
         "anchor": "x4",
         "domain": [
          0,
          0.375
         ]
        },
        "yaxis5": {
         "anchor": "x5",
         "domain": [
          0,
          0.375
         ]
        },
        "yaxis6": {
         "anchor": "x6",
         "domain": [
          0,
          0.375
         ]
        }
       }
      }
     },
     "metadata": {},
     "output_type": "display_data"
    }
   ],
   "source": [
    "import plotly.graph_objects as go\n",
    "from plotly.subplots import make_subplots\n",
    "\n",
    "\n",
    "\n",
    "# Création d'un subplot avec 2 lignes et 3 colonnes\n",
    "fig = make_subplots(rows=2, cols=3, subplot_titles=[f'Sentiments pour {airline}' for airline in airlines])\n",
    "\n",
    "# Itérer sur chaque compagnie aérienne pour créer un graphique à barres\n",
    "for idx, airline in enumerate(airlines):\n",
    "    # Filtrer les données pour chaque compagnie aérienne\n",
    "    new_df = data[data['airline'] == airline]\n",
    "    # Compter les sentiments\n",
    "    count = new_df['airline_sentiment'].value_counts()\n",
    "    # Créer un graphique à barres pour chaque compagnie aérienne\n",
    "    fig.add_trace(\n",
    "        go.Bar(x=['négatif', 'neutre', 'positif'],\n",
    "               y=[count.get('negative', 0), count.get('neutral', 0), count.get('positive', 0)],\n",
    "               name=airline,\n",
    "               marker_color=['red', 'blue', 'green']), # Couleurs pour chaque sentiment\n",
    "        row=(idx // 3) + 1, # Déterminer la ligne du subplot\n",
    "        col=(idx % 3) + 1   # Déterminer la colonne du subplot\n",
    "    )\n",
    "\n",
    "# Mise à jour des titres et étiquettes\n",
    "fig.update_layout(\n",
    "    title_text='Nombre de sentiments pour chaque compagnie aérienne',\n",
    "    height=800,  # Hauteur du graphique\n",
    "    showlegend=False  # Masquer la légende car les titres des subplots sont explicites\n",
    ")\n",
    "\n",
    "# Afficher le graphique\n",
    "fig.show()\n"
   ]
  },
  {
   "cell_type": "code",
   "execution_count": 471,
   "metadata": {},
   "outputs": [
    {
     "data": {
      "application/vnd.plotly.v1+json": {
       "config": {
        "plotlyServerURL": "https://plot.ly"
       },
       "data": [
        {
         "alignmentgroup": "True",
         "hovertemplate": "Compagnie Aérienne=%{x}<br>Pourcentage de Tweets Négatifs=%{marker.color}<extra></extra>",
         "legendgroup": "",
         "marker": {
          "color": [
           71.04023196810438,
           42.97929792979298,
           49.00826446280992,
           77.68623412289736,
           68.89063317634746,
           35.91269841269841
          ],
          "coloraxis": "coloraxis",
          "pattern": {
           "shape": ""
          }
         },
         "name": "",
         "offsetgroup": "",
         "orientation": "v",
         "showlegend": false,
         "text": [
          71.04023196810438,
          42.97929792979298,
          49.00826446280992,
          77.68623412289736,
          68.89063317634746,
          35.91269841269841
         ],
         "textposition": "outside",
         "texttemplate": "%{text:.2f}%",
         "type": "bar",
         "x": [
          "American",
          "Delta",
          "Southwest",
          "US Airways",
          "United",
          "Virgin America"
         ],
         "xaxis": "x",
         "y": [
          71.04023196810438,
          42.97929792979298,
          49.00826446280992,
          77.68623412289736,
          68.89063317634746,
          35.91269841269841
         ],
         "yaxis": "y"
        }
       ],
       "layout": {
        "barmode": "relative",
        "coloraxis": {
         "colorbar": {
          "title": {
           "text": "Pourcentage de Tweets Négatifs"
          }
         },
         "colorscale": [
          [
           0,
           "#0d0887"
          ],
          [
           0.1111111111111111,
           "#46039f"
          ],
          [
           0.2222222222222222,
           "#7201a8"
          ],
          [
           0.3333333333333333,
           "#9c179e"
          ],
          [
           0.4444444444444444,
           "#bd3786"
          ],
          [
           0.5555555555555556,
           "#d8576b"
          ],
          [
           0.6666666666666666,
           "#ed7953"
          ],
          [
           0.7777777777777778,
           "#fb9f3a"
          ],
          [
           0.8888888888888888,
           "#fdca26"
          ],
          [
           1,
           "#f0f921"
          ]
         ]
        },
        "legend": {
         "tracegroupgap": 0
        },
        "margin": {
         "t": 60
        },
        "plot_bgcolor": "white",
        "template": {
         "data": {
          "bar": [
           {
            "error_x": {
             "color": "#2a3f5f"
            },
            "error_y": {
             "color": "#2a3f5f"
            },
            "marker": {
             "line": {
              "color": "#E5ECF6",
              "width": 0.5
             },
             "pattern": {
              "fillmode": "overlay",
              "size": 10,
              "solidity": 0.2
             }
            },
            "type": "bar"
           }
          ],
          "barpolar": [
           {
            "marker": {
             "line": {
              "color": "#E5ECF6",
              "width": 0.5
             },
             "pattern": {
              "fillmode": "overlay",
              "size": 10,
              "solidity": 0.2
             }
            },
            "type": "barpolar"
           }
          ],
          "carpet": [
           {
            "aaxis": {
             "endlinecolor": "#2a3f5f",
             "gridcolor": "white",
             "linecolor": "white",
             "minorgridcolor": "white",
             "startlinecolor": "#2a3f5f"
            },
            "baxis": {
             "endlinecolor": "#2a3f5f",
             "gridcolor": "white",
             "linecolor": "white",
             "minorgridcolor": "white",
             "startlinecolor": "#2a3f5f"
            },
            "type": "carpet"
           }
          ],
          "choropleth": [
           {
            "colorbar": {
             "outlinewidth": 0,
             "ticks": ""
            },
            "type": "choropleth"
           }
          ],
          "contour": [
           {
            "colorbar": {
             "outlinewidth": 0,
             "ticks": ""
            },
            "colorscale": [
             [
              0,
              "#0d0887"
             ],
             [
              0.1111111111111111,
              "#46039f"
             ],
             [
              0.2222222222222222,
              "#7201a8"
             ],
             [
              0.3333333333333333,
              "#9c179e"
             ],
             [
              0.4444444444444444,
              "#bd3786"
             ],
             [
              0.5555555555555556,
              "#d8576b"
             ],
             [
              0.6666666666666666,
              "#ed7953"
             ],
             [
              0.7777777777777778,
              "#fb9f3a"
             ],
             [
              0.8888888888888888,
              "#fdca26"
             ],
             [
              1,
              "#f0f921"
             ]
            ],
            "type": "contour"
           }
          ],
          "contourcarpet": [
           {
            "colorbar": {
             "outlinewidth": 0,
             "ticks": ""
            },
            "type": "contourcarpet"
           }
          ],
          "heatmap": [
           {
            "colorbar": {
             "outlinewidth": 0,
             "ticks": ""
            },
            "colorscale": [
             [
              0,
              "#0d0887"
             ],
             [
              0.1111111111111111,
              "#46039f"
             ],
             [
              0.2222222222222222,
              "#7201a8"
             ],
             [
              0.3333333333333333,
              "#9c179e"
             ],
             [
              0.4444444444444444,
              "#bd3786"
             ],
             [
              0.5555555555555556,
              "#d8576b"
             ],
             [
              0.6666666666666666,
              "#ed7953"
             ],
             [
              0.7777777777777778,
              "#fb9f3a"
             ],
             [
              0.8888888888888888,
              "#fdca26"
             ],
             [
              1,
              "#f0f921"
             ]
            ],
            "type": "heatmap"
           }
          ],
          "heatmapgl": [
           {
            "colorbar": {
             "outlinewidth": 0,
             "ticks": ""
            },
            "colorscale": [
             [
              0,
              "#0d0887"
             ],
             [
              0.1111111111111111,
              "#46039f"
             ],
             [
              0.2222222222222222,
              "#7201a8"
             ],
             [
              0.3333333333333333,
              "#9c179e"
             ],
             [
              0.4444444444444444,
              "#bd3786"
             ],
             [
              0.5555555555555556,
              "#d8576b"
             ],
             [
              0.6666666666666666,
              "#ed7953"
             ],
             [
              0.7777777777777778,
              "#fb9f3a"
             ],
             [
              0.8888888888888888,
              "#fdca26"
             ],
             [
              1,
              "#f0f921"
             ]
            ],
            "type": "heatmapgl"
           }
          ],
          "histogram": [
           {
            "marker": {
             "pattern": {
              "fillmode": "overlay",
              "size": 10,
              "solidity": 0.2
             }
            },
            "type": "histogram"
           }
          ],
          "histogram2d": [
           {
            "colorbar": {
             "outlinewidth": 0,
             "ticks": ""
            },
            "colorscale": [
             [
              0,
              "#0d0887"
             ],
             [
              0.1111111111111111,
              "#46039f"
             ],
             [
              0.2222222222222222,
              "#7201a8"
             ],
             [
              0.3333333333333333,
              "#9c179e"
             ],
             [
              0.4444444444444444,
              "#bd3786"
             ],
             [
              0.5555555555555556,
              "#d8576b"
             ],
             [
              0.6666666666666666,
              "#ed7953"
             ],
             [
              0.7777777777777778,
              "#fb9f3a"
             ],
             [
              0.8888888888888888,
              "#fdca26"
             ],
             [
              1,
              "#f0f921"
             ]
            ],
            "type": "histogram2d"
           }
          ],
          "histogram2dcontour": [
           {
            "colorbar": {
             "outlinewidth": 0,
             "ticks": ""
            },
            "colorscale": [
             [
              0,
              "#0d0887"
             ],
             [
              0.1111111111111111,
              "#46039f"
             ],
             [
              0.2222222222222222,
              "#7201a8"
             ],
             [
              0.3333333333333333,
              "#9c179e"
             ],
             [
              0.4444444444444444,
              "#bd3786"
             ],
             [
              0.5555555555555556,
              "#d8576b"
             ],
             [
              0.6666666666666666,
              "#ed7953"
             ],
             [
              0.7777777777777778,
              "#fb9f3a"
             ],
             [
              0.8888888888888888,
              "#fdca26"
             ],
             [
              1,
              "#f0f921"
             ]
            ],
            "type": "histogram2dcontour"
           }
          ],
          "mesh3d": [
           {
            "colorbar": {
             "outlinewidth": 0,
             "ticks": ""
            },
            "type": "mesh3d"
           }
          ],
          "parcoords": [
           {
            "line": {
             "colorbar": {
              "outlinewidth": 0,
              "ticks": ""
             }
            },
            "type": "parcoords"
           }
          ],
          "pie": [
           {
            "automargin": true,
            "type": "pie"
           }
          ],
          "scatter": [
           {
            "fillpattern": {
             "fillmode": "overlay",
             "size": 10,
             "solidity": 0.2
            },
            "type": "scatter"
           }
          ],
          "scatter3d": [
           {
            "line": {
             "colorbar": {
              "outlinewidth": 0,
              "ticks": ""
             }
            },
            "marker": {
             "colorbar": {
              "outlinewidth": 0,
              "ticks": ""
             }
            },
            "type": "scatter3d"
           }
          ],
          "scattercarpet": [
           {
            "marker": {
             "colorbar": {
              "outlinewidth": 0,
              "ticks": ""
             }
            },
            "type": "scattercarpet"
           }
          ],
          "scattergeo": [
           {
            "marker": {
             "colorbar": {
              "outlinewidth": 0,
              "ticks": ""
             }
            },
            "type": "scattergeo"
           }
          ],
          "scattergl": [
           {
            "marker": {
             "colorbar": {
              "outlinewidth": 0,
              "ticks": ""
             }
            },
            "type": "scattergl"
           }
          ],
          "scattermapbox": [
           {
            "marker": {
             "colorbar": {
              "outlinewidth": 0,
              "ticks": ""
             }
            },
            "type": "scattermapbox"
           }
          ],
          "scatterpolar": [
           {
            "marker": {
             "colorbar": {
              "outlinewidth": 0,
              "ticks": ""
             }
            },
            "type": "scatterpolar"
           }
          ],
          "scatterpolargl": [
           {
            "marker": {
             "colorbar": {
              "outlinewidth": 0,
              "ticks": ""
             }
            },
            "type": "scatterpolargl"
           }
          ],
          "scatterternary": [
           {
            "marker": {
             "colorbar": {
              "outlinewidth": 0,
              "ticks": ""
             }
            },
            "type": "scatterternary"
           }
          ],
          "surface": [
           {
            "colorbar": {
             "outlinewidth": 0,
             "ticks": ""
            },
            "colorscale": [
             [
              0,
              "#0d0887"
             ],
             [
              0.1111111111111111,
              "#46039f"
             ],
             [
              0.2222222222222222,
              "#7201a8"
             ],
             [
              0.3333333333333333,
              "#9c179e"
             ],
             [
              0.4444444444444444,
              "#bd3786"
             ],
             [
              0.5555555555555556,
              "#d8576b"
             ],
             [
              0.6666666666666666,
              "#ed7953"
             ],
             [
              0.7777777777777778,
              "#fb9f3a"
             ],
             [
              0.8888888888888888,
              "#fdca26"
             ],
             [
              1,
              "#f0f921"
             ]
            ],
            "type": "surface"
           }
          ],
          "table": [
           {
            "cells": {
             "fill": {
              "color": "#EBF0F8"
             },
             "line": {
              "color": "white"
             }
            },
            "header": {
             "fill": {
              "color": "#C8D4E3"
             },
             "line": {
              "color": "white"
             }
            },
            "type": "table"
           }
          ]
         },
         "layout": {
          "annotationdefaults": {
           "arrowcolor": "#2a3f5f",
           "arrowhead": 0,
           "arrowwidth": 1
          },
          "autotypenumbers": "strict",
          "coloraxis": {
           "colorbar": {
            "outlinewidth": 0,
            "ticks": ""
           }
          },
          "colorscale": {
           "diverging": [
            [
             0,
             "#8e0152"
            ],
            [
             0.1,
             "#c51b7d"
            ],
            [
             0.2,
             "#de77ae"
            ],
            [
             0.3,
             "#f1b6da"
            ],
            [
             0.4,
             "#fde0ef"
            ],
            [
             0.5,
             "#f7f7f7"
            ],
            [
             0.6,
             "#e6f5d0"
            ],
            [
             0.7,
             "#b8e186"
            ],
            [
             0.8,
             "#7fbc41"
            ],
            [
             0.9,
             "#4d9221"
            ],
            [
             1,
             "#276419"
            ]
           ],
           "sequential": [
            [
             0,
             "#0d0887"
            ],
            [
             0.1111111111111111,
             "#46039f"
            ],
            [
             0.2222222222222222,
             "#7201a8"
            ],
            [
             0.3333333333333333,
             "#9c179e"
            ],
            [
             0.4444444444444444,
             "#bd3786"
            ],
            [
             0.5555555555555556,
             "#d8576b"
            ],
            [
             0.6666666666666666,
             "#ed7953"
            ],
            [
             0.7777777777777778,
             "#fb9f3a"
            ],
            [
             0.8888888888888888,
             "#fdca26"
            ],
            [
             1,
             "#f0f921"
            ]
           ],
           "sequentialminus": [
            [
             0,
             "#0d0887"
            ],
            [
             0.1111111111111111,
             "#46039f"
            ],
            [
             0.2222222222222222,
             "#7201a8"
            ],
            [
             0.3333333333333333,
             "#9c179e"
            ],
            [
             0.4444444444444444,
             "#bd3786"
            ],
            [
             0.5555555555555556,
             "#d8576b"
            ],
            [
             0.6666666666666666,
             "#ed7953"
            ],
            [
             0.7777777777777778,
             "#fb9f3a"
            ],
            [
             0.8888888888888888,
             "#fdca26"
            ],
            [
             1,
             "#f0f921"
            ]
           ]
          },
          "colorway": [
           "#636efa",
           "#EF553B",
           "#00cc96",
           "#ab63fa",
           "#FFA15A",
           "#19d3f3",
           "#FF6692",
           "#B6E880",
           "#FF97FF",
           "#FECB52"
          ],
          "font": {
           "color": "#2a3f5f"
          },
          "geo": {
           "bgcolor": "white",
           "lakecolor": "white",
           "landcolor": "#E5ECF6",
           "showlakes": true,
           "showland": true,
           "subunitcolor": "white"
          },
          "hoverlabel": {
           "align": "left"
          },
          "hovermode": "closest",
          "mapbox": {
           "style": "light"
          },
          "paper_bgcolor": "white",
          "plot_bgcolor": "#E5ECF6",
          "polar": {
           "angularaxis": {
            "gridcolor": "white",
            "linecolor": "white",
            "ticks": ""
           },
           "bgcolor": "#E5ECF6",
           "radialaxis": {
            "gridcolor": "white",
            "linecolor": "white",
            "ticks": ""
           }
          },
          "scene": {
           "xaxis": {
            "backgroundcolor": "#E5ECF6",
            "gridcolor": "white",
            "gridwidth": 2,
            "linecolor": "white",
            "showbackground": true,
            "ticks": "",
            "zerolinecolor": "white"
           },
           "yaxis": {
            "backgroundcolor": "#E5ECF6",
            "gridcolor": "white",
            "gridwidth": 2,
            "linecolor": "white",
            "showbackground": true,
            "ticks": "",
            "zerolinecolor": "white"
           },
           "zaxis": {
            "backgroundcolor": "#E5ECF6",
            "gridcolor": "white",
            "gridwidth": 2,
            "linecolor": "white",
            "showbackground": true,
            "ticks": "",
            "zerolinecolor": "white"
           }
          },
          "shapedefaults": {
           "line": {
            "color": "#2a3f5f"
           }
          },
          "ternary": {
           "aaxis": {
            "gridcolor": "white",
            "linecolor": "white",
            "ticks": ""
           },
           "baxis": {
            "gridcolor": "white",
            "linecolor": "white",
            "ticks": ""
           },
           "bgcolor": "#E5ECF6",
           "caxis": {
            "gridcolor": "white",
            "linecolor": "white",
            "ticks": ""
           }
          },
          "title": {
           "x": 0.05
          },
          "xaxis": {
           "automargin": true,
           "gridcolor": "white",
           "linecolor": "white",
           "ticks": "",
           "title": {
            "standoff": 15
           },
           "zerolinecolor": "white",
           "zerolinewidth": 2
          },
          "yaxis": {
           "automargin": true,
           "gridcolor": "white",
           "linecolor": "white",
           "ticks": "",
           "title": {
            "standoff": 15
           },
           "zerolinecolor": "white",
           "zerolinewidth": 2
          }
         }
        },
        "title": {
         "text": "Pourcentage de Tweets Négatifs par Compagnie Aérienne"
        },
        "xaxis": {
         "anchor": "y",
         "domain": [
          0,
          1
         ],
         "title": {
          "text": "Compagnie Aérienne"
         }
        },
        "yaxis": {
         "anchor": "x",
         "domain": [
          0,
          1
         ],
         "title": {
          "text": "Pourcentage de Tweets Négatifs"
         }
        }
       }
      }
     },
     "metadata": {},
     "output_type": "display_data"
    }
   ],
   "source": [
    "import plotly.express as px\n",
    "import pandas as pd\n",
    "\n",
    "# Calcul des tweets négatifs pour chaque compagnie aérienne\n",
    "neg_tweets = data[data['airline_sentiment'] == 'negative'].groupby('airline').size()\n",
    "\n",
    "# Calcul du total des tweets pour chaque compagnie aérienne\n",
    "total_tweets = data.groupby('airline').size()\n",
    "\n",
    "# Calcul du pourcentage des tweets négatifs par rapport au total\n",
    "percentage_neg = (neg_tweets / total_tweets * 100).reset_index()\n",
    "percentage_neg.columns = ['Compagnie Aérienne', 'Pourcentage de Tweets Négatifs']\n",
    "\n",
    "# Création d'un graphique à barres avec Plotly Express\n",
    "fig = px.bar(percentage_neg,\n",
    "             x='Compagnie Aérienne',\n",
    "             y='Pourcentage de Tweets Négatifs',\n",
    "             text='Pourcentage de Tweets Négatifs',\n",
    "             color='Pourcentage de Tweets Négatifs',\n",
    "             color_continuous_scale=px.colors.sequential.Plasma)\n",
    "\n",
    "# Mise à jour des titres et étiquettes\n",
    "fig.update_layout(\n",
    "    title='Pourcentage de Tweets Négatifs par Compagnie Aérienne',\n",
    "    xaxis_title='Compagnie Aérienne',\n",
    "    yaxis_title='Pourcentage de Tweets Négatifs',\n",
    "    plot_bgcolor='white'\n",
    ")\n",
    "\n",
    "# Mise à jour du texte des barres pour qu'il apparaisse à l'extérieur des barres\n",
    "fig.update_traces(texttemplate='%{text:.2f}%', textposition='outside')\n",
    "\n",
    "# Afficher le graphique\n",
    "fig.show()\n"
   ]
  },
  {
   "cell_type": "code",
   "execution_count": 472,
   "metadata": {},
   "outputs": [
    {
     "name": "stdout",
     "output_type": "stream",
     "text": [
      "\n",
      "Analyse des Sentiments des Tweets pour les Compagnies Aériennes:\n",
      "- La compagnie aérienne avec le plus haut pourcentage de tweets négatifs est US Airways avec 77.69%.\n",
      "- La compagnie aérienne avec le plus bas pourcentage de tweets négatifs est Virgin America avec 35.91%.\n",
      "- En moyenne, 57.59% des tweets sur les compagnies aériennes sont négatifs.\n",
      "\n",
      "Conclusions:\n",
      "- US Airways pourrait nécessiter d'examiner les raisons derrière ces retours négatifs pour améliorer la satisfaction des clients.\n",
      "- Virgin America semble mieux perçue par sa clientèle comparativement aux autres.\n",
      "- Les compagnies aériennes devraient continuer à surveiller les retours clients pour améliorer leurs services et réduire les avis négatifs.\n",
      "\n"
     ]
    }
   ],
   "source": [
    "# Calcul du maximum, minimum, et de la moyenne\n",
    "max_neg = percentage_neg['Pourcentage de Tweets Négatifs'].max()\n",
    "min_neg = percentage_neg['Pourcentage de Tweets Négatifs'].min()\n",
    "mean_neg = percentage_neg['Pourcentage de Tweets Négatifs'].mean()\n",
    "\n",
    "# Identification de la compagnie avec le plus et le moins de critiques négatives\n",
    "worst_airline = percentage_neg.loc[percentage_neg['Pourcentage de Tweets Négatifs'].idxmax(), 'Compagnie Aérienne']\n",
    "best_airline = percentage_neg.loc[percentage_neg['Pourcentage de Tweets Négatifs'].idxmin(), 'Compagnie Aérienne']\n",
    "\n",
    "# Interprétation et conclusion\n",
    "conclusion = f\"\"\"\n",
    "Analyse des Sentiments des Tweets pour les Compagnies Aériennes:\n",
    "- La compagnie aérienne avec le plus haut pourcentage de tweets négatifs est {worst_airline} avec {max_neg:.2f}%.\n",
    "- La compagnie aérienne avec le plus bas pourcentage de tweets négatifs est {best_airline} avec {min_neg:.2f}%.\n",
    "- En moyenne, {mean_neg:.2f}% des tweets sur les compagnies aériennes sont négatifs.\n",
    "\n",
    "Conclusions:\n",
    "- {worst_airline} pourrait nécessiter d'examiner les raisons derrière ces retours négatifs pour améliorer la satisfaction des clients.\n",
    "- {best_airline} semble mieux perçue par sa clientèle comparativement aux autres.\n",
    "- Les compagnies aériennes devraient continuer à surveiller les retours clients pour améliorer leurs services et réduire les avis négatifs.\n",
    "\"\"\"\n",
    "\n",
    "print(conclusion)"
   ]
  },
  {
   "cell_type": "code",
   "execution_count": 473,
   "metadata": {},
   "outputs": [
    {
     "data": {
      "application/vnd.plotly.v1+json": {
       "config": {
        "plotlyServerURL": "https://plot.ly"
       },
       "data": [
        {
         "alignmentgroup": "True",
         "hovertemplate": "Sentiment=negative<br>Compagnie Aérienne=%{x}<br>Nombre de Tweets=%{text}<extra></extra>",
         "legendgroup": "negative",
         "marker": {
          "color": "red",
          "pattern": {
           "shape": ""
          }
         },
         "name": "negative",
         "offsetgroup": "negative",
         "orientation": "v",
         "showlegend": true,
         "text": [
          1960,
          955,
          1186,
          2263,
          2633,
          181
         ],
         "textposition": "outside",
         "texttemplate": "%{text}",
         "type": "bar",
         "x": [
          "American",
          "Delta",
          "Southwest",
          "US Airways",
          "United",
          "Virgin America"
         ],
         "xaxis": "x",
         "y": [
          1960,
          955,
          1186,
          2263,
          2633,
          181
         ],
         "yaxis": "y"
        },
        {
         "alignmentgroup": "True",
         "hovertemplate": "Sentiment=neutral<br>Compagnie Aérienne=%{x}<br>Nombre de Tweets=%{text}<extra></extra>",
         "legendgroup": "neutral",
         "marker": {
          "color": "blue",
          "pattern": {
           "shape": ""
          }
         },
         "name": "neutral",
         "offsetgroup": "neutral",
         "orientation": "v",
         "showlegend": true,
         "text": [
          463,
          723,
          664,
          381,
          697,
          171
         ],
         "textposition": "outside",
         "texttemplate": "%{text}",
         "type": "bar",
         "x": [
          "American",
          "Delta",
          "Southwest",
          "US Airways",
          "United",
          "Virgin America"
         ],
         "xaxis": "x",
         "y": [
          463,
          723,
          664,
          381,
          697,
          171
         ],
         "yaxis": "y"
        },
        {
         "alignmentgroup": "True",
         "hovertemplate": "Sentiment=positive<br>Compagnie Aérienne=%{x}<br>Nombre de Tweets=%{text}<extra></extra>",
         "legendgroup": "positive",
         "marker": {
          "color": "green",
          "pattern": {
           "shape": ""
          }
         },
         "name": "positive",
         "offsetgroup": "positive",
         "orientation": "v",
         "showlegend": true,
         "text": [
          336,
          544,
          570,
          269,
          492,
          152
         ],
         "textposition": "outside",
         "texttemplate": "%{text}",
         "type": "bar",
         "x": [
          "American",
          "Delta",
          "Southwest",
          "US Airways",
          "United",
          "Virgin America"
         ],
         "xaxis": "x",
         "y": [
          336,
          544,
          570,
          269,
          492,
          152
         ],
         "yaxis": "y"
        }
       ],
       "layout": {
        "barmode": "group",
        "height": 600,
        "legend": {
         "title": {
          "text": "Sentiment"
         },
         "tracegroupgap": 0
        },
        "plot_bgcolor": "white",
        "template": {
         "data": {
          "bar": [
           {
            "error_x": {
             "color": "#2a3f5f"
            },
            "error_y": {
             "color": "#2a3f5f"
            },
            "marker": {
             "line": {
              "color": "#E5ECF6",
              "width": 0.5
             },
             "pattern": {
              "fillmode": "overlay",
              "size": 10,
              "solidity": 0.2
             }
            },
            "type": "bar"
           }
          ],
          "barpolar": [
           {
            "marker": {
             "line": {
              "color": "#E5ECF6",
              "width": 0.5
             },
             "pattern": {
              "fillmode": "overlay",
              "size": 10,
              "solidity": 0.2
             }
            },
            "type": "barpolar"
           }
          ],
          "carpet": [
           {
            "aaxis": {
             "endlinecolor": "#2a3f5f",
             "gridcolor": "white",
             "linecolor": "white",
             "minorgridcolor": "white",
             "startlinecolor": "#2a3f5f"
            },
            "baxis": {
             "endlinecolor": "#2a3f5f",
             "gridcolor": "white",
             "linecolor": "white",
             "minorgridcolor": "white",
             "startlinecolor": "#2a3f5f"
            },
            "type": "carpet"
           }
          ],
          "choropleth": [
           {
            "colorbar": {
             "outlinewidth": 0,
             "ticks": ""
            },
            "type": "choropleth"
           }
          ],
          "contour": [
           {
            "colorbar": {
             "outlinewidth": 0,
             "ticks": ""
            },
            "colorscale": [
             [
              0,
              "#0d0887"
             ],
             [
              0.1111111111111111,
              "#46039f"
             ],
             [
              0.2222222222222222,
              "#7201a8"
             ],
             [
              0.3333333333333333,
              "#9c179e"
             ],
             [
              0.4444444444444444,
              "#bd3786"
             ],
             [
              0.5555555555555556,
              "#d8576b"
             ],
             [
              0.6666666666666666,
              "#ed7953"
             ],
             [
              0.7777777777777778,
              "#fb9f3a"
             ],
             [
              0.8888888888888888,
              "#fdca26"
             ],
             [
              1,
              "#f0f921"
             ]
            ],
            "type": "contour"
           }
          ],
          "contourcarpet": [
           {
            "colorbar": {
             "outlinewidth": 0,
             "ticks": ""
            },
            "type": "contourcarpet"
           }
          ],
          "heatmap": [
           {
            "colorbar": {
             "outlinewidth": 0,
             "ticks": ""
            },
            "colorscale": [
             [
              0,
              "#0d0887"
             ],
             [
              0.1111111111111111,
              "#46039f"
             ],
             [
              0.2222222222222222,
              "#7201a8"
             ],
             [
              0.3333333333333333,
              "#9c179e"
             ],
             [
              0.4444444444444444,
              "#bd3786"
             ],
             [
              0.5555555555555556,
              "#d8576b"
             ],
             [
              0.6666666666666666,
              "#ed7953"
             ],
             [
              0.7777777777777778,
              "#fb9f3a"
             ],
             [
              0.8888888888888888,
              "#fdca26"
             ],
             [
              1,
              "#f0f921"
             ]
            ],
            "type": "heatmap"
           }
          ],
          "heatmapgl": [
           {
            "colorbar": {
             "outlinewidth": 0,
             "ticks": ""
            },
            "colorscale": [
             [
              0,
              "#0d0887"
             ],
             [
              0.1111111111111111,
              "#46039f"
             ],
             [
              0.2222222222222222,
              "#7201a8"
             ],
             [
              0.3333333333333333,
              "#9c179e"
             ],
             [
              0.4444444444444444,
              "#bd3786"
             ],
             [
              0.5555555555555556,
              "#d8576b"
             ],
             [
              0.6666666666666666,
              "#ed7953"
             ],
             [
              0.7777777777777778,
              "#fb9f3a"
             ],
             [
              0.8888888888888888,
              "#fdca26"
             ],
             [
              1,
              "#f0f921"
             ]
            ],
            "type": "heatmapgl"
           }
          ],
          "histogram": [
           {
            "marker": {
             "pattern": {
              "fillmode": "overlay",
              "size": 10,
              "solidity": 0.2
             }
            },
            "type": "histogram"
           }
          ],
          "histogram2d": [
           {
            "colorbar": {
             "outlinewidth": 0,
             "ticks": ""
            },
            "colorscale": [
             [
              0,
              "#0d0887"
             ],
             [
              0.1111111111111111,
              "#46039f"
             ],
             [
              0.2222222222222222,
              "#7201a8"
             ],
             [
              0.3333333333333333,
              "#9c179e"
             ],
             [
              0.4444444444444444,
              "#bd3786"
             ],
             [
              0.5555555555555556,
              "#d8576b"
             ],
             [
              0.6666666666666666,
              "#ed7953"
             ],
             [
              0.7777777777777778,
              "#fb9f3a"
             ],
             [
              0.8888888888888888,
              "#fdca26"
             ],
             [
              1,
              "#f0f921"
             ]
            ],
            "type": "histogram2d"
           }
          ],
          "histogram2dcontour": [
           {
            "colorbar": {
             "outlinewidth": 0,
             "ticks": ""
            },
            "colorscale": [
             [
              0,
              "#0d0887"
             ],
             [
              0.1111111111111111,
              "#46039f"
             ],
             [
              0.2222222222222222,
              "#7201a8"
             ],
             [
              0.3333333333333333,
              "#9c179e"
             ],
             [
              0.4444444444444444,
              "#bd3786"
             ],
             [
              0.5555555555555556,
              "#d8576b"
             ],
             [
              0.6666666666666666,
              "#ed7953"
             ],
             [
              0.7777777777777778,
              "#fb9f3a"
             ],
             [
              0.8888888888888888,
              "#fdca26"
             ],
             [
              1,
              "#f0f921"
             ]
            ],
            "type": "histogram2dcontour"
           }
          ],
          "mesh3d": [
           {
            "colorbar": {
             "outlinewidth": 0,
             "ticks": ""
            },
            "type": "mesh3d"
           }
          ],
          "parcoords": [
           {
            "line": {
             "colorbar": {
              "outlinewidth": 0,
              "ticks": ""
             }
            },
            "type": "parcoords"
           }
          ],
          "pie": [
           {
            "automargin": true,
            "type": "pie"
           }
          ],
          "scatter": [
           {
            "fillpattern": {
             "fillmode": "overlay",
             "size": 10,
             "solidity": 0.2
            },
            "type": "scatter"
           }
          ],
          "scatter3d": [
           {
            "line": {
             "colorbar": {
              "outlinewidth": 0,
              "ticks": ""
             }
            },
            "marker": {
             "colorbar": {
              "outlinewidth": 0,
              "ticks": ""
             }
            },
            "type": "scatter3d"
           }
          ],
          "scattercarpet": [
           {
            "marker": {
             "colorbar": {
              "outlinewidth": 0,
              "ticks": ""
             }
            },
            "type": "scattercarpet"
           }
          ],
          "scattergeo": [
           {
            "marker": {
             "colorbar": {
              "outlinewidth": 0,
              "ticks": ""
             }
            },
            "type": "scattergeo"
           }
          ],
          "scattergl": [
           {
            "marker": {
             "colorbar": {
              "outlinewidth": 0,
              "ticks": ""
             }
            },
            "type": "scattergl"
           }
          ],
          "scattermapbox": [
           {
            "marker": {
             "colorbar": {
              "outlinewidth": 0,
              "ticks": ""
             }
            },
            "type": "scattermapbox"
           }
          ],
          "scatterpolar": [
           {
            "marker": {
             "colorbar": {
              "outlinewidth": 0,
              "ticks": ""
             }
            },
            "type": "scatterpolar"
           }
          ],
          "scatterpolargl": [
           {
            "marker": {
             "colorbar": {
              "outlinewidth": 0,
              "ticks": ""
             }
            },
            "type": "scatterpolargl"
           }
          ],
          "scatterternary": [
           {
            "marker": {
             "colorbar": {
              "outlinewidth": 0,
              "ticks": ""
             }
            },
            "type": "scatterternary"
           }
          ],
          "surface": [
           {
            "colorbar": {
             "outlinewidth": 0,
             "ticks": ""
            },
            "colorscale": [
             [
              0,
              "#0d0887"
             ],
             [
              0.1111111111111111,
              "#46039f"
             ],
             [
              0.2222222222222222,
              "#7201a8"
             ],
             [
              0.3333333333333333,
              "#9c179e"
             ],
             [
              0.4444444444444444,
              "#bd3786"
             ],
             [
              0.5555555555555556,
              "#d8576b"
             ],
             [
              0.6666666666666666,
              "#ed7953"
             ],
             [
              0.7777777777777778,
              "#fb9f3a"
             ],
             [
              0.8888888888888888,
              "#fdca26"
             ],
             [
              1,
              "#f0f921"
             ]
            ],
            "type": "surface"
           }
          ],
          "table": [
           {
            "cells": {
             "fill": {
              "color": "#EBF0F8"
             },
             "line": {
              "color": "white"
             }
            },
            "header": {
             "fill": {
              "color": "#C8D4E3"
             },
             "line": {
              "color": "white"
             }
            },
            "type": "table"
           }
          ]
         },
         "layout": {
          "annotationdefaults": {
           "arrowcolor": "#2a3f5f",
           "arrowhead": 0,
           "arrowwidth": 1
          },
          "autotypenumbers": "strict",
          "coloraxis": {
           "colorbar": {
            "outlinewidth": 0,
            "ticks": ""
           }
          },
          "colorscale": {
           "diverging": [
            [
             0,
             "#8e0152"
            ],
            [
             0.1,
             "#c51b7d"
            ],
            [
             0.2,
             "#de77ae"
            ],
            [
             0.3,
             "#f1b6da"
            ],
            [
             0.4,
             "#fde0ef"
            ],
            [
             0.5,
             "#f7f7f7"
            ],
            [
             0.6,
             "#e6f5d0"
            ],
            [
             0.7,
             "#b8e186"
            ],
            [
             0.8,
             "#7fbc41"
            ],
            [
             0.9,
             "#4d9221"
            ],
            [
             1,
             "#276419"
            ]
           ],
           "sequential": [
            [
             0,
             "#0d0887"
            ],
            [
             0.1111111111111111,
             "#46039f"
            ],
            [
             0.2222222222222222,
             "#7201a8"
            ],
            [
             0.3333333333333333,
             "#9c179e"
            ],
            [
             0.4444444444444444,
             "#bd3786"
            ],
            [
             0.5555555555555556,
             "#d8576b"
            ],
            [
             0.6666666666666666,
             "#ed7953"
            ],
            [
             0.7777777777777778,
             "#fb9f3a"
            ],
            [
             0.8888888888888888,
             "#fdca26"
            ],
            [
             1,
             "#f0f921"
            ]
           ],
           "sequentialminus": [
            [
             0,
             "#0d0887"
            ],
            [
             0.1111111111111111,
             "#46039f"
            ],
            [
             0.2222222222222222,
             "#7201a8"
            ],
            [
             0.3333333333333333,
             "#9c179e"
            ],
            [
             0.4444444444444444,
             "#bd3786"
            ],
            [
             0.5555555555555556,
             "#d8576b"
            ],
            [
             0.6666666666666666,
             "#ed7953"
            ],
            [
             0.7777777777777778,
             "#fb9f3a"
            ],
            [
             0.8888888888888888,
             "#fdca26"
            ],
            [
             1,
             "#f0f921"
            ]
           ]
          },
          "colorway": [
           "#636efa",
           "#EF553B",
           "#00cc96",
           "#ab63fa",
           "#FFA15A",
           "#19d3f3",
           "#FF6692",
           "#B6E880",
           "#FF97FF",
           "#FECB52"
          ],
          "font": {
           "color": "#2a3f5f"
          },
          "geo": {
           "bgcolor": "white",
           "lakecolor": "white",
           "landcolor": "#E5ECF6",
           "showlakes": true,
           "showland": true,
           "subunitcolor": "white"
          },
          "hoverlabel": {
           "align": "left"
          },
          "hovermode": "closest",
          "mapbox": {
           "style": "light"
          },
          "paper_bgcolor": "white",
          "plot_bgcolor": "#E5ECF6",
          "polar": {
           "angularaxis": {
            "gridcolor": "white",
            "linecolor": "white",
            "ticks": ""
           },
           "bgcolor": "#E5ECF6",
           "radialaxis": {
            "gridcolor": "white",
            "linecolor": "white",
            "ticks": ""
           }
          },
          "scene": {
           "xaxis": {
            "backgroundcolor": "#E5ECF6",
            "gridcolor": "white",
            "gridwidth": 2,
            "linecolor": "white",
            "showbackground": true,
            "ticks": "",
            "zerolinecolor": "white"
           },
           "yaxis": {
            "backgroundcolor": "#E5ECF6",
            "gridcolor": "white",
            "gridwidth": 2,
            "linecolor": "white",
            "showbackground": true,
            "ticks": "",
            "zerolinecolor": "white"
           },
           "zaxis": {
            "backgroundcolor": "#E5ECF6",
            "gridcolor": "white",
            "gridwidth": 2,
            "linecolor": "white",
            "showbackground": true,
            "ticks": "",
            "zerolinecolor": "white"
           }
          },
          "shapedefaults": {
           "line": {
            "color": "#2a3f5f"
           }
          },
          "ternary": {
           "aaxis": {
            "gridcolor": "white",
            "linecolor": "white",
            "ticks": ""
           },
           "baxis": {
            "gridcolor": "white",
            "linecolor": "white",
            "ticks": ""
           },
           "bgcolor": "#E5ECF6",
           "caxis": {
            "gridcolor": "white",
            "linecolor": "white",
            "ticks": ""
           }
          },
          "title": {
           "x": 0.05
          },
          "xaxis": {
           "automargin": true,
           "gridcolor": "white",
           "linecolor": "white",
           "ticks": "",
           "title": {
            "standoff": 15
           },
           "zerolinecolor": "white",
           "zerolinewidth": 2
          },
          "yaxis": {
           "automargin": true,
           "gridcolor": "white",
           "linecolor": "white",
           "ticks": "",
           "title": {
            "standoff": 15
           },
           "zerolinecolor": "white",
           "zerolinewidth": 2
          }
         }
        },
        "title": {
         "text": "Répartition des Sentiments par Compagnie Aérienne"
        },
        "xaxis": {
         "anchor": "y",
         "categoryorder": "total descending",
         "domain": [
          0,
          1
         ],
         "title": {
          "text": "Compagnie Aérienne"
         }
        },
        "yaxis": {
         "anchor": "x",
         "domain": [
          0,
          1
         ],
         "title": {
          "text": "Nombre de Tweets"
         }
        }
       }
      }
     },
     "metadata": {},
     "output_type": "display_data"
    }
   ],
   "source": [
    "import plotly.express as px\n",
    "import pandas as pd\n",
    "\n",
    "# Calcul du nombre de tweets par compagnie aérienne et par sentiment\n",
    "figure_2 = data.groupby(['airline', 'airline_sentiment']).size().reset_index(name='count')\n",
    "\n",
    "# Création d'un graphique à barres avec Plotly Express\n",
    "fig = px.bar(figure_2,\n",
    "             x='airline',\n",
    "             y='count',\n",
    "             color='airline_sentiment',\n",
    "             text='count',\n",
    "             title='Répartition des Sentiments par Compagnie Aérienne',\n",
    "             labels={'airline': 'Compagnie Aérienne', 'count': 'Nombre de Tweets', 'airline_sentiment': 'Sentiment'},\n",
    "             color_discrete_map={'negative': 'red', 'neutral': 'blue', 'positive': 'green'},  # Définition des couleurs\n",
    "             height=600)\n",
    "\n",
    "# Mise à jour du mode des barres pour les afficher côte à côte\n",
    "fig.update_layout(\n",
    "    barmode='group',\n",
    "    xaxis={'categoryorder':'total descending'},  # Trie les compagnies aériennes par le nombre total de tweets\n",
    "    plot_bgcolor='white',\n",
    "    xaxis_title='Compagnie Aérienne',\n",
    "    yaxis_title='Nombre de Tweets',\n",
    "    legend_title='Sentiment'\n",
    ")\n",
    "\n",
    "# Mise à jour du texte des barres pour qu'il apparaisse à l'extérieur des barres\n",
    "fig.update_traces(texttemplate='%{text}', textposition='outside')\n",
    "\n",
    "# Afficher le graphique\n",
    "fig.show()\n"
   ]
  },
  {
   "cell_type": "markdown",
   "metadata": {},
   "source": [
    "### Analyse des Raisons Négatives"
   ]
  },
  {
   "cell_type": "code",
   "execution_count": 474,
   "metadata": {},
   "outputs": [],
   "source": [
    "import plotly.graph_objects as go\n",
    "from plotly.subplots import make_subplots\n",
    "import pandas as pd\n",
    "import plotly.express as px\n",
    "\n",
    "def obtenir_comptages_raisons(airline='All'):\n",
    "    if airline == 'All':\n",
    "        filtered_data = data\n",
    "    else:\n",
    "        filtered_data = data[data['airline'] == airline]\n",
    "    \n",
    "    filtered_data = filtered_data[filtered_data['negativereason'].notna()]\n",
    "    reason_counts = filtered_data['negativereason'].value_counts().reset_index()\n",
    "    reason_counts.columns = ['Raison', 'Nombre']\n",
    "    return reason_counts"
   ]
  },
  {
   "cell_type": "code",
   "execution_count": 475,
   "metadata": {},
   "outputs": [
    {
     "data": {
      "application/vnd.plotly.v1+json": {
       "config": {
        "plotlyServerURL": "https://plot.ly"
       },
       "data": [
        {
         "marker": {
          "color": "#636EFA"
         },
         "name": "Virgin America",
         "type": "bar",
         "x": [
          "Customer Service Issue",
          "Flight Booking Problems",
          "Can't Tell",
          "Bad Flight",
          "Cancelled Flight",
          "Late Flight",
          "Lost Luggage",
          "Flight Attendant Complaints",
          "Damaged Luggage",
          "longlines"
         ],
         "xaxis": "x",
         "y": [
          60,
          28,
          22,
          19,
          18,
          17,
          5,
          5,
          4,
          3
         ],
         "yaxis": "y"
        },
        {
         "marker": {
          "color": "#EF553B"
         },
         "name": "United",
         "type": "bar",
         "x": [
          "Customer Service Issue",
          "Late Flight",
          "Can't Tell",
          "Lost Luggage",
          "Bad Flight",
          "Cancelled Flight",
          "Flight Attendant Complaints",
          "Flight Booking Problems",
          "longlines",
          "Damaged Luggage"
         ],
         "xaxis": "x2",
         "y": [
          681,
          525,
          379,
          269,
          216,
          181,
          168,
          144,
          48,
          22
         ],
         "yaxis": "y2"
        },
        {
         "marker": {
          "color": "#00CC96"
         },
         "name": "Southwest",
         "type": "bar",
         "x": [
          "Customer Service Issue",
          "Cancelled Flight",
          "Can't Tell",
          "Late Flight",
          "Bad Flight",
          "Lost Luggage",
          "Flight Booking Problems",
          "Flight Attendant Complaints",
          "longlines",
          "Damaged Luggage"
         ],
         "xaxis": "x3",
         "y": [
          391,
          162,
          159,
          152,
          90,
          90,
          61,
          38,
          29,
          14
         ],
         "yaxis": "y3"
        },
        {
         "marker": {
          "color": "#AB63FA"
         },
         "name": "Delta",
         "type": "bar",
         "x": [
          "Late Flight",
          "Customer Service Issue",
          "Can't Tell",
          "Bad Flight",
          "Flight Attendant Complaints",
          "Lost Luggage",
          "Cancelled Flight",
          "Flight Booking Problems",
          "longlines",
          "Damaged Luggage"
         ],
         "xaxis": "x4",
         "y": [
          269,
          199,
          186,
          64,
          60,
          57,
          51,
          44,
          14,
          11
         ],
         "yaxis": "y4"
        },
        {
         "marker": {
          "color": "#FFA15A"
         },
         "name": "US Airways",
         "type": "bar",
         "x": [
          "Customer Service Issue",
          "Late Flight",
          "Can't Tell",
          "Cancelled Flight",
          "Lost Luggage",
          "Flight Attendant Complaints",
          "Flight Booking Problems",
          "Bad Flight",
          "longlines",
          "Damaged Luggage"
         ],
         "xaxis": "x5",
         "y": [
          811,
          453,
          246,
          189,
          154,
          123,
          122,
          104,
          50,
          11
         ],
         "yaxis": "y5"
        },
        {
         "marker": {
          "color": "#19D3F3"
         },
         "name": "American",
         "type": "bar",
         "x": [
          "Customer Service Issue",
          "Late Flight",
          "Cancelled Flight",
          "Can't Tell",
          "Lost Luggage",
          "Flight Booking Problems",
          "Bad Flight",
          "Flight Attendant Complaints",
          "longlines",
          "Damaged Luggage"
         ],
         "xaxis": "x6",
         "y": [
          768,
          249,
          246,
          198,
          149,
          130,
          87,
          87,
          34,
          12
         ],
         "yaxis": "y6"
        }
       ],
       "layout": {
        "annotations": [
         {
          "font": {
           "size": 16
          },
          "showarrow": false,
          "text": "Nombre de Raisons Négatives pour Virgin America",
          "x": 0.5,
          "xanchor": "center",
          "xref": "paper",
          "y": 1,
          "yanchor": "bottom",
          "yref": "paper"
         },
         {
          "font": {
           "size": 16
          },
          "showarrow": false,
          "text": "Nombre de Raisons Négatives pour United",
          "x": 0.5,
          "xanchor": "center",
          "xref": "paper",
          "y": 0.8133333333333332,
          "yanchor": "bottom",
          "yref": "paper"
         },
         {
          "font": {
           "size": 16
          },
          "showarrow": false,
          "text": "Nombre de Raisons Négatives pour Southwest",
          "x": 0.5,
          "xanchor": "center",
          "xref": "paper",
          "y": 0.6266666666666667,
          "yanchor": "bottom",
          "yref": "paper"
         },
         {
          "font": {
           "size": 16
          },
          "showarrow": false,
          "text": "Nombre de Raisons Négatives pour Delta",
          "x": 0.5,
          "xanchor": "center",
          "xref": "paper",
          "y": 0.43999999999999995,
          "yanchor": "bottom",
          "yref": "paper"
         },
         {
          "font": {
           "size": 16
          },
          "showarrow": false,
          "text": "Nombre de Raisons Négatives pour US Airways",
          "x": 0.5,
          "xanchor": "center",
          "xref": "paper",
          "y": 0.2533333333333333,
          "yanchor": "bottom",
          "yref": "paper"
         },
         {
          "font": {
           "size": 16
          },
          "showarrow": false,
          "text": "Nombre de Raisons Négatives pour American",
          "x": 0.5,
          "xanchor": "center",
          "xref": "paper",
          "y": 0.06666666666666667,
          "yanchor": "bottom",
          "yref": "paper"
         }
        ],
        "height": 1800,
        "showlegend": false,
        "template": {
         "data": {
          "bar": [
           {
            "error_x": {
             "color": "#2a3f5f"
            },
            "error_y": {
             "color": "#2a3f5f"
            },
            "marker": {
             "line": {
              "color": "#E5ECF6",
              "width": 0.5
             },
             "pattern": {
              "fillmode": "overlay",
              "size": 10,
              "solidity": 0.2
             }
            },
            "type": "bar"
           }
          ],
          "barpolar": [
           {
            "marker": {
             "line": {
              "color": "#E5ECF6",
              "width": 0.5
             },
             "pattern": {
              "fillmode": "overlay",
              "size": 10,
              "solidity": 0.2
             }
            },
            "type": "barpolar"
           }
          ],
          "carpet": [
           {
            "aaxis": {
             "endlinecolor": "#2a3f5f",
             "gridcolor": "white",
             "linecolor": "white",
             "minorgridcolor": "white",
             "startlinecolor": "#2a3f5f"
            },
            "baxis": {
             "endlinecolor": "#2a3f5f",
             "gridcolor": "white",
             "linecolor": "white",
             "minorgridcolor": "white",
             "startlinecolor": "#2a3f5f"
            },
            "type": "carpet"
           }
          ],
          "choropleth": [
           {
            "colorbar": {
             "outlinewidth": 0,
             "ticks": ""
            },
            "type": "choropleth"
           }
          ],
          "contour": [
           {
            "colorbar": {
             "outlinewidth": 0,
             "ticks": ""
            },
            "colorscale": [
             [
              0,
              "#0d0887"
             ],
             [
              0.1111111111111111,
              "#46039f"
             ],
             [
              0.2222222222222222,
              "#7201a8"
             ],
             [
              0.3333333333333333,
              "#9c179e"
             ],
             [
              0.4444444444444444,
              "#bd3786"
             ],
             [
              0.5555555555555556,
              "#d8576b"
             ],
             [
              0.6666666666666666,
              "#ed7953"
             ],
             [
              0.7777777777777778,
              "#fb9f3a"
             ],
             [
              0.8888888888888888,
              "#fdca26"
             ],
             [
              1,
              "#f0f921"
             ]
            ],
            "type": "contour"
           }
          ],
          "contourcarpet": [
           {
            "colorbar": {
             "outlinewidth": 0,
             "ticks": ""
            },
            "type": "contourcarpet"
           }
          ],
          "heatmap": [
           {
            "colorbar": {
             "outlinewidth": 0,
             "ticks": ""
            },
            "colorscale": [
             [
              0,
              "#0d0887"
             ],
             [
              0.1111111111111111,
              "#46039f"
             ],
             [
              0.2222222222222222,
              "#7201a8"
             ],
             [
              0.3333333333333333,
              "#9c179e"
             ],
             [
              0.4444444444444444,
              "#bd3786"
             ],
             [
              0.5555555555555556,
              "#d8576b"
             ],
             [
              0.6666666666666666,
              "#ed7953"
             ],
             [
              0.7777777777777778,
              "#fb9f3a"
             ],
             [
              0.8888888888888888,
              "#fdca26"
             ],
             [
              1,
              "#f0f921"
             ]
            ],
            "type": "heatmap"
           }
          ],
          "heatmapgl": [
           {
            "colorbar": {
             "outlinewidth": 0,
             "ticks": ""
            },
            "colorscale": [
             [
              0,
              "#0d0887"
             ],
             [
              0.1111111111111111,
              "#46039f"
             ],
             [
              0.2222222222222222,
              "#7201a8"
             ],
             [
              0.3333333333333333,
              "#9c179e"
             ],
             [
              0.4444444444444444,
              "#bd3786"
             ],
             [
              0.5555555555555556,
              "#d8576b"
             ],
             [
              0.6666666666666666,
              "#ed7953"
             ],
             [
              0.7777777777777778,
              "#fb9f3a"
             ],
             [
              0.8888888888888888,
              "#fdca26"
             ],
             [
              1,
              "#f0f921"
             ]
            ],
            "type": "heatmapgl"
           }
          ],
          "histogram": [
           {
            "marker": {
             "pattern": {
              "fillmode": "overlay",
              "size": 10,
              "solidity": 0.2
             }
            },
            "type": "histogram"
           }
          ],
          "histogram2d": [
           {
            "colorbar": {
             "outlinewidth": 0,
             "ticks": ""
            },
            "colorscale": [
             [
              0,
              "#0d0887"
             ],
             [
              0.1111111111111111,
              "#46039f"
             ],
             [
              0.2222222222222222,
              "#7201a8"
             ],
             [
              0.3333333333333333,
              "#9c179e"
             ],
             [
              0.4444444444444444,
              "#bd3786"
             ],
             [
              0.5555555555555556,
              "#d8576b"
             ],
             [
              0.6666666666666666,
              "#ed7953"
             ],
             [
              0.7777777777777778,
              "#fb9f3a"
             ],
             [
              0.8888888888888888,
              "#fdca26"
             ],
             [
              1,
              "#f0f921"
             ]
            ],
            "type": "histogram2d"
           }
          ],
          "histogram2dcontour": [
           {
            "colorbar": {
             "outlinewidth": 0,
             "ticks": ""
            },
            "colorscale": [
             [
              0,
              "#0d0887"
             ],
             [
              0.1111111111111111,
              "#46039f"
             ],
             [
              0.2222222222222222,
              "#7201a8"
             ],
             [
              0.3333333333333333,
              "#9c179e"
             ],
             [
              0.4444444444444444,
              "#bd3786"
             ],
             [
              0.5555555555555556,
              "#d8576b"
             ],
             [
              0.6666666666666666,
              "#ed7953"
             ],
             [
              0.7777777777777778,
              "#fb9f3a"
             ],
             [
              0.8888888888888888,
              "#fdca26"
             ],
             [
              1,
              "#f0f921"
             ]
            ],
            "type": "histogram2dcontour"
           }
          ],
          "mesh3d": [
           {
            "colorbar": {
             "outlinewidth": 0,
             "ticks": ""
            },
            "type": "mesh3d"
           }
          ],
          "parcoords": [
           {
            "line": {
             "colorbar": {
              "outlinewidth": 0,
              "ticks": ""
             }
            },
            "type": "parcoords"
           }
          ],
          "pie": [
           {
            "automargin": true,
            "type": "pie"
           }
          ],
          "scatter": [
           {
            "fillpattern": {
             "fillmode": "overlay",
             "size": 10,
             "solidity": 0.2
            },
            "type": "scatter"
           }
          ],
          "scatter3d": [
           {
            "line": {
             "colorbar": {
              "outlinewidth": 0,
              "ticks": ""
             }
            },
            "marker": {
             "colorbar": {
              "outlinewidth": 0,
              "ticks": ""
             }
            },
            "type": "scatter3d"
           }
          ],
          "scattercarpet": [
           {
            "marker": {
             "colorbar": {
              "outlinewidth": 0,
              "ticks": ""
             }
            },
            "type": "scattercarpet"
           }
          ],
          "scattergeo": [
           {
            "marker": {
             "colorbar": {
              "outlinewidth": 0,
              "ticks": ""
             }
            },
            "type": "scattergeo"
           }
          ],
          "scattergl": [
           {
            "marker": {
             "colorbar": {
              "outlinewidth": 0,
              "ticks": ""
             }
            },
            "type": "scattergl"
           }
          ],
          "scattermapbox": [
           {
            "marker": {
             "colorbar": {
              "outlinewidth": 0,
              "ticks": ""
             }
            },
            "type": "scattermapbox"
           }
          ],
          "scatterpolar": [
           {
            "marker": {
             "colorbar": {
              "outlinewidth": 0,
              "ticks": ""
             }
            },
            "type": "scatterpolar"
           }
          ],
          "scatterpolargl": [
           {
            "marker": {
             "colorbar": {
              "outlinewidth": 0,
              "ticks": ""
             }
            },
            "type": "scatterpolargl"
           }
          ],
          "scatterternary": [
           {
            "marker": {
             "colorbar": {
              "outlinewidth": 0,
              "ticks": ""
             }
            },
            "type": "scatterternary"
           }
          ],
          "surface": [
           {
            "colorbar": {
             "outlinewidth": 0,
             "ticks": ""
            },
            "colorscale": [
             [
              0,
              "#0d0887"
             ],
             [
              0.1111111111111111,
              "#46039f"
             ],
             [
              0.2222222222222222,
              "#7201a8"
             ],
             [
              0.3333333333333333,
              "#9c179e"
             ],
             [
              0.4444444444444444,
              "#bd3786"
             ],
             [
              0.5555555555555556,
              "#d8576b"
             ],
             [
              0.6666666666666666,
              "#ed7953"
             ],
             [
              0.7777777777777778,
              "#fb9f3a"
             ],
             [
              0.8888888888888888,
              "#fdca26"
             ],
             [
              1,
              "#f0f921"
             ]
            ],
            "type": "surface"
           }
          ],
          "table": [
           {
            "cells": {
             "fill": {
              "color": "#EBF0F8"
             },
             "line": {
              "color": "white"
             }
            },
            "header": {
             "fill": {
              "color": "#C8D4E3"
             },
             "line": {
              "color": "white"
             }
            },
            "type": "table"
           }
          ]
         },
         "layout": {
          "annotationdefaults": {
           "arrowcolor": "#2a3f5f",
           "arrowhead": 0,
           "arrowwidth": 1
          },
          "autotypenumbers": "strict",
          "coloraxis": {
           "colorbar": {
            "outlinewidth": 0,
            "ticks": ""
           }
          },
          "colorscale": {
           "diverging": [
            [
             0,
             "#8e0152"
            ],
            [
             0.1,
             "#c51b7d"
            ],
            [
             0.2,
             "#de77ae"
            ],
            [
             0.3,
             "#f1b6da"
            ],
            [
             0.4,
             "#fde0ef"
            ],
            [
             0.5,
             "#f7f7f7"
            ],
            [
             0.6,
             "#e6f5d0"
            ],
            [
             0.7,
             "#b8e186"
            ],
            [
             0.8,
             "#7fbc41"
            ],
            [
             0.9,
             "#4d9221"
            ],
            [
             1,
             "#276419"
            ]
           ],
           "sequential": [
            [
             0,
             "#0d0887"
            ],
            [
             0.1111111111111111,
             "#46039f"
            ],
            [
             0.2222222222222222,
             "#7201a8"
            ],
            [
             0.3333333333333333,
             "#9c179e"
            ],
            [
             0.4444444444444444,
             "#bd3786"
            ],
            [
             0.5555555555555556,
             "#d8576b"
            ],
            [
             0.6666666666666666,
             "#ed7953"
            ],
            [
             0.7777777777777778,
             "#fb9f3a"
            ],
            [
             0.8888888888888888,
             "#fdca26"
            ],
            [
             1,
             "#f0f921"
            ]
           ],
           "sequentialminus": [
            [
             0,
             "#0d0887"
            ],
            [
             0.1111111111111111,
             "#46039f"
            ],
            [
             0.2222222222222222,
             "#7201a8"
            ],
            [
             0.3333333333333333,
             "#9c179e"
            ],
            [
             0.4444444444444444,
             "#bd3786"
            ],
            [
             0.5555555555555556,
             "#d8576b"
            ],
            [
             0.6666666666666666,
             "#ed7953"
            ],
            [
             0.7777777777777778,
             "#fb9f3a"
            ],
            [
             0.8888888888888888,
             "#fdca26"
            ],
            [
             1,
             "#f0f921"
            ]
           ]
          },
          "colorway": [
           "#636efa",
           "#EF553B",
           "#00cc96",
           "#ab63fa",
           "#FFA15A",
           "#19d3f3",
           "#FF6692",
           "#B6E880",
           "#FF97FF",
           "#FECB52"
          ],
          "font": {
           "color": "#2a3f5f"
          },
          "geo": {
           "bgcolor": "white",
           "lakecolor": "white",
           "landcolor": "#E5ECF6",
           "showlakes": true,
           "showland": true,
           "subunitcolor": "white"
          },
          "hoverlabel": {
           "align": "left"
          },
          "hovermode": "closest",
          "mapbox": {
           "style": "light"
          },
          "paper_bgcolor": "white",
          "plot_bgcolor": "#E5ECF6",
          "polar": {
           "angularaxis": {
            "gridcolor": "white",
            "linecolor": "white",
            "ticks": ""
           },
           "bgcolor": "#E5ECF6",
           "radialaxis": {
            "gridcolor": "white",
            "linecolor": "white",
            "ticks": ""
           }
          },
          "scene": {
           "xaxis": {
            "backgroundcolor": "#E5ECF6",
            "gridcolor": "white",
            "gridwidth": 2,
            "linecolor": "white",
            "showbackground": true,
            "ticks": "",
            "zerolinecolor": "white"
           },
           "yaxis": {
            "backgroundcolor": "#E5ECF6",
            "gridcolor": "white",
            "gridwidth": 2,
            "linecolor": "white",
            "showbackground": true,
            "ticks": "",
            "zerolinecolor": "white"
           },
           "zaxis": {
            "backgroundcolor": "#E5ECF6",
            "gridcolor": "white",
            "gridwidth": 2,
            "linecolor": "white",
            "showbackground": true,
            "ticks": "",
            "zerolinecolor": "white"
           }
          },
          "shapedefaults": {
           "line": {
            "color": "#2a3f5f"
           }
          },
          "ternary": {
           "aaxis": {
            "gridcolor": "white",
            "linecolor": "white",
            "ticks": ""
           },
           "baxis": {
            "gridcolor": "white",
            "linecolor": "white",
            "ticks": ""
           },
           "bgcolor": "#E5ECF6",
           "caxis": {
            "gridcolor": "white",
            "linecolor": "white",
            "ticks": ""
           }
          },
          "title": {
           "x": 0.05
          },
          "xaxis": {
           "automargin": true,
           "gridcolor": "white",
           "linecolor": "white",
           "ticks": "",
           "title": {
            "standoff": 15
           },
           "zerolinecolor": "white",
           "zerolinewidth": 2
          },
          "yaxis": {
           "automargin": true,
           "gridcolor": "white",
           "linecolor": "white",
           "ticks": "",
           "title": {
            "standoff": 15
           },
           "zerolinecolor": "white",
           "zerolinewidth": 2
          }
         }
        },
        "title": {
         "text": "Visualisation des Raisons Négatives par Compagnie Aérienne"
        },
        "xaxis": {
         "anchor": "y",
         "domain": [
          0,
          1
         ]
        },
        "xaxis2": {
         "anchor": "y2",
         "domain": [
          0,
          1
         ]
        },
        "xaxis3": {
         "anchor": "y3",
         "domain": [
          0,
          1
         ]
        },
        "xaxis4": {
         "anchor": "y4",
         "domain": [
          0,
          1
         ]
        },
        "xaxis5": {
         "anchor": "y5",
         "domain": [
          0,
          1
         ]
        },
        "xaxis6": {
         "anchor": "y6",
         "domain": [
          0,
          1
         ]
        },
        "yaxis": {
         "anchor": "x",
         "domain": [
          0.9333333333333333,
          1
         ]
        },
        "yaxis2": {
         "anchor": "x2",
         "domain": [
          0.7466666666666666,
          0.8133333333333332
         ]
        },
        "yaxis3": {
         "anchor": "x3",
         "domain": [
          0.56,
          0.6266666666666667
         ]
        },
        "yaxis4": {
         "anchor": "x4",
         "domain": [
          0.3733333333333333,
          0.43999999999999995
         ]
        },
        "yaxis5": {
         "anchor": "x5",
         "domain": [
          0.18666666666666665,
          0.2533333333333333
         ]
        },
        "yaxis6": {
         "anchor": "x6",
         "domain": [
          0,
          0.06666666666666667
         ]
        }
       }
      }
     },
     "metadata": {},
     "output_type": "display_data"
    }
   ],
   "source": [
    "\n",
    "\n",
    "# Création de graphiques pour chaque compagnie avec Plotly Subplots\n",
    "\n",
    "fig = make_subplots(rows=len(airlines), cols=1, subplot_titles=[f'Nombre de Raisons Négatives pour {airline}' for airline in airlines],\n",
    "                    vertical_spacing=0.12)  # Ajustement de l'espacement vertical entre les graphiques\n",
    "\n",
    "for idx, airline in enumerate(airlines):\n",
    "    reason_counts = obtenir_comptages_raisons(airline)\n",
    "    trace = go.Bar(x=reason_counts['Raison'], y=reason_counts['Nombre'], name=airline,\n",
    "                   marker_color=px.colors.qualitative.Plotly[idx % 10])\n",
    "    fig.add_trace(trace, row=idx+1, col=1)\n",
    "\n",
    "fig.update_layout(height=1800, showlegend=False, title_text=\"Visualisation des Raisons Négatives par Compagnie Aérienne\")\n",
    "fig.show()\n"
   ]
  },
  {
   "cell_type": "markdown",
   "metadata": {},
   "source": [
    "## **label encodingt**"
   ]
  },
  {
   "cell_type": "code",
   "execution_count": 476,
   "metadata": {},
   "outputs": [
    {
     "name": "stdout",
     "output_type": "stream",
     "text": [
      "Encodage réussi. Les étiquettes ont été transformées en valeurs numériques.\n"
     ]
    }
   ],
   "source": [
    "from sklearn.preprocessing import LabelEncoder\n",
    "\n",
    "\n",
    "# S'assurer que 'airline_sentiment' est présent dans le DataFrame\n",
    "if 'airline_sentiment' in data.columns:\n",
    "    # Vérifier s'il y a des valeurs nulles dans la colonne\n",
    "    if data['airline_sentiment'].isnull().any():\n",
    "        print(\"Attention : Il y a des valeurs nulles dans 'airline_sentiment'.\")\n",
    "    else:\n",
    "        # Création et application du LabelEncoder\n",
    "        le = LabelEncoder()\n",
    "        # Encodage direct des étiquettes en une seule étape\n",
    "        data['airline_sentiment_encoded'] = le.fit_transform(data['airline_sentiment'])\n",
    "        \n",
    "        print(\"Encodage réussi. Les étiquettes ont été transformées en valeurs numériques.\")\n",
    "else:\n",
    "    print(\"Erreur : La colonne 'airline_sentiment' n'est pas trouvée dans le DataFrame.\")\n"
   ]
  },
  {
   "cell_type": "code",
   "execution_count": 477,
   "metadata": {},
   "outputs": [
    {
     "data": {
      "text/html": [
       "<div>\n",
       "<style scoped>\n",
       "    .dataframe tbody tr th:only-of-type {\n",
       "        vertical-align: middle;\n",
       "    }\n",
       "\n",
       "    .dataframe tbody tr th {\n",
       "        vertical-align: top;\n",
       "    }\n",
       "\n",
       "    .dataframe thead th {\n",
       "        text-align: right;\n",
       "    }\n",
       "</style>\n",
       "<table border=\"1\" class=\"dataframe\">\n",
       "  <thead>\n",
       "    <tr style=\"text-align: right;\">\n",
       "      <th></th>\n",
       "      <th>tweet_id</th>\n",
       "      <th>airline_sentiment</th>\n",
       "      <th>airline_sentiment_confidence</th>\n",
       "      <th>negativereason</th>\n",
       "      <th>negativereason_confidence</th>\n",
       "      <th>airline</th>\n",
       "      <th>name</th>\n",
       "      <th>retweet_count</th>\n",
       "      <th>text</th>\n",
       "      <th>tweet_created</th>\n",
       "      <th>tweet_location</th>\n",
       "      <th>user_timezone</th>\n",
       "      <th>tweet_date</th>\n",
       "      <th>airline_sentiment_encoded</th>\n",
       "    </tr>\n",
       "  </thead>\n",
       "  <tbody>\n",
       "    <tr>\n",
       "      <th>0</th>\n",
       "      <td>570306133677760513</td>\n",
       "      <td>neutral</td>\n",
       "      <td>1.0000</td>\n",
       "      <td>NaN</td>\n",
       "      <td>NaN</td>\n",
       "      <td>Virgin America</td>\n",
       "      <td>cairdin</td>\n",
       "      <td>0</td>\n",
       "      <td>@VirginAmerica What @dhepburn said.</td>\n",
       "      <td>2015-02-24 11:35:52 -0800</td>\n",
       "      <td>NaN</td>\n",
       "      <td>Eastern Time (US &amp; Canada)</td>\n",
       "      <td>2015-02-24</td>\n",
       "      <td>1</td>\n",
       "    </tr>\n",
       "    <tr>\n",
       "      <th>1</th>\n",
       "      <td>570301130888122368</td>\n",
       "      <td>positive</td>\n",
       "      <td>0.3486</td>\n",
       "      <td>NaN</td>\n",
       "      <td>0.0000</td>\n",
       "      <td>Virgin America</td>\n",
       "      <td>jnardino</td>\n",
       "      <td>0</td>\n",
       "      <td>@VirginAmerica plus you've added commercials t...</td>\n",
       "      <td>2015-02-24 11:15:59 -0800</td>\n",
       "      <td>NaN</td>\n",
       "      <td>Pacific Time (US &amp; Canada)</td>\n",
       "      <td>2015-02-24</td>\n",
       "      <td>2</td>\n",
       "    </tr>\n",
       "    <tr>\n",
       "      <th>2</th>\n",
       "      <td>570301083672813571</td>\n",
       "      <td>neutral</td>\n",
       "      <td>0.6837</td>\n",
       "      <td>NaN</td>\n",
       "      <td>NaN</td>\n",
       "      <td>Virgin America</td>\n",
       "      <td>yvonnalynn</td>\n",
       "      <td>0</td>\n",
       "      <td>@VirginAmerica I didn't today... Must mean I n...</td>\n",
       "      <td>2015-02-24 11:15:48 -0800</td>\n",
       "      <td>Lets Play</td>\n",
       "      <td>Central Time (US &amp; Canada)</td>\n",
       "      <td>2015-02-24</td>\n",
       "      <td>1</td>\n",
       "    </tr>\n",
       "    <tr>\n",
       "      <th>3</th>\n",
       "      <td>570301031407624196</td>\n",
       "      <td>negative</td>\n",
       "      <td>1.0000</td>\n",
       "      <td>Bad Flight</td>\n",
       "      <td>0.7033</td>\n",
       "      <td>Virgin America</td>\n",
       "      <td>jnardino</td>\n",
       "      <td>0</td>\n",
       "      <td>@VirginAmerica it's really aggressive to blast...</td>\n",
       "      <td>2015-02-24 11:15:36 -0800</td>\n",
       "      <td>NaN</td>\n",
       "      <td>Pacific Time (US &amp; Canada)</td>\n",
       "      <td>2015-02-24</td>\n",
       "      <td>0</td>\n",
       "    </tr>\n",
       "    <tr>\n",
       "      <th>4</th>\n",
       "      <td>570300817074462722</td>\n",
       "      <td>negative</td>\n",
       "      <td>1.0000</td>\n",
       "      <td>Can't Tell</td>\n",
       "      <td>1.0000</td>\n",
       "      <td>Virgin America</td>\n",
       "      <td>jnardino</td>\n",
       "      <td>0</td>\n",
       "      <td>@VirginAmerica and it's a really big bad thing...</td>\n",
       "      <td>2015-02-24 11:14:45 -0800</td>\n",
       "      <td>NaN</td>\n",
       "      <td>Pacific Time (US &amp; Canada)</td>\n",
       "      <td>2015-02-24</td>\n",
       "      <td>0</td>\n",
       "    </tr>\n",
       "    <tr>\n",
       "      <th>...</th>\n",
       "      <td>...</td>\n",
       "      <td>...</td>\n",
       "      <td>...</td>\n",
       "      <td>...</td>\n",
       "      <td>...</td>\n",
       "      <td>...</td>\n",
       "      <td>...</td>\n",
       "      <td>...</td>\n",
       "      <td>...</td>\n",
       "      <td>...</td>\n",
       "      <td>...</td>\n",
       "      <td>...</td>\n",
       "      <td>...</td>\n",
       "      <td>...</td>\n",
       "    </tr>\n",
       "    <tr>\n",
       "      <th>14635</th>\n",
       "      <td>569587686496825344</td>\n",
       "      <td>positive</td>\n",
       "      <td>0.3487</td>\n",
       "      <td>NaN</td>\n",
       "      <td>0.0000</td>\n",
       "      <td>American</td>\n",
       "      <td>KristenReenders</td>\n",
       "      <td>0</td>\n",
       "      <td>@AmericanAir thank you we got on a different f...</td>\n",
       "      <td>2015-02-22 12:01:01 -0800</td>\n",
       "      <td>NaN</td>\n",
       "      <td>NaN</td>\n",
       "      <td>2015-02-22</td>\n",
       "      <td>2</td>\n",
       "    </tr>\n",
       "    <tr>\n",
       "      <th>14636</th>\n",
       "      <td>569587371693355008</td>\n",
       "      <td>negative</td>\n",
       "      <td>1.0000</td>\n",
       "      <td>Customer Service Issue</td>\n",
       "      <td>1.0000</td>\n",
       "      <td>American</td>\n",
       "      <td>itsropes</td>\n",
       "      <td>0</td>\n",
       "      <td>@AmericanAir leaving over 20 minutes Late Flig...</td>\n",
       "      <td>2015-02-22 11:59:46 -0800</td>\n",
       "      <td>Texas</td>\n",
       "      <td>NaN</td>\n",
       "      <td>2015-02-22</td>\n",
       "      <td>0</td>\n",
       "    </tr>\n",
       "    <tr>\n",
       "      <th>14637</th>\n",
       "      <td>569587242672398336</td>\n",
       "      <td>neutral</td>\n",
       "      <td>1.0000</td>\n",
       "      <td>NaN</td>\n",
       "      <td>NaN</td>\n",
       "      <td>American</td>\n",
       "      <td>sanyabun</td>\n",
       "      <td>0</td>\n",
       "      <td>@AmericanAir Please bring American Airlines to...</td>\n",
       "      <td>2015-02-22 11:59:15 -0800</td>\n",
       "      <td>Nigeria,lagos</td>\n",
       "      <td>NaN</td>\n",
       "      <td>2015-02-22</td>\n",
       "      <td>1</td>\n",
       "    </tr>\n",
       "    <tr>\n",
       "      <th>14638</th>\n",
       "      <td>569587188687634433</td>\n",
       "      <td>negative</td>\n",
       "      <td>1.0000</td>\n",
       "      <td>Customer Service Issue</td>\n",
       "      <td>0.6659</td>\n",
       "      <td>American</td>\n",
       "      <td>SraJackson</td>\n",
       "      <td>0</td>\n",
       "      <td>@AmericanAir you have my money, you change my ...</td>\n",
       "      <td>2015-02-22 11:59:02 -0800</td>\n",
       "      <td>New Jersey</td>\n",
       "      <td>Eastern Time (US &amp; Canada)</td>\n",
       "      <td>2015-02-22</td>\n",
       "      <td>0</td>\n",
       "    </tr>\n",
       "    <tr>\n",
       "      <th>14639</th>\n",
       "      <td>569587140490866689</td>\n",
       "      <td>neutral</td>\n",
       "      <td>0.6771</td>\n",
       "      <td>NaN</td>\n",
       "      <td>0.0000</td>\n",
       "      <td>American</td>\n",
       "      <td>daviddtwu</td>\n",
       "      <td>0</td>\n",
       "      <td>@AmericanAir we have 8 ppl so we need 2 know h...</td>\n",
       "      <td>2015-02-22 11:58:51 -0800</td>\n",
       "      <td>dallas, TX</td>\n",
       "      <td>NaN</td>\n",
       "      <td>2015-02-22</td>\n",
       "      <td>1</td>\n",
       "    </tr>\n",
       "  </tbody>\n",
       "</table>\n",
       "<p>14640 rows × 14 columns</p>\n",
       "</div>"
      ],
      "text/plain": [
       "                 tweet_id airline_sentiment  airline_sentiment_confidence  \\\n",
       "0      570306133677760513           neutral                        1.0000   \n",
       "1      570301130888122368          positive                        0.3486   \n",
       "2      570301083672813571           neutral                        0.6837   \n",
       "3      570301031407624196          negative                        1.0000   \n",
       "4      570300817074462722          negative                        1.0000   \n",
       "...                   ...               ...                           ...   \n",
       "14635  569587686496825344          positive                        0.3487   \n",
       "14636  569587371693355008          negative                        1.0000   \n",
       "14637  569587242672398336           neutral                        1.0000   \n",
       "14638  569587188687634433          negative                        1.0000   \n",
       "14639  569587140490866689           neutral                        0.6771   \n",
       "\n",
       "               negativereason  negativereason_confidence         airline  \\\n",
       "0                         NaN                        NaN  Virgin America   \n",
       "1                         NaN                     0.0000  Virgin America   \n",
       "2                         NaN                        NaN  Virgin America   \n",
       "3                  Bad Flight                     0.7033  Virgin America   \n",
       "4                  Can't Tell                     1.0000  Virgin America   \n",
       "...                       ...                        ...             ...   \n",
       "14635                     NaN                     0.0000        American   \n",
       "14636  Customer Service Issue                     1.0000        American   \n",
       "14637                     NaN                        NaN        American   \n",
       "14638  Customer Service Issue                     0.6659        American   \n",
       "14639                     NaN                     0.0000        American   \n",
       "\n",
       "                  name  retweet_count  \\\n",
       "0              cairdin              0   \n",
       "1             jnardino              0   \n",
       "2           yvonnalynn              0   \n",
       "3             jnardino              0   \n",
       "4             jnardino              0   \n",
       "...                ...            ...   \n",
       "14635  KristenReenders              0   \n",
       "14636         itsropes              0   \n",
       "14637         sanyabun              0   \n",
       "14638       SraJackson              0   \n",
       "14639        daviddtwu              0   \n",
       "\n",
       "                                                    text  \\\n",
       "0                    @VirginAmerica What @dhepburn said.   \n",
       "1      @VirginAmerica plus you've added commercials t...   \n",
       "2      @VirginAmerica I didn't today... Must mean I n...   \n",
       "3      @VirginAmerica it's really aggressive to blast...   \n",
       "4      @VirginAmerica and it's a really big bad thing...   \n",
       "...                                                  ...   \n",
       "14635  @AmericanAir thank you we got on a different f...   \n",
       "14636  @AmericanAir leaving over 20 minutes Late Flig...   \n",
       "14637  @AmericanAir Please bring American Airlines to...   \n",
       "14638  @AmericanAir you have my money, you change my ...   \n",
       "14639  @AmericanAir we have 8 ppl so we need 2 know h...   \n",
       "\n",
       "                   tweet_created tweet_location               user_timezone  \\\n",
       "0      2015-02-24 11:35:52 -0800            NaN  Eastern Time (US & Canada)   \n",
       "1      2015-02-24 11:15:59 -0800            NaN  Pacific Time (US & Canada)   \n",
       "2      2015-02-24 11:15:48 -0800      Lets Play  Central Time (US & Canada)   \n",
       "3      2015-02-24 11:15:36 -0800            NaN  Pacific Time (US & Canada)   \n",
       "4      2015-02-24 11:14:45 -0800            NaN  Pacific Time (US & Canada)   \n",
       "...                          ...            ...                         ...   \n",
       "14635  2015-02-22 12:01:01 -0800            NaN                         NaN   \n",
       "14636  2015-02-22 11:59:46 -0800          Texas                         NaN   \n",
       "14637  2015-02-22 11:59:15 -0800  Nigeria,lagos                         NaN   \n",
       "14638  2015-02-22 11:59:02 -0800     New Jersey  Eastern Time (US & Canada)   \n",
       "14639  2015-02-22 11:58:51 -0800     dallas, TX                         NaN   \n",
       "\n",
       "       tweet_date  airline_sentiment_encoded  \n",
       "0      2015-02-24                          1  \n",
       "1      2015-02-24                          2  \n",
       "2      2015-02-24                          1  \n",
       "3      2015-02-24                          0  \n",
       "4      2015-02-24                          0  \n",
       "...           ...                        ...  \n",
       "14635  2015-02-22                          2  \n",
       "14636  2015-02-22                          0  \n",
       "14637  2015-02-22                          1  \n",
       "14638  2015-02-22                          0  \n",
       "14639  2015-02-22                          1  \n",
       "\n",
       "[14640 rows x 14 columns]"
      ]
     },
     "execution_count": 477,
     "metadata": {},
     "output_type": "execute_result"
    }
   ],
   "source": [
    "data"
   ]
  },
  {
   "cell_type": "markdown",
   "metadata": {},
   "source": [
    "### Data Preprocessing"
   ]
  },
  {
   "cell_type": "code",
   "execution_count": 478,
   "metadata": {},
   "outputs": [
    {
     "name": "stderr",
     "output_type": "stream",
     "text": [
      "[nltk_data] Downloading package stopwords to /home/ensai/nltk_data...\n",
      "[nltk_data]   Package stopwords is already up-to-date!\n"
     ]
    }
   ],
   "source": [
    "import re\n",
    "import nltk\n",
    "from nltk.corpus import stopwords\n",
    "from nltk.stem import PorterStemmer\n",
    "\n",
    "# Téléchargement préalable des ressources nécessaires\n",
    "nltk.download('stopwords')\n",
    "stop_words = set(stopwords.words('english'))  # Création d'un set de stopwords pour améliorer la performance\n",
    "stemmer = PorterStemmer()  # Initialisation du stemmer\n",
    "\n",
    "\n"
   ]
  },
  {
   "cell_type": "code",
   "execution_count": 479,
   "metadata": {},
   "outputs": [],
   "source": [
    "def tweet_to_words(tweet):\n",
    "    \"\"\"\n",
    "    Convertit le texte d'un tweet en une séquence de mots significatifs.\n",
    "    \n",
    "    Args:\n",
    "    tweet (str): Texte du tweet à nettoyer et à convertir.\n",
    "    \n",
    "    Returns:\n",
    "    list: Liste de mots (tokens) significatifs après nettoyage et traitement.\n",
    "    \"\"\"\n",
    "    # Conversion en minuscules\n",
    "    text = tweet.lower()\n",
    "    # Suppression des caractères qui ne sont pas des lettres ou des nombres\n",
    "    text = re.sub(r\"[^a-zA-Z0-9]\", \" \", text)\n",
    "    # Tokenisation\n",
    "    words = text.split()\n",
    "    # Suppression des stopwords\n",
    "    meaningful_words = [w for w in words if w not in stop_words]\n",
    "    # Application du stemming\n",
    "    stemmed_words = [stemmer.stem(w) for w in meaningful_words]\n",
    "    # Retourne la liste des mots traités\n",
    "    return stemmed_words\n",
    "\n"
   ]
  },
  {
   "cell_type": "code",
   "execution_count": 480,
   "metadata": {},
   "outputs": [],
   "source": [
    "# Application de la fonction à la colonne de texte\n",
    "data['clean_tweet']=data['text'].apply(lambda x: tweet_to_words(x))"
   ]
  },
  {
   "cell_type": "code",
   "execution_count": 481,
   "metadata": {},
   "outputs": [
    {
     "data": {
      "text/plain": [
       "0                          [virginamerica, dhepburn, said]\n",
       "1        [virginamerica, plu, ad, commerci, experi, tacki]\n",
       "2        [virginamerica, today, must, mean, need, take,...\n",
       "3        [virginamerica, realli, aggress, blast, obnoxi...\n",
       "4                 [virginamerica, realli, big, bad, thing]\n",
       "                               ...                        \n",
       "14635    [americanair, thank, got, differ, flight, chic...\n",
       "14636    [americanair, leav, 20, minut, late, flight, w...\n",
       "14637    [americanair, pleas, bring, american, airlin, ...\n",
       "14638    [americanair, money, chang, flight, answer, ph...\n",
       "14639    [americanair, 8, ppl, need, 2, know, mani, sea...\n",
       "Name: clean_tweet, Length: 14640, dtype: object"
      ]
     },
     "execution_count": 481,
     "metadata": {},
     "output_type": "execute_result"
    }
   ],
   "source": [
    "data['clean_tweet']"
   ]
  },
  {
   "cell_type": "markdown",
   "metadata": {},
   "source": [
    "### Tokenizing & Padding"
   ]
  },
  {
   "cell_type": "code",
   "execution_count": 482,
   "metadata": {},
   "outputs": [],
   "source": [
    "import numpy as np\n",
    "import pandas as pd\n",
    "from sklearn.model_selection import train_test_split, ParameterGrid\n",
    "from tensorflow.keras.preprocessing.text import Tokenizer\n",
    "from tensorflow.keras.preprocessing.sequence import pad_sequences\n",
    "from tensorflow.keras.models import Sequential\n",
    "from tensorflow.keras.layers import Embedding, Conv1D, MaxPooling1D, Bidirectional, LSTM, Dense, Dropout\n",
    "from tensorflow.keras.optimizers import Adam  # Changement pour Adam\n",
    "from tensorflow.keras.callbacks import EarlyStopping, ModelCheckpoint, LearningRateScheduler\n",
    "from tensorflow.keras.losses import CategoricalCrossentropy\n",
    "from tensorflow.keras.metrics import Precision, Recall\n",
    "import pickle\n",
    "\n",
    "# Définition des paramètres améliorés\n",
    "max_words = 10000  # Nombre maximum de mots dans le vocabulaire\n",
    "max_len = 100      # Longueur maximale des séquences après padding\n",
    "embedding_size = 64  # Dimension des embeddings\n",
    "num_classes = 3  # Nombre de classes (négatif, neutre, positif)\n",
    "\n",
    "# Préparation des données\n",
    "x = data['clean_tweet']\n",
    "y = data['airline_sentiment']\n",
    "\n",
    "# Division des données en ensembles d'entraînement et de test\n",
    "x_train, x_test, y_train, y_test = train_test_split(x, y, test_size=0.3, random_state=42)\n",
    "\n",
    "\n"
   ]
  },
  {
   "cell_type": "code",
   "execution_count": 483,
   "metadata": {},
   "outputs": [],
   "source": [
    "\n",
    "\n",
    "# Tokenization et Padding\n",
    "def tokenize_pad_sequences(text):\n",
    "    tokenizer = Tokenizer(num_words=max_words, lower=True, split=' ')\n",
    "    tokenizer.fit_on_texts(text)\n",
    "    X = tokenizer.texts_to_sequences(text)\n",
    "    X = pad_sequences(X, padding='post', maxlen=max_len)\n",
    "    return X, tokenizer\n",
    "\n",
    "\n"
   ]
  },
  {
   "cell_type": "code",
   "execution_count": 484,
   "metadata": {},
   "outputs": [],
   "source": [
    "# Application de la tokenisation et padding\n",
    "x_train, tokenizer = tokenize_pad_sequences(x_train)\n",
    "x_test, _ = tokenize_pad_sequences(x_test)  # Utiliser le même tokenizer que pour x_train\n",
    "\n",
    "# Encodage des étiquettes en one-hot (y_train et y_test)\n",
    "y_train = pd.get_dummies(y_train).values\n",
    "y_test = pd.get_dummies(y_test).values\n",
    "\n"
   ]
  },
  {
   "cell_type": "code",
   "execution_count": 485,
   "metadata": {},
   "outputs": [],
   "source": [
    "# Sauvegarder le tokenizer pour usage futur\n",
    "with open('tokenizer.pickle', 'wb') as handle:\n",
    "    pickle.dump(tokenizer, handle, protocol=pickle.HIGHEST_PROTOCOL)"
   ]
  },
  {
   "cell_type": "markdown",
   "metadata": {},
   "source": [
    "# LSTM "
   ]
  },
  {
   "cell_type": "markdown",
   "metadata": {},
   "source": [
    "<!--\n",
    " Copyright 2024 ensai\n",
    " \n",
    " Licensed under the Apache License, Version 2.0 (the \"License\");\n",
    " you may not use this file except in compliance with the License.\n",
    " You may obtain a copy of the License at\n",
    " \n",
    "     https://www.apache.org/licenses/LICENSE-2.0\n",
    " \n",
    " Unless required by applicable law or agreed to in writing, software\n",
    " distributed under the License is distributed on an \"AS IS\" BASIS,\n",
    " WITHOUT WARRANTIES OR CONDITIONS OF ANY KIND, either express or implied.\n",
    " See the License for the specific language governing permissions and\n",
    " limitations under the License.\n",
    "-->\n",
    "\n"
   ]
  },
  {
   "cell_type": "markdown",
   "metadata": {},
   "source": [
    "## Aperçu du Modèle\n",
    "\n",
    "Le modèle utilisé dans ce projet comprend les composants clés suivants :\n",
    "\n",
    "- **Couche d'Embedding** : Convertit les mots en vecteurs denses, permettant au modèle de comprendre la signification sémantique des mots.\n",
    "- **Couche Convolutive 1D** : Extrait des motifs locaux et des caractéristiques à partir du texte d'entrée.\n",
    "- **Couche LSTM** : Capture les dépendances à long terme dans la séquence de mots en traitant l'information dans les deux directions à l'aide d'une LSTM bidirectionnelle.\n",
    "- **Couche Dropout** : Réduit la probabilité de surapprentissage (overfitting) en désactivant aléatoirement certaines unités de neurones pendant l'entraînement.\n",
    "- **Couche Dense (Fully Connected)** : Fournit la sortie finale, qui est la classification du sentiment (par exemple, Positif, Négatif, Neutre).\n",
    "\n",
    "### Justification des Choix de Modèle\n",
    "\n",
    "La combinaison des couches CNN et LSTM permet d'extraire à la fois des caractéristiques locales à partir des phrases avec les CNN et de capturer les dépendances à long terme avec les LSTM. Cela permet au modèle de mieux comprendre le contexte global du texte, comparé à l'utilisation d'un RNN classique.\n",
    "\n"
   ]
  },
  {
   "cell_type": "code",
   "execution_count": 486,
   "metadata": {},
   "outputs": [],
   "source": [
    "# Définir une grille d'hyperparamètres à tester\n",
    "param_grid = {\n",
    "    'epochs': [10, 20, 30],\n",
    "    'batch_size': [32, 64, 128],\n",
    "    'learning_rate': [0.0001, 0.001, 0.01]\n",
    "}\n",
    "\n",
    "\n"
   ]
  },
  {
   "cell_type": "markdown",
   "metadata": {},
   "source": [
    "## Entraînement du Modèle\n",
    "\n",
    "Le modèle est entraîné sur le jeu de données étiqueté avec plusieurs combinaisons d'hyperparamètres. L'entraînement est réalisé à l'aide d'algorithmes d'optimisation tels qu'Adam, avec des métriques d'évaluation suivies tout au long du processus. Des techniques telles que l'arrêt anticipé (early stopping) et la sauvegarde du meilleur modèle (model checkpoint) sont utilisées pour éviter le surapprentissage et sauvegarder la meilleure version du modèle.\n",
    "\n",
    "\n",
    "## Recherche d'Hyperparamètres\n",
    "\n",
    "Pour optimiser les performances du modèle, divers hyperparamètres tels que le taux d'apprentissage, la taille des lots et le nombre d'époques sont testés. Nous avons utilisé une approche d'exploration manuelle des hyperparamètres, en ajustant le taux d'apprentissage, la taille des lots, et le nombre d'époques. D'autres techniques telles que Random Search ou Grid Search pourraient être explorées pour optimiser davantage le modèle."
   ]
  },
  {
   "cell_type": "code",
   "execution_count": 487,
   "metadata": {},
   "outputs": [
    {
     "name": "stdout",
     "output_type": "stream",
     "text": [
      "Testing with params: {'batch_size': 32, 'epochs': 10, 'learning_rate': 0.0001}\n",
      "Epoch 1/10\n"
     ]
    },
    {
     "name": "stderr",
     "output_type": "stream",
     "text": [
      "/home/ensai/.local/lib/python3.10/site-packages/keras/src/layers/core/embedding.py:90: UserWarning:\n",
      "\n",
      "Argument `input_length` is deprecated. Just remove it.\n",
      "\n"
     ]
    },
    {
     "name": "stdout",
     "output_type": "stream",
     "text": [
      "\u001b[1m320/321\u001b[0m \u001b[32m━━━━━━━━━━━━━━━━━━━\u001b[0m\u001b[37m━\u001b[0m \u001b[1m0s\u001b[0m 28ms/step - accuracy: 0.6135 - loss: 0.9785 - precision_9: 0.5415 - recall_9: 0.3458\n",
      "Epoch 1: val_loss improved from inf to 0.88049, saving model to best_model.keras\n",
      "\u001b[1m321/321\u001b[0m \u001b[32m━━━━━━━━━━━━━━━━━━━━\u001b[0m\u001b[37m\u001b[0m \u001b[1m13s\u001b[0m 35ms/step - accuracy: 0.6135 - loss: 0.9783 - precision_9: 0.5420 - recall_9: 0.3469 - val_accuracy: 0.6407 - val_loss: 0.8805 - val_precision_9: 0.6433 - val_recall_9: 0.6407\n",
      "Epoch 2/10\n",
      "\u001b[1m319/321\u001b[0m \u001b[32m━━━━━━━━━━━━━━━━━━━\u001b[0m\u001b[37m━\u001b[0m \u001b[1m0s\u001b[0m 28ms/step - accuracy: 0.6235 - loss: 0.8410 - precision_9: 0.6780 - recall_9: 0.5838\n",
      "Epoch 2: val_loss improved from 0.88049 to 0.84697, saving model to best_model.keras\n",
      "\u001b[1m321/321\u001b[0m \u001b[32m━━━━━━━━━━━━━━━━━━━━\u001b[0m\u001b[37m\u001b[0m \u001b[1m10s\u001b[0m 32ms/step - accuracy: 0.6237 - loss: 0.8405 - precision_9: 0.6785 - recall_9: 0.5836 - val_accuracy: 0.6480 - val_loss: 0.8470 - val_precision_9: 0.7283 - val_recall_9: 0.5499\n",
      "Epoch 3/10\n",
      "\u001b[1m319/321\u001b[0m \u001b[32m━━━━━━━━━━━━━━━━━━━\u001b[0m\u001b[37m━\u001b[0m \u001b[1m0s\u001b[0m 26ms/step - accuracy: 0.6986 - loss: 0.6765 - precision_9: 0.8443 - recall_9: 0.5430\n",
      "Epoch 3: val_loss did not improve from 0.84697\n",
      "\u001b[1m321/321\u001b[0m \u001b[32m━━━━━━━━━━━━━━━━━━━━\u001b[0m\u001b[37m\u001b[0m \u001b[1m10s\u001b[0m 31ms/step - accuracy: 0.6988 - loss: 0.6764 - precision_9: 0.8444 - recall_9: 0.5430 - val_accuracy: 0.6332 - val_loss: 0.8872 - val_precision_9: 0.7484 - val_recall_9: 0.4706\n",
      "Epoch 4/10\n",
      "\u001b[1m321/321\u001b[0m \u001b[32m━━━━━━━━━━━━━━━━━━━━\u001b[0m\u001b[37m\u001b[0m \u001b[1m0s\u001b[0m 30ms/step - accuracy: 0.7595 - loss: 0.5908 - precision_9: 0.8885 - recall_9: 0.5631\n",
      "Epoch 4: val_loss did not improve from 0.84697\n",
      "\u001b[1m321/321\u001b[0m \u001b[32m━━━━━━━━━━━━━━━━━━━━\u001b[0m\u001b[37m\u001b[0m \u001b[1m11s\u001b[0m 35ms/step - accuracy: 0.7595 - loss: 0.5908 - precision_9: 0.8885 - recall_9: 0.5632 - val_accuracy: 0.6628 - val_loss: 0.9803 - val_precision_9: 0.7286 - val_recall_9: 0.5726\n",
      "Epoch 5/10\n",
      "\u001b[1m321/321\u001b[0m \u001b[32m━━━━━━━━━━━━━━━━━━━━\u001b[0m\u001b[37m\u001b[0m \u001b[1m0s\u001b[0m 31ms/step - accuracy: 0.7850 - loss: 0.5231 - precision_9: 0.8712 - recall_9: 0.6653\n",
      "Epoch 5: val_loss did not improve from 0.84697\n",
      "\u001b[1m321/321\u001b[0m \u001b[32m━━━━━━━━━━━━━━━━━━━━\u001b[0m\u001b[37m\u001b[0m \u001b[1m11s\u001b[0m 35ms/step - accuracy: 0.7850 - loss: 0.5230 - precision_9: 0.8712 - recall_9: 0.6654 - val_accuracy: 0.6264 - val_loss: 1.0657 - val_precision_9: 0.6513 - val_recall_9: 0.5870\n",
      "\u001b[1m138/138\u001b[0m \u001b[32m━━━━━━━━━━━━━━━━━━━━\u001b[0m\u001b[37m\u001b[0m \u001b[1m2s\u001b[0m 13ms/step - accuracy: 0.6427 - loss: 0.8644 - precision_9: 0.7240 - recall_9: 0.5445\n",
      "Results: [0.8469664454460144, 0.6479963660240173, 0.7282871007919312, 0.5498633980751038]\n",
      "Testing with params: {'batch_size': 32, 'epochs': 10, 'learning_rate': 0.001}\n",
      "Epoch 1/10\n",
      "\u001b[1m319/321\u001b[0m \u001b[32m━━━━━━━━━━━━━━━━━━━\u001b[0m\u001b[37m━\u001b[0m \u001b[1m0s\u001b[0m 29ms/step - accuracy: 0.6489 - loss: 0.8263 - precision_10: 0.6975 - recall_10: 0.5175\n",
      "Epoch 1: val_loss improved from inf to 0.90562, saving model to best_model.keras\n",
      "\u001b[1m321/321\u001b[0m \u001b[32m━━━━━━━━━━━━━━━━━━━━\u001b[0m\u001b[37m\u001b[0m \u001b[1m13s\u001b[0m 33ms/step - accuracy: 0.6493 - loss: 0.8253 - precision_10: 0.6982 - recall_10: 0.5181 - val_accuracy: 0.6569 - val_loss: 0.9056 - val_precision_10: 0.6996 - val_recall_10: 0.5733\n",
      "Epoch 2/10\n",
      "\u001b[1m320/321\u001b[0m \u001b[32m━━━━━━━━━━━━━━━━━━━\u001b[0m\u001b[37m━\u001b[0m \u001b[1m0s\u001b[0m 28ms/step - accuracy: 0.8224 - loss: 0.4593 - precision_10: 0.8557 - recall_10: 0.7799\n",
      "Epoch 2: val_loss did not improve from 0.90562\n",
      "\u001b[1m321/321\u001b[0m \u001b[32m━━━━━━━━━━━━━━━━━━━━\u001b[0m\u001b[37m\u001b[0m \u001b[1m10s\u001b[0m 31ms/step - accuracy: 0.8224 - loss: 0.4593 - precision_10: 0.8557 - recall_10: 0.7800 - val_accuracy: 0.6259 - val_loss: 1.1383 - val_precision_10: 0.6406 - val_recall_10: 0.6022\n",
      "Epoch 3/10\n",
      "\u001b[1m320/321\u001b[0m \u001b[32m━━━━━━━━━━━━━━━━━━━\u001b[0m\u001b[37m━\u001b[0m \u001b[1m0s\u001b[0m 29ms/step - accuracy: 0.8958 - loss: 0.2882 - precision_10: 0.9091 - recall_10: 0.8857\n",
      "Epoch 3: val_loss did not improve from 0.90562\n",
      "\u001b[1m321/321\u001b[0m \u001b[32m━━━━━━━━━━━━━━━━━━━━\u001b[0m\u001b[37m\u001b[0m \u001b[1m10s\u001b[0m 32ms/step - accuracy: 0.8958 - loss: 0.2883 - precision_10: 0.9090 - recall_10: 0.8857 - val_accuracy: 0.6107 - val_loss: 1.2543 - val_precision_10: 0.6203 - val_recall_10: 0.5947\n",
      "Epoch 4/10\n",
      "\u001b[1m321/321\u001b[0m \u001b[32m━━━━━━━━━━━━━━━━━━━━\u001b[0m\u001b[37m\u001b[0m \u001b[1m0s\u001b[0m 30ms/step - accuracy: 0.9346 - loss: 0.1898 - precision_10: 0.9414 - recall_10: 0.9284\n",
      "Epoch 4: val_loss did not improve from 0.90562\n",
      "\u001b[1m321/321\u001b[0m \u001b[32m━━━━━━━━━━━━━━━━━━━━\u001b[0m\u001b[37m\u001b[0m \u001b[1m11s\u001b[0m 34ms/step - accuracy: 0.9346 - loss: 0.1899 - precision_10: 0.9414 - recall_10: 0.9284 - val_accuracy: 0.5831 - val_loss: 1.5167 - val_precision_10: 0.5900 - val_recall_10: 0.5722\n",
      "\u001b[1m138/138\u001b[0m \u001b[32m━━━━━━━━━━━━━━━━━━━━\u001b[0m\u001b[37m\u001b[0m \u001b[1m1s\u001b[0m 8ms/step - accuracy: 0.6479 - loss: 0.9178 - precision_10: 0.6890 - recall_10: 0.5695\n",
      "Results: [0.9056169390678406, 0.6568761467933655, 0.6996387839317322, 0.5733151435852051]\n",
      "Testing with params: {'batch_size': 32, 'epochs': 10, 'learning_rate': 0.01}\n",
      "Epoch 1/10\n",
      "\u001b[1m320/321\u001b[0m \u001b[32m━━━━━━━━━━━━━━━━━━━\u001b[0m\u001b[37m━\u001b[0m \u001b[1m0s\u001b[0m 29ms/step - accuracy: 0.6897 - loss: 0.7496 - precision_11: 0.7483 - recall_11: 0.5942\n",
      "Epoch 1: val_loss improved from inf to 0.89617, saving model to best_model.keras\n",
      "\u001b[1m321/321\u001b[0m \u001b[32m━━━━━━━━━━━━━━━━━━━━\u001b[0m\u001b[37m\u001b[0m \u001b[1m13s\u001b[0m 35ms/step - accuracy: 0.6900 - loss: 0.7491 - precision_11: 0.7485 - recall_11: 0.5947 - val_accuracy: 0.6330 - val_loss: 0.8962 - val_precision_11: 0.6621 - val_recall_11: 0.5738\n",
      "Epoch 2/10\n",
      "\u001b[1m319/321\u001b[0m \u001b[32m━━━━━━━━━━━━━━━━━━━\u001b[0m\u001b[37m━\u001b[0m \u001b[1m0s\u001b[0m 29ms/step - accuracy: 0.8277 - loss: 0.4730 - precision_11: 0.8504 - recall_11: 0.7953\n",
      "Epoch 2: val_loss did not improve from 0.89617\n",
      "\u001b[1m321/321\u001b[0m \u001b[32m━━━━━━━━━━━━━━━━━━━━\u001b[0m\u001b[37m\u001b[0m \u001b[1m11s\u001b[0m 34ms/step - accuracy: 0.8277 - loss: 0.4730 - precision_11: 0.8504 - recall_11: 0.7953 - val_accuracy: 0.5934 - val_loss: 1.2677 - val_precision_11: 0.6112 - val_recall_11: 0.5731\n",
      "Epoch 3/10\n",
      "\u001b[1m320/321\u001b[0m \u001b[32m━━━━━━━━━━━━━━━━━━━\u001b[0m\u001b[37m━\u001b[0m \u001b[1m0s\u001b[0m 29ms/step - accuracy: 0.8750 - loss: 0.3414 - precision_11: 0.8909 - recall_11: 0.8615\n",
      "Epoch 3: val_loss did not improve from 0.89617\n",
      "\u001b[1m321/321\u001b[0m \u001b[32m━━━━━━━━━━━━━━━━━━━━\u001b[0m\u001b[37m\u001b[0m \u001b[1m11s\u001b[0m 34ms/step - accuracy: 0.8749 - loss: 0.3415 - precision_11: 0.8909 - recall_11: 0.8614 - val_accuracy: 0.6277 - val_loss: 1.2144 - val_precision_11: 0.6417 - val_recall_11: 0.6072\n",
      "Epoch 4/10\n",
      "\u001b[1m320/321\u001b[0m \u001b[32m━━━━━━━━━━━━━━━━━━━\u001b[0m\u001b[37m━\u001b[0m \u001b[1m0s\u001b[0m 30ms/step - accuracy: 0.9034 - loss: 0.2744 - precision_11: 0.9132 - recall_11: 0.8906\n",
      "Epoch 4: val_loss did not improve from 0.89617\n",
      "\u001b[1m321/321\u001b[0m \u001b[32m━━━━━━━━━━━━━━━━━━━━\u001b[0m\u001b[37m\u001b[0m \u001b[1m11s\u001b[0m 35ms/step - accuracy: 0.9034 - loss: 0.2744 - precision_11: 0.9131 - recall_11: 0.8906 - val_accuracy: 0.6104 - val_loss: 1.3441 - val_precision_11: 0.6255 - val_recall_11: 0.5906\n",
      "\u001b[1m138/138\u001b[0m \u001b[32m━━━━━━━━━━━━━━━━━━━━\u001b[0m\u001b[37m\u001b[0m \u001b[1m2s\u001b[0m 14ms/step - accuracy: 0.6295 - loss: 0.9098 - precision_11: 0.6622 - recall_11: 0.5713\n",
      "Results: [0.8961670994758606, 0.6329690217971802, 0.6621124744415283, 0.5737704634666443]\n",
      "Testing with params: {'batch_size': 32, 'epochs': 20, 'learning_rate': 0.0001}\n",
      "Epoch 1/20\n",
      "\u001b[1m319/321\u001b[0m \u001b[32m━━━━━━━━━━━━━━━━━━━\u001b[0m\u001b[37m━\u001b[0m \u001b[1m0s\u001b[0m 29ms/step - accuracy: 0.5945 - loss: 0.9861 - precision_12: 0.5216 - recall_12: 0.3263\n",
      "Epoch 1: val_loss improved from inf to 0.87114, saving model to best_model.keras\n",
      "\u001b[1m321/321\u001b[0m \u001b[32m━━━━━━━━━━━━━━━━━━━━\u001b[0m\u001b[37m\u001b[0m \u001b[1m13s\u001b[0m 35ms/step - accuracy: 0.5947 - loss: 0.9856 - precision_12: 0.5226 - recall_12: 0.3281 - val_accuracy: 0.6407 - val_loss: 0.8711 - val_precision_12: 0.6407 - val_recall_12: 0.6407\n",
      "Epoch 2/20\n",
      "\u001b[1m319/321\u001b[0m \u001b[32m━━━━━━━━━━━━━━━━━━━\u001b[0m\u001b[37m━\u001b[0m \u001b[1m0s\u001b[0m 28ms/step - accuracy: 0.6371 - loss: 0.8135 - precision_12: 0.6969 - recall_12: 0.5976\n",
      "Epoch 2: val_loss improved from 0.87114 to 0.86003, saving model to best_model.keras\n",
      "\u001b[1m321/321\u001b[0m \u001b[32m━━━━━━━━━━━━━━━━━━━━\u001b[0m\u001b[37m\u001b[0m \u001b[1m11s\u001b[0m 34ms/step - accuracy: 0.6373 - loss: 0.8131 - precision_12: 0.6974 - recall_12: 0.5972 - val_accuracy: 0.6660 - val_loss: 0.8600 - val_precision_12: 0.7225 - val_recall_12: 0.5560\n",
      "Epoch 3/20\n",
      "\u001b[1m321/321\u001b[0m \u001b[32m━━━━━━━━━━━━━━━━━━━━\u001b[0m\u001b[37m\u001b[0m \u001b[1m0s\u001b[0m 29ms/step - accuracy: 0.7117 - loss: 0.6564 - precision_12: 0.8629 - recall_12: 0.5415\n",
      "Epoch 3: val_loss did not improve from 0.86003\n",
      "\u001b[1m321/321\u001b[0m \u001b[32m━━━━━━━━━━━━━━━━━━━━\u001b[0m\u001b[37m\u001b[0m \u001b[1m11s\u001b[0m 33ms/step - accuracy: 0.7117 - loss: 0.6563 - precision_12: 0.8629 - recall_12: 0.5415 - val_accuracy: 0.6708 - val_loss: 0.9032 - val_precision_12: 0.7395 - val_recall_12: 0.5474\n",
      "Epoch 4/20\n",
      "\u001b[1m319/321\u001b[0m \u001b[32m━━━━━━━━━━━━━━━━━━━\u001b[0m\u001b[37m━\u001b[0m \u001b[1m0s\u001b[0m 29ms/step - accuracy: 0.7697 - loss: 0.5620 - precision_12: 0.8885 - recall_12: 0.6017\n",
      "Epoch 4: val_loss did not improve from 0.86003\n",
      "\u001b[1m321/321\u001b[0m \u001b[32m━━━━━━━━━━━━━━━━━━━━\u001b[0m\u001b[37m\u001b[0m \u001b[1m11s\u001b[0m 34ms/step - accuracy: 0.7697 - loss: 0.5620 - precision_12: 0.8884 - recall_12: 0.6018 - val_accuracy: 0.6521 - val_loss: 0.9666 - val_precision_12: 0.7327 - val_recall_12: 0.5578\n",
      "Epoch 5/20\n",
      "\u001b[1m321/321\u001b[0m \u001b[32m━━━━━━━━━━━━━━━━━━━━\u001b[0m\u001b[37m\u001b[0m \u001b[1m0s\u001b[0m 29ms/step - accuracy: 0.8081 - loss: 0.4924 - precision_12: 0.8757 - recall_12: 0.6880\n",
      "Epoch 5: val_loss did not improve from 0.86003\n",
      "\u001b[1m321/321\u001b[0m \u001b[32m━━━━━━━━━━━━━━━━━━━━\u001b[0m\u001b[37m\u001b[0m \u001b[1m11s\u001b[0m 34ms/step - accuracy: 0.8081 - loss: 0.4924 - precision_12: 0.8757 - recall_12: 0.6880 - val_accuracy: 0.6357 - val_loss: 1.0769 - val_precision_12: 0.6830 - val_recall_12: 0.5799\n",
      "\u001b[1m138/138\u001b[0m \u001b[32m━━━━━━━━━━━━━━━━━━━━\u001b[0m\u001b[37m\u001b[0m \u001b[1m2s\u001b[0m 13ms/step - accuracy: 0.6598 - loss: 0.8823 - precision_12: 0.7224 - recall_12: 0.5527\n",
      "Results: [0.8600304126739502, 0.6659836173057556, 0.7224851846694946, 0.556010901927948]\n",
      "Testing with params: {'batch_size': 32, 'epochs': 20, 'learning_rate': 0.001}\n",
      "Epoch 1/20\n",
      "\u001b[1m321/321\u001b[0m \u001b[32m━━━━━━━━━━━━━━━━━━━━\u001b[0m\u001b[37m\u001b[0m \u001b[1m0s\u001b[0m 31ms/step - accuracy: 0.6567 - loss: 0.8166 - precision_13: 0.7067 - recall_13: 0.5199\n",
      "Epoch 1: val_loss improved from inf to 0.89744, saving model to best_model.keras\n",
      "\u001b[1m321/321\u001b[0m \u001b[32m━━━━━━━━━━━━━━━━━━━━\u001b[0m\u001b[37m\u001b[0m \u001b[1m14s\u001b[0m 37ms/step - accuracy: 0.6568 - loss: 0.8163 - precision_13: 0.7069 - recall_13: 0.5201 - val_accuracy: 0.6421 - val_loss: 0.8974 - val_precision_13: 0.7015 - val_recall_13: 0.5644\n",
      "Epoch 2/20\n",
      "\u001b[1m319/321\u001b[0m \u001b[32m━━━━━━━━━━━━━━━━━━━\u001b[0m\u001b[37m━\u001b[0m \u001b[1m0s\u001b[0m 30ms/step - accuracy: 0.8049 - loss: 0.4899 - precision_13: 0.8408 - recall_13: 0.7571\n",
      "Epoch 2: val_loss did not improve from 0.89744\n",
      "\u001b[1m321/321\u001b[0m \u001b[32m━━━━━━━━━━━━━━━━━━━━\u001b[0m\u001b[37m\u001b[0m \u001b[1m11s\u001b[0m 35ms/step - accuracy: 0.8050 - loss: 0.4897 - precision_13: 0.8409 - recall_13: 0.7573 - val_accuracy: 0.6245 - val_loss: 1.1306 - val_precision_13: 0.6434 - val_recall_13: 0.5949\n",
      "Epoch 3/20\n",
      "\u001b[1m320/321\u001b[0m \u001b[32m━━━━━━━━━━━━━━━━━━━\u001b[0m\u001b[37m━\u001b[0m \u001b[1m0s\u001b[0m 30ms/step - accuracy: 0.8993 - loss: 0.2887 - precision_13: 0.9095 - recall_13: 0.8878\n",
      "Epoch 3: val_loss did not improve from 0.89744\n",
      "\u001b[1m321/321\u001b[0m \u001b[32m━━━━━━━━━━━━━━━━━━━━\u001b[0m\u001b[37m\u001b[0m \u001b[1m11s\u001b[0m 35ms/step - accuracy: 0.8993 - loss: 0.2888 - precision_13: 0.9094 - recall_13: 0.8878 - val_accuracy: 0.5922 - val_loss: 1.2014 - val_precision_13: 0.6026 - val_recall_13: 0.5717\n",
      "Epoch 4/20\n",
      "\u001b[1m321/321\u001b[0m \u001b[32m━━━━━━━━━━━━━━━━━━━━\u001b[0m\u001b[37m\u001b[0m \u001b[1m0s\u001b[0m 30ms/step - accuracy: 0.9358 - loss: 0.1970 - precision_13: 0.9434 - recall_13: 0.9292\n",
      "Epoch 4: val_loss did not improve from 0.89744\n",
      "\u001b[1m321/321\u001b[0m \u001b[32m━━━━━━━━━━━━━━━━━━━━\u001b[0m\u001b[37m\u001b[0m \u001b[1m11s\u001b[0m 35ms/step - accuracy: 0.9358 - loss: 0.1970 - precision_13: 0.9434 - recall_13: 0.9292 - val_accuracy: 0.5699 - val_loss: 1.5207 - val_precision_13: 0.5773 - val_recall_13: 0.5597\n",
      "\u001b[1m138/138\u001b[0m \u001b[32m━━━━━━━━━━━━━━━━━━━━\u001b[0m\u001b[37m\u001b[0m \u001b[1m2s\u001b[0m 14ms/step - accuracy: 0.6382 - loss: 0.9070 - precision_13: 0.6947 - recall_13: 0.5644\n",
      "Results: [0.8974431753158569, 0.6420764923095703, 0.7014714479446411, 0.5644353628158569]\n",
      "Testing with params: {'batch_size': 32, 'epochs': 20, 'learning_rate': 0.01}\n",
      "Epoch 1/20\n",
      "\u001b[1m319/321\u001b[0m \u001b[32m━━━━━━━━━━━━━━━━━━━\u001b[0m\u001b[37m━\u001b[0m \u001b[1m0s\u001b[0m 29ms/step - accuracy: 0.6780 - loss: 0.7592 - precision_14: 0.7517 - recall_14: 0.5835\n",
      "Epoch 1: val_loss improved from inf to 1.02880, saving model to best_model.keras\n",
      "\u001b[1m321/321\u001b[0m \u001b[32m━━━━━━━━━━━━━━━━━━━━\u001b[0m\u001b[37m\u001b[0m \u001b[1m13s\u001b[0m 35ms/step - accuracy: 0.6785 - loss: 0.7584 - precision_14: 0.7520 - recall_14: 0.5841 - val_accuracy: 0.6075 - val_loss: 1.0288 - val_precision_14: 0.6264 - val_recall_14: 0.5676\n",
      "Epoch 2/20\n",
      "\u001b[1m320/321\u001b[0m \u001b[32m━━━━━━━━━━━━━━━━━━━\u001b[0m\u001b[37m━\u001b[0m \u001b[1m0s\u001b[0m 29ms/step - accuracy: 0.8377 - loss: 0.4482 - precision_14: 0.8582 - recall_14: 0.8064\n",
      "Epoch 2: val_loss did not improve from 1.02880\n",
      "\u001b[1m321/321\u001b[0m \u001b[32m━━━━━━━━━━━━━━━━━━━━\u001b[0m\u001b[37m\u001b[0m \u001b[1m11s\u001b[0m 35ms/step - accuracy: 0.8376 - loss: 0.4483 - precision_14: 0.8581 - recall_14: 0.8064 - val_accuracy: 0.5838 - val_loss: 1.0941 - val_precision_14: 0.5997 - val_recall_14: 0.5533\n",
      "Epoch 3/20\n",
      "\u001b[1m321/321\u001b[0m \u001b[32m━━━━━━━━━━━━━━━━━━━━\u001b[0m\u001b[37m\u001b[0m \u001b[1m0s\u001b[0m 30ms/step - accuracy: 0.8948 - loss: 0.3175 - precision_14: 0.9042 - recall_14: 0.8824\n",
      "Epoch 3: val_loss did not improve from 1.02880\n",
      "\u001b[1m321/321\u001b[0m \u001b[32m━━━━━━━━━━━━━━━━━━━━\u001b[0m\u001b[37m\u001b[0m \u001b[1m11s\u001b[0m 34ms/step - accuracy: 0.8948 - loss: 0.3176 - precision_14: 0.9042 - recall_14: 0.8824 - val_accuracy: 0.6334 - val_loss: 1.1657 - val_precision_14: 0.6473 - val_recall_14: 0.6077\n",
      "Epoch 4/20\n",
      "\u001b[1m320/321\u001b[0m \u001b[32m━━━━━━━━━━━━━━━━━━━\u001b[0m\u001b[37m━\u001b[0m \u001b[1m0s\u001b[0m 26ms/step - accuracy: 0.9085 - loss: 0.2741 - precision_14: 0.9179 - recall_14: 0.8970\n",
      "Epoch 4: val_loss did not improve from 1.02880\n",
      "\u001b[1m321/321\u001b[0m \u001b[32m━━━━━━━━━━━━━━━━━━━━\u001b[0m\u001b[37m\u001b[0m \u001b[1m10s\u001b[0m 32ms/step - accuracy: 0.9083 - loss: 0.2743 - precision_14: 0.9178 - recall_14: 0.8968 - val_accuracy: 0.6173 - val_loss: 1.4590 - val_precision_14: 0.6247 - val_recall_14: 0.6015\n",
      "\u001b[1m138/138\u001b[0m \u001b[32m━━━━━━━━━━━━━━━━━━━━\u001b[0m\u001b[37m\u001b[0m \u001b[1m2s\u001b[0m 12ms/step - accuracy: 0.6083 - loss: 1.0431 - precision_14: 0.6290 - recall_14: 0.5697\n",
      "Results: [1.028800129890442, 0.6074681282043457, 0.6263819336891174, 0.5676229596138]\n",
      "Testing with params: {'batch_size': 32, 'epochs': 30, 'learning_rate': 0.0001}\n",
      "Epoch 1/30\n",
      "\u001b[1m320/321\u001b[0m \u001b[32m━━━━━━━━━━━━━━━━━━━\u001b[0m\u001b[37m━\u001b[0m \u001b[1m0s\u001b[0m 27ms/step - accuracy: 0.5957 - loss: 0.9853 - precision_15: 0.5274 - recall_15: 0.3199\n",
      "Epoch 1: val_loss improved from inf to 0.86805, saving model to best_model.keras\n",
      "\u001b[1m321/321\u001b[0m \u001b[32m━━━━━━━━━━━━━━━━━━━━\u001b[0m\u001b[37m\u001b[0m \u001b[1m13s\u001b[0m 33ms/step - accuracy: 0.5958 - loss: 0.9850 - precision_15: 0.5281 - recall_15: 0.3211 - val_accuracy: 0.6407 - val_loss: 0.8680 - val_precision_15: 0.6407 - val_recall_15: 0.6407\n",
      "Epoch 2/30\n",
      "\u001b[1m320/321\u001b[0m \u001b[32m━━━━━━━━━━━━━━━━━━━\u001b[0m\u001b[37m━\u001b[0m \u001b[1m0s\u001b[0m 26ms/step - accuracy: 0.6304 - loss: 0.8263 - precision_15: 0.6934 - recall_15: 0.5790\n",
      "Epoch 2: val_loss improved from 0.86805 to 0.82793, saving model to best_model.keras\n",
      "\u001b[1m321/321\u001b[0m \u001b[32m━━━━━━━━━━━━━━━━━━━━\u001b[0m\u001b[37m\u001b[0m \u001b[1m10s\u001b[0m 31ms/step - accuracy: 0.6306 - loss: 0.8261 - precision_15: 0.6937 - recall_15: 0.5788 - val_accuracy: 0.6746 - val_loss: 0.8279 - val_precision_15: 0.7429 - val_recall_15: 0.5223\n",
      "Epoch 3/30\n",
      "\u001b[1m320/321\u001b[0m \u001b[32m━━━━━━━━━━━━━━━━━━━\u001b[0m\u001b[37m━\u001b[0m \u001b[1m0s\u001b[0m 26ms/step - accuracy: 0.7182 - loss: 0.6650 - precision_15: 0.8519 - recall_15: 0.5452\n",
      "Epoch 3: val_loss did not improve from 0.82793\n",
      "\u001b[1m321/321\u001b[0m \u001b[32m━━━━━━━━━━━━━━━━━━━━\u001b[0m\u001b[37m\u001b[0m \u001b[1m10s\u001b[0m 31ms/step - accuracy: 0.7183 - loss: 0.6649 - precision_15: 0.8519 - recall_15: 0.5452 - val_accuracy: 0.6746 - val_loss: 0.8918 - val_precision_15: 0.7365 - val_recall_15: 0.5665\n",
      "Epoch 4/30\n",
      "\u001b[1m320/321\u001b[0m \u001b[32m━━━━━━━━━━━━━━━━━━━\u001b[0m\u001b[37m━\u001b[0m \u001b[1m0s\u001b[0m 27ms/step - accuracy: 0.7651 - loss: 0.5709 - precision_15: 0.8660 - recall_15: 0.6132\n",
      "Epoch 4: val_loss did not improve from 0.82793\n",
      "\u001b[1m321/321\u001b[0m \u001b[32m━━━━━━━━━━━━━━━━━━━━\u001b[0m\u001b[37m\u001b[0m \u001b[1m10s\u001b[0m 32ms/step - accuracy: 0.7652 - loss: 0.5708 - precision_15: 0.8660 - recall_15: 0.6134 - val_accuracy: 0.6614 - val_loss: 0.9798 - val_precision_15: 0.7102 - val_recall_15: 0.5920\n",
      "Epoch 5/30\n",
      "\u001b[1m320/321\u001b[0m \u001b[32m━━━━━━━━━━━━━━━━━━━\u001b[0m\u001b[37m━\u001b[0m \u001b[1m0s\u001b[0m 26ms/step - accuracy: 0.8058 - loss: 0.4900 - precision_15: 0.8541 - recall_15: 0.7209\n",
      "Epoch 5: val_loss did not improve from 0.82793\n",
      "\u001b[1m321/321\u001b[0m \u001b[32m━━━━━━━━━━━━━━━━━━━━\u001b[0m\u001b[37m\u001b[0m \u001b[1m10s\u001b[0m 31ms/step - accuracy: 0.8058 - loss: 0.4900 - precision_15: 0.8541 - recall_15: 0.7209 - val_accuracy: 0.6232 - val_loss: 1.0226 - val_precision_15: 0.6530 - val_recall_15: 0.5836\n",
      "\u001b[1m138/138\u001b[0m \u001b[32m━━━━━━━━━━━━━━━━━━━━\u001b[0m\u001b[37m\u001b[0m \u001b[1m2s\u001b[0m 11ms/step - accuracy: 0.6656 - loss: 0.8437 - precision_15: 0.7413 - recall_15: 0.5191\n",
      "Results: [0.8279262185096741, 0.6746357083320618, 0.7428756356239319, 0.5223132967948914]\n",
      "Testing with params: {'batch_size': 32, 'epochs': 30, 'learning_rate': 0.001}\n",
      "Epoch 1/30\n",
      "\u001b[1m320/321\u001b[0m \u001b[32m━━━━━━━━━━━━━━━━━━━\u001b[0m\u001b[37m━\u001b[0m \u001b[1m0s\u001b[0m 25ms/step - accuracy: 0.6690 - loss: 0.7948 - precision_16: 0.7238 - recall_16: 0.5404\n",
      "Epoch 1: val_loss improved from inf to 0.92128, saving model to best_model.keras\n",
      "\u001b[1m321/321\u001b[0m \u001b[32m━━━━━━━━━━━━━━━━━━━━\u001b[0m\u001b[37m\u001b[0m \u001b[1m12s\u001b[0m 31ms/step - accuracy: 0.6692 - loss: 0.7942 - precision_16: 0.7242 - recall_16: 0.5407 - val_accuracy: 0.6412 - val_loss: 0.9213 - val_precision_16: 0.6794 - val_recall_16: 0.5886\n",
      "Epoch 2/30\n",
      "\u001b[1m321/321\u001b[0m \u001b[32m━━━━━━━━━━━━━━━━━━━━\u001b[0m\u001b[37m\u001b[0m \u001b[1m0s\u001b[0m 26ms/step - accuracy: 0.8203 - loss: 0.4755 - precision_16: 0.8542 - recall_16: 0.7739\n",
      "Epoch 2: val_loss did not improve from 0.92128\n",
      "\u001b[1m321/321\u001b[0m \u001b[32m━━━━━━━━━━━━━━━━━━━━\u001b[0m\u001b[37m\u001b[0m \u001b[1m10s\u001b[0m 30ms/step - accuracy: 0.8203 - loss: 0.4754 - precision_16: 0.8542 - recall_16: 0.7739 - val_accuracy: 0.6209 - val_loss: 1.1278 - val_precision_16: 0.6359 - val_recall_16: 0.5981\n",
      "Epoch 3/30\n",
      "\u001b[1m320/321\u001b[0m \u001b[32m━━━━━━━━━━━━━━━━━━━\u001b[0m\u001b[37m━\u001b[0m \u001b[1m0s\u001b[0m 25ms/step - accuracy: 0.8964 - loss: 0.2955 - precision_16: 0.9065 - recall_16: 0.8848\n",
      "Epoch 3: val_loss did not improve from 0.92128\n",
      "\u001b[1m321/321\u001b[0m \u001b[32m━━━━━━━━━━━━━━━━━━━━\u001b[0m\u001b[37m\u001b[0m \u001b[1m10s\u001b[0m 30ms/step - accuracy: 0.8964 - loss: 0.2955 - precision_16: 0.9064 - recall_16: 0.8848 - val_accuracy: 0.6113 - val_loss: 1.2681 - val_precision_16: 0.6209 - val_recall_16: 0.5963\n",
      "Epoch 4/30\n",
      "\u001b[1m321/321\u001b[0m \u001b[32m━━━━━━━━━━━━━━━━━━━━\u001b[0m\u001b[37m\u001b[0m \u001b[1m0s\u001b[0m 22ms/step - accuracy: 0.9345 - loss: 0.1936 - precision_16: 0.9411 - recall_16: 0.9266\n",
      "Epoch 4: val_loss did not improve from 0.92128\n",
      "\u001b[1m321/321\u001b[0m \u001b[32m━━━━━━━━━━━━━━━━━━━━\u001b[0m\u001b[37m\u001b[0m \u001b[1m9s\u001b[0m 27ms/step - accuracy: 0.9345 - loss: 0.1937 - precision_16: 0.9411 - recall_16: 0.9266 - val_accuracy: 0.5426 - val_loss: 1.5230 - val_precision_16: 0.5520 - val_recall_16: 0.5271\n",
      "\u001b[1m138/138\u001b[0m \u001b[32m━━━━━━━━━━━━━━━━━━━━\u001b[0m\u001b[37m\u001b[0m \u001b[1m1s\u001b[0m 11ms/step - accuracy: 0.6363 - loss: 0.9314 - precision_16: 0.6751 - recall_16: 0.5860\n",
      "Results: [0.9212812185287476, 0.6411657333374023, 0.6793692708015442, 0.5885701179504395]\n",
      "Testing with params: {'batch_size': 32, 'epochs': 30, 'learning_rate': 0.01}\n",
      "Epoch 1/30\n",
      "\u001b[1m320/321\u001b[0m \u001b[32m━━━━━━━━━━━━━━━━━━━\u001b[0m\u001b[37m━\u001b[0m \u001b[1m0s\u001b[0m 25ms/step - accuracy: 0.6945 - loss: 0.7383 - precision_17: 0.7618 - recall_17: 0.5878\n",
      "Epoch 1: val_loss improved from inf to 0.95036, saving model to best_model.keras\n",
      "\u001b[1m321/321\u001b[0m \u001b[32m━━━━━━━━━━━━━━━━━━━━\u001b[0m\u001b[37m\u001b[0m \u001b[1m12s\u001b[0m 30ms/step - accuracy: 0.6947 - loss: 0.7379 - precision_17: 0.7620 - recall_17: 0.5882 - val_accuracy: 0.6218 - val_loss: 0.9504 - val_precision_17: 0.6474 - val_recall_17: 0.5685\n",
      "Epoch 2/30\n",
      "\u001b[1m320/321\u001b[0m \u001b[32m━━━━━━━━━━━━━━━━━━━\u001b[0m\u001b[37m━\u001b[0m \u001b[1m0s\u001b[0m 24ms/step - accuracy: 0.8353 - loss: 0.4479 - precision_17: 0.8565 - recall_17: 0.8121\n",
      "Epoch 2: val_loss did not improve from 0.95036\n",
      "\u001b[1m321/321\u001b[0m \u001b[32m━━━━━━━━━━━━━━━━━━━━\u001b[0m\u001b[37m\u001b[0m \u001b[1m9s\u001b[0m 29ms/step - accuracy: 0.8352 - loss: 0.4480 - precision_17: 0.8565 - recall_17: 0.8121 - val_accuracy: 0.6343 - val_loss: 1.2253 - val_precision_17: 0.6449 - val_recall_17: 0.6127\n",
      "Epoch 3/30\n",
      "\u001b[1m320/321\u001b[0m \u001b[32m━━━━━━━━━━━━━━━━━━━\u001b[0m\u001b[37m━\u001b[0m \u001b[1m0s\u001b[0m 24ms/step - accuracy: 0.8857 - loss: 0.3307 - precision_17: 0.8987 - recall_17: 0.8721\n",
      "Epoch 3: val_loss did not improve from 0.95036\n",
      "\u001b[1m321/321\u001b[0m \u001b[32m━━━━━━━━━━━━━━━━━━━━\u001b[0m\u001b[37m\u001b[0m \u001b[1m9s\u001b[0m 29ms/step - accuracy: 0.8856 - loss: 0.3309 - precision_17: 0.8986 - recall_17: 0.8721 - val_accuracy: 0.6480 - val_loss: 1.3001 - val_precision_17: 0.6538 - val_recall_17: 0.6389\n",
      "Epoch 4/30\n",
      "\u001b[1m319/321\u001b[0m \u001b[32m━━━━━━━━━━━━━━━━━━━\u001b[0m\u001b[37m━\u001b[0m \u001b[1m0s\u001b[0m 24ms/step - accuracy: 0.9000 - loss: 0.2817 - precision_17: 0.9118 - recall_17: 0.8903\n",
      "Epoch 4: val_loss did not improve from 0.95036\n",
      "\u001b[1m321/321\u001b[0m \u001b[32m━━━━━━━━━━━━━━━━━━━━\u001b[0m\u001b[37m\u001b[0m \u001b[1m9s\u001b[0m 29ms/step - accuracy: 0.9000 - loss: 0.2817 - precision_17: 0.9117 - recall_17: 0.8902 - val_accuracy: 0.6198 - val_loss: 1.5887 - val_precision_17: 0.6280 - val_recall_17: 0.6082\n",
      "\u001b[1m138/138\u001b[0m \u001b[32m━━━━━━━━━━━━━━━━━━━━\u001b[0m\u001b[37m\u001b[0m \u001b[1m1s\u001b[0m 11ms/step - accuracy: 0.6193 - loss: 0.9624 - precision_17: 0.6393 - recall_17: 0.5680\n",
      "Results: [0.9503557085990906, 0.6218124032020569, 0.6473943591117859, 0.568533718585968]\n",
      "Testing with params: {'batch_size': 64, 'epochs': 10, 'learning_rate': 0.0001}\n",
      "Epoch 1/10\n",
      "\u001b[1m161/161\u001b[0m \u001b[32m━━━━━━━━━━━━━━━━━━━━\u001b[0m\u001b[37m\u001b[0m \u001b[1m0s\u001b[0m 34ms/step - accuracy: 0.5967 - loss: 1.0078 - precision_18: 0.4781 - recall_18: 0.2317\n",
      "Epoch 1: val_loss improved from inf to 0.89979, saving model to best_model.keras\n",
      "\u001b[1m161/161\u001b[0m \u001b[32m━━━━━━━━━━━━━━━━━━━━\u001b[0m\u001b[37m\u001b[0m \u001b[1m9s\u001b[0m 43ms/step - accuracy: 0.5968 - loss: 1.0075 - precision_18: 0.4790 - recall_18: 0.2330 - val_accuracy: 0.6407 - val_loss: 0.8998 - val_precision_18: 0.6407 - val_recall_18: 0.6407\n",
      "Epoch 2/10\n",
      "\u001b[1m159/161\u001b[0m \u001b[32m━━━━━━━━━━━━━━━━━━━\u001b[0m\u001b[37m━\u001b[0m \u001b[1m0s\u001b[0m 35ms/step - accuracy: 0.6201 - loss: 0.9166 - precision_18: 0.6216 - recall_18: 0.6158\n",
      "Epoch 2: val_loss improved from 0.89979 to 0.85261, saving model to best_model.keras\n",
      "\u001b[1m161/161\u001b[0m \u001b[32m━━━━━━━━━━━━━━━━━━━━\u001b[0m\u001b[37m\u001b[0m \u001b[1m7s\u001b[0m 42ms/step - accuracy: 0.6201 - loss: 0.9162 - precision_18: 0.6217 - recall_18: 0.6158 - val_accuracy: 0.6407 - val_loss: 0.8526 - val_precision_18: 0.6756 - val_recall_18: 0.6259\n",
      "Epoch 3/10\n",
      "\u001b[1m160/161\u001b[0m \u001b[32m━━━━━━━━━━━━━━━━━━━\u001b[0m\u001b[37m━\u001b[0m \u001b[1m0s\u001b[0m 33ms/step - accuracy: 0.6339 - loss: 0.7931 - precision_18: 0.7262 - recall_18: 0.5765\n",
      "Epoch 3: val_loss improved from 0.85261 to 0.85050, saving model to best_model.keras\n",
      "\u001b[1m161/161\u001b[0m \u001b[32m━━━━━━━━━━━━━━━━━━━━\u001b[0m\u001b[37m\u001b[0m \u001b[1m6s\u001b[0m 40ms/step - accuracy: 0.6341 - loss: 0.7927 - precision_18: 0.7268 - recall_18: 0.5762 - val_accuracy: 0.6437 - val_loss: 0.8505 - val_precision_18: 0.7360 - val_recall_18: 0.5098\n",
      "Epoch 4/10\n",
      "\u001b[1m160/161\u001b[0m \u001b[32m━━━━━━━━━━━━━━━━━━━\u001b[0m\u001b[37m━\u001b[0m \u001b[1m0s\u001b[0m 34ms/step - accuracy: 0.7043 - loss: 0.6754 - precision_18: 0.8539 - recall_18: 0.5394\n",
      "Epoch 4: val_loss did not improve from 0.85050\n",
      "\u001b[1m161/161\u001b[0m \u001b[32m━━━━━━━━━━━━━━━━━━━━\u001b[0m\u001b[37m\u001b[0m \u001b[1m7s\u001b[0m 40ms/step - accuracy: 0.7043 - loss: 0.6752 - precision_18: 0.8540 - recall_18: 0.5394 - val_accuracy: 0.6273 - val_loss: 0.8905 - val_precision_18: 0.7354 - val_recall_18: 0.4975\n",
      "Epoch 5/10\n",
      "\u001b[1m159/161\u001b[0m \u001b[32m━━━━━━━━━━━━━━━━━━━\u001b[0m\u001b[37m━\u001b[0m \u001b[1m0s\u001b[0m 34ms/step - accuracy: 0.7321 - loss: 0.6018 - precision_18: 0.8784 - recall_18: 0.5575\n",
      "Epoch 5: val_loss did not improve from 0.85050\n",
      "\u001b[1m161/161\u001b[0m \u001b[32m━━━━━━━━━━━━━━━━━━━━\u001b[0m\u001b[37m\u001b[0m \u001b[1m7s\u001b[0m 41ms/step - accuracy: 0.7323 - loss: 0.6016 - precision_18: 0.8783 - recall_18: 0.5577 - val_accuracy: 0.6462 - val_loss: 0.9756 - val_precision_18: 0.7241 - val_recall_18: 0.5355\n",
      "Epoch 6/10\n",
      "\u001b[1m160/161\u001b[0m \u001b[32m━━━━━━━━━━━━━━━━━━━\u001b[0m\u001b[37m━\u001b[0m \u001b[1m0s\u001b[0m 34ms/step - accuracy: 0.7753 - loss: 0.5405 - precision_18: 0.8830 - recall_18: 0.6143\n",
      "Epoch 6: val_loss did not improve from 0.85050\n",
      "\u001b[1m161/161\u001b[0m \u001b[32m━━━━━━━━━━━━━━━━━━━━\u001b[0m\u001b[37m\u001b[0m \u001b[1m7s\u001b[0m 41ms/step - accuracy: 0.7754 - loss: 0.5404 - precision_18: 0.8829 - recall_18: 0.6146 - val_accuracy: 0.6441 - val_loss: 1.0344 - val_precision_18: 0.7248 - val_recall_18: 0.5576\n",
      "\u001b[1m138/138\u001b[0m \u001b[32m━━━━━━━━━━━━━━━━━━━━\u001b[0m\u001b[37m\u001b[0m \u001b[1m1s\u001b[0m 10ms/step - accuracy: 0.6376 - loss: 0.8662 - precision_18: 0.7315 - recall_18: 0.5018\n",
      "Results: [0.8505011200904846, 0.6436703205108643, 0.7360289096832275, 0.5097905397415161]\n",
      "Testing with params: {'batch_size': 64, 'epochs': 10, 'learning_rate': 0.001}\n",
      "Epoch 1/10\n",
      "\u001b[1m160/161\u001b[0m \u001b[32m━━━━━━━━━━━━━━━━━━━\u001b[0m\u001b[37m━\u001b[0m \u001b[1m0s\u001b[0m 35ms/step - accuracy: 0.6271 - loss: 0.8805 - precision_19: 0.6599 - recall_19: 0.4646\n",
      "Epoch 1: val_loss improved from inf to 0.87769, saving model to best_model.keras\n",
      "\u001b[1m161/161\u001b[0m \u001b[32m━━━━━━━━━━━━━━━━━━━━\u001b[0m\u001b[37m\u001b[0m \u001b[1m10s\u001b[0m 43ms/step - accuracy: 0.6277 - loss: 0.8791 - precision_19: 0.6611 - recall_19: 0.4656 - val_accuracy: 0.6446 - val_loss: 0.8777 - val_precision_19: 0.6915 - val_recall_19: 0.5838\n",
      "Epoch 2/10\n",
      "\u001b[1m160/161\u001b[0m \u001b[32m━━━━━━━━━━━━━━━━━━━\u001b[0m\u001b[37m━\u001b[0m \u001b[1m0s\u001b[0m 35ms/step - accuracy: 0.8128 - loss: 0.4837 - precision_19: 0.8471 - recall_19: 0.7618\n",
      "Epoch 2: val_loss did not improve from 0.87769\n",
      "\u001b[1m161/161\u001b[0m \u001b[32m━━━━━━━━━━━━━━━━━━━━\u001b[0m\u001b[37m\u001b[0m \u001b[1m7s\u001b[0m 42ms/step - accuracy: 0.8129 - loss: 0.4835 - precision_19: 0.8471 - recall_19: 0.7620 - val_accuracy: 0.6453 - val_loss: 1.0646 - val_precision_19: 0.6592 - val_recall_19: 0.6198\n",
      "Epoch 3/10\n",
      "\u001b[1m161/161\u001b[0m \u001b[32m━━━━━━━━━━━━━━━━━━━━\u001b[0m\u001b[37m\u001b[0m \u001b[1m0s\u001b[0m 34ms/step - accuracy: 0.8915 - loss: 0.3025 - precision_19: 0.9054 - recall_19: 0.8783\n",
      "Epoch 3: val_loss did not improve from 0.87769\n",
      "\u001b[1m161/161\u001b[0m \u001b[32m━━━━━━━━━━━━━━━━━━━━\u001b[0m\u001b[37m\u001b[0m \u001b[1m6s\u001b[0m 40ms/step - accuracy: 0.8915 - loss: 0.3026 - precision_19: 0.9053 - recall_19: 0.8782 - val_accuracy: 0.6339 - val_loss: 1.2831 - val_precision_19: 0.6448 - val_recall_19: 0.6179\n",
      "Epoch 4/10\n",
      "\u001b[1m159/161\u001b[0m \u001b[32m━━━━━━━━━━━━━━━━━━━\u001b[0m\u001b[37m━\u001b[0m \u001b[1m0s\u001b[0m 35ms/step - accuracy: 0.9317 - loss: 0.2100 - precision_19: 0.9374 - recall_19: 0.9258\n",
      "Epoch 4: val_loss did not improve from 0.87769\n",
      "\u001b[1m161/161\u001b[0m \u001b[32m━━━━━━━━━━━━━━━━━━━━\u001b[0m\u001b[37m\u001b[0m \u001b[1m6s\u001b[0m 40ms/step - accuracy: 0.9315 - loss: 0.2103 - precision_19: 0.9372 - recall_19: 0.9256 - val_accuracy: 0.5977 - val_loss: 1.4184 - val_precision_19: 0.6064 - val_recall_19: 0.5845\n",
      "\u001b[1m138/138\u001b[0m \u001b[32m━━━━━━━━━━━━━━━━━━━━\u001b[0m\u001b[37m\u001b[0m \u001b[1m1s\u001b[0m 8ms/step - accuracy: 0.6482 - loss: 0.8925 - precision_19: 0.6897 - recall_19: 0.5876\n",
      "Results: [0.877694308757782, 0.6445810794830322, 0.69147789478302, 0.5837886929512024]\n",
      "Testing with params: {'batch_size': 64, 'epochs': 10, 'learning_rate': 0.01}\n",
      "Epoch 1/10\n",
      "\u001b[1m161/161\u001b[0m \u001b[32m━━━━━━━━━━━━━━━━━━━━\u001b[0m\u001b[37m\u001b[0m \u001b[1m0s\u001b[0m 33ms/step - accuracy: 0.6714 - loss: 0.7631 - precision_20: 0.7447 - recall_20: 0.5674\n",
      "Epoch 1: val_loss improved from inf to 0.99949, saving model to best_model.keras\n",
      "\u001b[1m161/161\u001b[0m \u001b[32m━━━━━━━━━━━━━━━━━━━━\u001b[0m\u001b[37m\u001b[0m \u001b[1m8s\u001b[0m 40ms/step - accuracy: 0.6718 - loss: 0.7625 - precision_20: 0.7449 - recall_20: 0.5679 - val_accuracy: 0.6352 - val_loss: 0.9995 - val_precision_20: 0.6629 - val_recall_20: 0.5959\n",
      "Epoch 2/10\n",
      "\u001b[1m159/161\u001b[0m \u001b[32m━━━━━━━━━━━━━━━━━━━\u001b[0m\u001b[37m━\u001b[0m \u001b[1m0s\u001b[0m 35ms/step - accuracy: 0.8483 - loss: 0.4076 - precision_20: 0.8670 - recall_20: 0.8207\n",
      "Epoch 2: val_loss did not improve from 0.99949\n",
      "\u001b[1m161/161\u001b[0m \u001b[32m━━━━━━━━━━━━━━━━━━━━\u001b[0m\u001b[37m\u001b[0m \u001b[1m6s\u001b[0m 40ms/step - accuracy: 0.8482 - loss: 0.4079 - precision_20: 0.8669 - recall_20: 0.8207 - val_accuracy: 0.6352 - val_loss: 1.0935 - val_precision_20: 0.6449 - val_recall_20: 0.6166\n",
      "Epoch 3/10\n",
      "\u001b[1m160/161\u001b[0m \u001b[32m━━━━━━━━━━━━━━━━━━━\u001b[0m\u001b[37m━\u001b[0m \u001b[1m0s\u001b[0m 32ms/step - accuracy: 0.9047 - loss: 0.2628 - precision_20: 0.9146 - recall_20: 0.8947\n",
      "Epoch 3: val_loss did not improve from 0.99949\n",
      "\u001b[1m161/161\u001b[0m \u001b[32m━━━━━━━━━━━━━━━━━━━━\u001b[0m\u001b[37m\u001b[0m \u001b[1m6s\u001b[0m 36ms/step - accuracy: 0.9047 - loss: 0.2630 - precision_20: 0.9146 - recall_20: 0.8946 - val_accuracy: 0.5879 - val_loss: 1.3099 - val_precision_20: 0.5968 - val_recall_20: 0.5638\n",
      "Epoch 4/10\n",
      "\u001b[1m159/161\u001b[0m \u001b[32m━━━━━━━━━━━━━━━━━━━\u001b[0m\u001b[37m━\u001b[0m \u001b[1m0s\u001b[0m 30ms/step - accuracy: 0.9326 - loss: 0.1873 - precision_20: 0.9426 - recall_20: 0.9269\n",
      "Epoch 4: val_loss did not improve from 0.99949\n",
      "\u001b[1m161/161\u001b[0m \u001b[32m━━━━━━━━━━━━━━━━━━━━\u001b[0m\u001b[37m\u001b[0m \u001b[1m6s\u001b[0m 35ms/step - accuracy: 0.9326 - loss: 0.1877 - precision_20: 0.9424 - recall_20: 0.9267 - val_accuracy: 0.6148 - val_loss: 1.4182 - val_precision_20: 0.6218 - val_recall_20: 0.5956\n",
      "\u001b[1m138/138\u001b[0m \u001b[32m━━━━━━━━━━━━━━━━━━━━\u001b[0m\u001b[37m\u001b[0m \u001b[1m1s\u001b[0m 9ms/step - accuracy: 0.6330 - loss: 1.0213 - precision_20: 0.6631 - recall_20: 0.5944\n",
      "Results: [0.9994887113571167, 0.6352459192276001, 0.6628672480583191, 0.5958561301231384]\n",
      "Testing with params: {'batch_size': 64, 'epochs': 20, 'learning_rate': 0.0001}\n",
      "Epoch 1/20\n",
      "\u001b[1m159/161\u001b[0m \u001b[32m━━━━━━━━━━━━━━━━━━━\u001b[0m\u001b[37m━\u001b[0m \u001b[1m0s\u001b[0m 26ms/step - accuracy: 0.5966 - loss: 1.0095 - precision_21: 0.4519 - recall_21: 0.2164\n",
      "Epoch 1: val_loss improved from inf to 0.89701, saving model to best_model.keras\n",
      "\u001b[1m161/161\u001b[0m \u001b[32m━━━━━━━━━━━━━━━━━━━━\u001b[0m\u001b[37m\u001b[0m \u001b[1m7s\u001b[0m 33ms/step - accuracy: 0.5970 - loss: 1.0086 - precision_21: 0.4549 - recall_21: 0.2205 - val_accuracy: 0.6407 - val_loss: 0.8970 - val_precision_21: 0.6407 - val_recall_21: 0.6407\n",
      "Epoch 2/20\n",
      "\u001b[1m161/161\u001b[0m \u001b[32m━━━━━━━━━━━━━━━━━━━━\u001b[0m\u001b[37m\u001b[0m \u001b[1m0s\u001b[0m 26ms/step - accuracy: 0.6234 - loss: 0.9012 - precision_21: 0.6280 - recall_21: 0.6195\n",
      "Epoch 2: val_loss improved from 0.89701 to 0.83724, saving model to best_model.keras\n",
      "\u001b[1m161/161\u001b[0m \u001b[32m━━━━━━━━━━━━━━━━━━━━\u001b[0m\u001b[37m\u001b[0m \u001b[1m5s\u001b[0m 31ms/step - accuracy: 0.6234 - loss: 0.9011 - precision_21: 0.6280 - recall_21: 0.6194 - val_accuracy: 0.6407 - val_loss: 0.8372 - val_precision_21: 0.6888 - val_recall_21: 0.6138\n",
      "Epoch 3/20\n",
      "\u001b[1m160/161\u001b[0m \u001b[32m━━━━━━━━━━━━━━━━━━━\u001b[0m\u001b[37m━\u001b[0m \u001b[1m0s\u001b[0m 26ms/step - accuracy: 0.6547 - loss: 0.7477 - precision_21: 0.7630 - recall_21: 0.5757\n",
      "Epoch 3: val_loss did not improve from 0.83724\n",
      "\u001b[1m161/161\u001b[0m \u001b[32m━━━━━━━━━━━━━━━━━━━━\u001b[0m\u001b[37m\u001b[0m \u001b[1m5s\u001b[0m 32ms/step - accuracy: 0.6548 - loss: 0.7476 - precision_21: 0.7633 - recall_21: 0.5753 - val_accuracy: 0.6469 - val_loss: 0.8586 - val_precision_21: 0.7276 - val_recall_21: 0.5423\n",
      "Epoch 4/20\n",
      "\u001b[1m160/161\u001b[0m \u001b[32m━━━━━━━━━━━━━━━━━━━\u001b[0m\u001b[37m━\u001b[0m \u001b[1m0s\u001b[0m 29ms/step - accuracy: 0.7015 - loss: 0.6680 - precision_21: 0.8534 - recall_21: 0.5410\n",
      "Epoch 4: val_loss did not improve from 0.83724\n",
      "\u001b[1m161/161\u001b[0m \u001b[32m━━━━━━━━━━━━━━━━━━━━\u001b[0m\u001b[37m\u001b[0m \u001b[1m6s\u001b[0m 34ms/step - accuracy: 0.7016 - loss: 0.6678 - precision_21: 0.8536 - recall_21: 0.5410 - val_accuracy: 0.6239 - val_loss: 0.9049 - val_precision_21: 0.7371 - val_recall_21: 0.4891\n",
      "Epoch 5/20\n",
      "\u001b[1m160/161\u001b[0m \u001b[32m━━━━━━━━━━━━━━━━━━━\u001b[0m\u001b[37m━\u001b[0m \u001b[1m0s\u001b[0m 33ms/step - accuracy: 0.7384 - loss: 0.5937 - precision_21: 0.8849 - recall_21: 0.5570\n",
      "Epoch 5: val_loss did not improve from 0.83724\n",
      "\u001b[1m161/161\u001b[0m \u001b[32m━━━━━━━━━━━━━━━━━━━━\u001b[0m\u001b[37m\u001b[0m \u001b[1m6s\u001b[0m 38ms/step - accuracy: 0.7385 - loss: 0.5936 - precision_21: 0.8849 - recall_21: 0.5571 - val_accuracy: 0.6512 - val_loss: 0.9785 - val_precision_21: 0.7254 - val_recall_21: 0.5228\n",
      "\u001b[1m138/138\u001b[0m \u001b[32m━━━━━━━━━━━━━━━━━━━━\u001b[0m\u001b[37m\u001b[0m \u001b[1m1s\u001b[0m 8ms/step - accuracy: 0.6330 - loss: 0.8468 - precision_21: 0.6827 - recall_21: 0.6053\n",
      "Results: [0.8372436761856079, 0.6407103538513184, 0.6888093948364258, 0.6138433218002319]\n",
      "Testing with params: {'batch_size': 64, 'epochs': 20, 'learning_rate': 0.001}\n",
      "Epoch 1/20\n",
      "\u001b[1m160/161\u001b[0m \u001b[32m━━━━━━━━━━━━━━━━━━━\u001b[0m\u001b[37m━\u001b[0m \u001b[1m0s\u001b[0m 32ms/step - accuracy: 0.6180 - loss: 0.8690 - precision_22: 0.6602 - recall_22: 0.4587\n",
      "Epoch 1: val_loss improved from inf to 0.89220, saving model to best_model.keras\n",
      "\u001b[1m161/161\u001b[0m \u001b[32m━━━━━━━━━━━━━━━━━━━━\u001b[0m\u001b[37m\u001b[0m \u001b[1m9s\u001b[0m 39ms/step - accuracy: 0.6186 - loss: 0.8677 - precision_22: 0.6615 - recall_22: 0.4596 - val_accuracy: 0.6487 - val_loss: 0.8922 - val_precision_22: 0.7300 - val_recall_22: 0.5250\n",
      "Epoch 2/20\n",
      "\u001b[1m161/161\u001b[0m \u001b[32m━━━━━━━━━━━━━━━━━━━━\u001b[0m\u001b[37m\u001b[0m \u001b[1m0s\u001b[0m 30ms/step - accuracy: 0.7695 - loss: 0.5513 - precision_22: 0.8622 - recall_22: 0.6437\n",
      "Epoch 2: val_loss did not improve from 0.89220\n",
      "\u001b[1m161/161\u001b[0m \u001b[32m━━━━━━━━━━━━━━━━━━━━\u001b[0m\u001b[37m\u001b[0m \u001b[1m6s\u001b[0m 35ms/step - accuracy: 0.7696 - loss: 0.5512 - precision_22: 0.8621 - recall_22: 0.6440 - val_accuracy: 0.6434 - val_loss: 1.0412 - val_precision_22: 0.6745 - val_recall_22: 0.6111\n",
      "Epoch 3/20\n",
      "\u001b[1m160/161\u001b[0m \u001b[32m━━━━━━━━━━━━━━━━━━━\u001b[0m\u001b[37m━\u001b[0m \u001b[1m0s\u001b[0m 32ms/step - accuracy: 0.8523 - loss: 0.3949 - precision_22: 0.8746 - recall_22: 0.8244\n",
      "Epoch 3: val_loss did not improve from 0.89220\n",
      "\u001b[1m161/161\u001b[0m \u001b[32m━━━━━━━━━━━━━━━━━━━━\u001b[0m\u001b[37m\u001b[0m \u001b[1m6s\u001b[0m 37ms/step - accuracy: 0.8524 - loss: 0.3948 - precision_22: 0.8746 - recall_22: 0.8245 - val_accuracy: 0.6214 - val_loss: 1.2030 - val_precision_22: 0.6329 - val_recall_22: 0.6025\n",
      "Epoch 4/20\n",
      "\u001b[1m161/161\u001b[0m \u001b[32m━━━━━━━━━━━━━━━━━━━━\u001b[0m\u001b[37m\u001b[0m \u001b[1m0s\u001b[0m 32ms/step - accuracy: 0.9106 - loss: 0.2599 - precision_22: 0.9196 - recall_22: 0.9008\n",
      "Epoch 4: val_loss did not improve from 0.89220\n",
      "\u001b[1m161/161\u001b[0m \u001b[32m━━━━━━━━━━━━━━━━━━━━\u001b[0m\u001b[37m\u001b[0m \u001b[1m6s\u001b[0m 38ms/step - accuracy: 0.9106 - loss: 0.2600 - precision_22: 0.9196 - recall_22: 0.9008 - val_accuracy: 0.6041 - val_loss: 1.4206 - val_precision_22: 0.6126 - val_recall_22: 0.5879\n",
      "\u001b[1m138/138\u001b[0m \u001b[32m━━━━━━━━━━━━━━━━━━━━\u001b[0m\u001b[37m\u001b[0m \u001b[1m1s\u001b[0m 8ms/step - accuracy: 0.6405 - loss: 0.8999 - precision_22: 0.7245 - recall_22: 0.5272\n",
      "Results: [0.8921961188316345, 0.6486794352531433, 0.7299778461456299, 0.5250455141067505]\n",
      "Testing with params: {'batch_size': 64, 'epochs': 20, 'learning_rate': 0.01}\n",
      "Epoch 1/20\n",
      "\u001b[1m161/161\u001b[0m \u001b[32m━━━━━━━━━━━━━━━━━━━━\u001b[0m\u001b[37m\u001b[0m \u001b[1m0s\u001b[0m 30ms/step - accuracy: 0.6693 - loss: 0.7885 - precision_23: 0.7268 - recall_23: 0.5599\n",
      "Epoch 1: val_loss improved from inf to 0.94707, saving model to best_model.keras\n",
      "\u001b[1m161/161\u001b[0m \u001b[32m━━━━━━━━━━━━━━━━━━━━\u001b[0m\u001b[37m\u001b[0m \u001b[1m8s\u001b[0m 37ms/step - accuracy: 0.6697 - loss: 0.7878 - precision_23: 0.7271 - recall_23: 0.5605 - val_accuracy: 0.6366 - val_loss: 0.9471 - val_precision_23: 0.6501 - val_recall_23: 0.6070\n",
      "Epoch 2/20\n",
      "\u001b[1m161/161\u001b[0m \u001b[32m━━━━━━━━━━━━━━━━━━━━\u001b[0m\u001b[37m\u001b[0m \u001b[1m0s\u001b[0m 31ms/step - accuracy: 0.8488 - loss: 0.4176 - precision_23: 0.8643 - recall_23: 0.8274\n",
      "Epoch 2: val_loss did not improve from 0.94707\n",
      "\u001b[1m161/161\u001b[0m \u001b[32m━━━━━━━━━━━━━━━━━━━━\u001b[0m\u001b[37m\u001b[0m \u001b[1m6s\u001b[0m 36ms/step - accuracy: 0.8488 - loss: 0.4176 - precision_23: 0.8643 - recall_23: 0.8274 - val_accuracy: 0.6275 - val_loss: 1.2739 - val_precision_23: 0.6365 - val_recall_23: 0.6088\n",
      "Epoch 3/20\n",
      "\u001b[1m161/161\u001b[0m \u001b[32m━━━━━━━━━━━━━━━━━━━━\u001b[0m\u001b[37m\u001b[0m \u001b[1m0s\u001b[0m 31ms/step - accuracy: 0.9050 - loss: 0.2835 - precision_23: 0.9159 - recall_23: 0.8945\n",
      "Epoch 3: val_loss did not improve from 0.94707\n",
      "\u001b[1m161/161\u001b[0m \u001b[32m━━━━━━━━━━━━━━━━━━━━\u001b[0m\u001b[37m\u001b[0m \u001b[1m6s\u001b[0m 36ms/step - accuracy: 0.9050 - loss: 0.2836 - precision_23: 0.9159 - recall_23: 0.8945 - val_accuracy: 0.6050 - val_loss: 1.3894 - val_precision_23: 0.6158 - val_recall_23: 0.5879\n",
      "Epoch 4/20\n",
      "\u001b[1m161/161\u001b[0m \u001b[32m━━━━━━━━━━━━━━━━━━━━\u001b[0m\u001b[37m\u001b[0m \u001b[1m0s\u001b[0m 31ms/step - accuracy: 0.9325 - loss: 0.1942 - precision_23: 0.9406 - recall_23: 0.9246\n",
      "Epoch 4: val_loss did not improve from 0.94707\n",
      "\u001b[1m161/161\u001b[0m \u001b[32m━━━━━━━━━━━━━━━━━━━━\u001b[0m\u001b[37m\u001b[0m \u001b[1m6s\u001b[0m 36ms/step - accuracy: 0.9325 - loss: 0.1943 - precision_23: 0.9405 - recall_23: 0.9246 - val_accuracy: 0.6015 - val_loss: 1.4608 - val_precision_23: 0.6084 - val_recall_23: 0.5890\n",
      "\u001b[1m138/138\u001b[0m \u001b[32m━━━━━━━━━━━━━━━━━━━━\u001b[0m\u001b[37m\u001b[0m \u001b[1m1s\u001b[0m 9ms/step - accuracy: 0.6297 - loss: 0.9648 - precision_23: 0.6415 - recall_23: 0.5999\n",
      "Results: [0.9470664262771606, 0.6366119980812073, 0.6500853300094604, 0.6070127487182617]\n",
      "Testing with params: {'batch_size': 64, 'epochs': 30, 'learning_rate': 0.0001}\n",
      "Epoch 1/30\n",
      "\u001b[1m160/161\u001b[0m \u001b[32m━━━━━━━━━━━━━━━━━━━\u001b[0m\u001b[37m━\u001b[0m \u001b[1m0s\u001b[0m 31ms/step - accuracy: 0.6020 - loss: 1.0040 - precision_24: 0.4786 - recall_24: 0.2320\n",
      "Epoch 1: val_loss improved from inf to 0.90382, saving model to best_model.keras\n",
      "\u001b[1m161/161\u001b[0m \u001b[32m━━━━━━━━━━━━━━━━━━━━\u001b[0m\u001b[37m\u001b[0m \u001b[1m8s\u001b[0m 38ms/step - accuracy: 0.6022 - loss: 1.0035 - precision_24: 0.4804 - recall_24: 0.2346 - val_accuracy: 0.6407 - val_loss: 0.9038 - val_precision_24: 0.6407 - val_recall_24: 0.6407\n",
      "Epoch 2/30\n",
      "\u001b[1m160/161\u001b[0m \u001b[32m━━━━━━━━━━━━━━━━━━━\u001b[0m\u001b[37m━\u001b[0m \u001b[1m0s\u001b[0m 31ms/step - accuracy: 0.6275 - loss: 0.9106 - precision_24: 0.6289 - recall_24: 0.6256\n",
      "Epoch 2: val_loss improved from 0.90382 to 0.85975, saving model to best_model.keras\n",
      "\u001b[1m161/161\u001b[0m \u001b[32m━━━━━━━━━━━━━━━━━━━━\u001b[0m\u001b[37m\u001b[0m \u001b[1m6s\u001b[0m 36ms/step - accuracy: 0.6274 - loss: 0.9106 - precision_24: 0.6289 - recall_24: 0.6255 - val_accuracy: 0.6407 - val_loss: 0.8597 - val_precision_24: 0.6407 - val_recall_24: 0.6407\n",
      "Epoch 3/30\n",
      "\u001b[1m161/161\u001b[0m \u001b[32m━━━━━━━━━━━━━━━━━━━━\u001b[0m\u001b[37m\u001b[0m \u001b[1m0s\u001b[0m 32ms/step - accuracy: 0.6331 - loss: 0.8050 - precision_24: 0.7089 - recall_24: 0.5901\n",
      "Epoch 3: val_loss did not improve from 0.85975\n",
      "\u001b[1m161/161\u001b[0m \u001b[32m━━━━━━━━━━━━━━━━━━━━\u001b[0m\u001b[37m\u001b[0m \u001b[1m6s\u001b[0m 38ms/step - accuracy: 0.6332 - loss: 0.8048 - precision_24: 0.7092 - recall_24: 0.5899 - val_accuracy: 0.6487 - val_loss: 0.8615 - val_precision_24: 0.7290 - val_recall_24: 0.5371\n",
      "Epoch 4/30\n",
      "\u001b[1m159/161\u001b[0m \u001b[32m━━━━━━━━━━━━━━━━━━━\u001b[0m\u001b[37m━\u001b[0m \u001b[1m0s\u001b[0m 29ms/step - accuracy: 0.7001 - loss: 0.6841 - precision_24: 0.8409 - recall_24: 0.5416\n",
      "Epoch 4: val_loss did not improve from 0.85975\n",
      "\u001b[1m161/161\u001b[0m \u001b[32m━━━━━━━━━━━━━━━━━━━━\u001b[0m\u001b[37m\u001b[0m \u001b[1m6s\u001b[0m 37ms/step - accuracy: 0.7001 - loss: 0.6840 - precision_24: 0.8411 - recall_24: 0.5415 - val_accuracy: 0.6382 - val_loss: 0.9034 - val_precision_24: 0.7297 - val_recall_24: 0.5182\n",
      "Epoch 5/30\n",
      "\u001b[1m161/161\u001b[0m \u001b[32m━━━━━━━━━━━━━━━━━━━━\u001b[0m\u001b[37m\u001b[0m \u001b[1m0s\u001b[0m 29ms/step - accuracy: 0.7223 - loss: 0.6237 - precision_24: 0.8639 - recall_24: 0.5546\n",
      "Epoch 5: val_loss did not improve from 0.85975\n",
      "\u001b[1m161/161\u001b[0m \u001b[32m━━━━━━━━━━━━━━━━━━━━\u001b[0m\u001b[37m\u001b[0m \u001b[1m6s\u001b[0m 36ms/step - accuracy: 0.7223 - loss: 0.6237 - precision_24: 0.8639 - recall_24: 0.5546 - val_accuracy: 0.6211 - val_loss: 0.9461 - val_precision_24: 0.7304 - val_recall_24: 0.4966\n",
      "\u001b[1m138/138\u001b[0m \u001b[32m━━━━━━━━━━━━━━━━━━━━\u001b[0m\u001b[37m\u001b[0m \u001b[1m1s\u001b[0m 10ms/step - accuracy: 0.6330 - loss: 0.8694 - precision_24: 0.6330 - recall_24: 0.6330\n",
      "Results: [0.8597456216812134, 0.6407103538513184, 0.6407103538513184, 0.6407103538513184]\n",
      "Testing with params: {'batch_size': 64, 'epochs': 30, 'learning_rate': 0.001}\n",
      "Epoch 1/30\n",
      "\u001b[1m161/161\u001b[0m \u001b[32m━━━━━━━━━━━━━━━━━━━━\u001b[0m\u001b[37m\u001b[0m \u001b[1m0s\u001b[0m 29ms/step - accuracy: 0.6313 - loss: 0.8686 - precision_25: 0.6665 - recall_25: 0.4779\n",
      "Epoch 1: val_loss improved from inf to 0.93773, saving model to best_model.keras\n",
      "\u001b[1m161/161\u001b[0m \u001b[32m━━━━━━━━━━━━━━━━━━━━\u001b[0m\u001b[37m\u001b[0m \u001b[1m8s\u001b[0m 39ms/step - accuracy: 0.6316 - loss: 0.8679 - precision_25: 0.6671 - recall_25: 0.4783 - val_accuracy: 0.6639 - val_loss: 0.9377 - val_precision_25: 0.7184 - val_recall_25: 0.5906\n",
      "Epoch 2/30\n",
      "\u001b[1m160/161\u001b[0m \u001b[32m━━━━━━━━━━━━━━━━━━━\u001b[0m\u001b[37m━\u001b[0m \u001b[1m0s\u001b[0m 29ms/step - accuracy: 0.7897 - loss: 0.5132 - precision_25: 0.8366 - recall_25: 0.7143\n",
      "Epoch 2: val_loss did not improve from 0.93773\n",
      "\u001b[1m161/161\u001b[0m \u001b[32m━━━━━━━━━━━━━━━━━━━━\u001b[0m\u001b[37m\u001b[0m \u001b[1m6s\u001b[0m 35ms/step - accuracy: 0.7898 - loss: 0.5131 - precision_25: 0.8366 - recall_25: 0.7145 - val_accuracy: 0.6236 - val_loss: 0.9792 - val_precision_25: 0.6484 - val_recall_25: 0.5854\n",
      "Epoch 3/30\n",
      "\u001b[1m159/161\u001b[0m \u001b[32m━━━━━━━━━━━━━━━━━━━\u001b[0m\u001b[37m━\u001b[0m \u001b[1m0s\u001b[0m 29ms/step - accuracy: 0.8615 - loss: 0.3630 - precision_25: 0.8831 - recall_25: 0.8419\n",
      "Epoch 3: val_loss did not improve from 0.93773\n",
      "\u001b[1m161/161\u001b[0m \u001b[32m━━━━━━━━━━━━━━━━━━━━\u001b[0m\u001b[37m\u001b[0m \u001b[1m6s\u001b[0m 36ms/step - accuracy: 0.8615 - loss: 0.3630 - precision_25: 0.8830 - recall_25: 0.8420 - val_accuracy: 0.6166 - val_loss: 1.1780 - val_precision_25: 0.6337 - val_recall_25: 0.5856\n",
      "Epoch 4/30\n",
      "\u001b[1m160/161\u001b[0m \u001b[32m━━━━━━━━━━━━━━━━━━━\u001b[0m\u001b[37m━\u001b[0m \u001b[1m0s\u001b[0m 30ms/step - accuracy: 0.9174 - loss: 0.2395 - precision_25: 0.9289 - recall_25: 0.9053\n",
      "Epoch 4: val_loss did not improve from 0.93773\n",
      "\u001b[1m161/161\u001b[0m \u001b[32m━━━━━━━━━━━━━━━━━━━━\u001b[0m\u001b[37m\u001b[0m \u001b[1m6s\u001b[0m 35ms/step - accuracy: 0.9173 - loss: 0.2397 - precision_25: 0.9287 - recall_25: 0.9053 - val_accuracy: 0.5936 - val_loss: 1.3523 - val_precision_25: 0.6079 - val_recall_25: 0.5813\n",
      "\u001b[1m138/138\u001b[0m \u001b[32m━━━━━━━━━━━━━━━━━━━━\u001b[0m\u001b[37m\u001b[0m \u001b[1m1s\u001b[0m 9ms/step - accuracy: 0.6545 - loss: 0.9527 - precision_25: 0.7124 - recall_25: 0.5860\n",
      "Results: [0.9377321600914001, 0.6639344096183777, 0.7183605432510376, 0.5906193256378174]\n",
      "Testing with params: {'batch_size': 64, 'epochs': 30, 'learning_rate': 0.01}\n",
      "Epoch 1/30\n",
      "\u001b[1m161/161\u001b[0m \u001b[32m━━━━━━━━━━━━━━━━━━━━\u001b[0m\u001b[37m\u001b[0m \u001b[1m0s\u001b[0m 28ms/step - accuracy: 0.6629 - loss: 0.7842 - precision_26: 0.7374 - recall_26: 0.5575\n",
      "Epoch 1: val_loss improved from inf to 0.92399, saving model to best_model.keras\n",
      "\u001b[1m161/161\u001b[0m \u001b[32m━━━━━━━━━━━━━━━━━━━━\u001b[0m\u001b[37m\u001b[0m \u001b[1m9s\u001b[0m 37ms/step - accuracy: 0.6632 - loss: 0.7836 - precision_26: 0.7377 - recall_26: 0.5580 - val_accuracy: 0.6359 - val_loss: 0.9240 - val_precision_26: 0.6662 - val_recall_26: 0.5904\n",
      "Epoch 2/30\n",
      "\u001b[1m159/161\u001b[0m \u001b[32m━━━━━━━━━━━━━━━━━━━\u001b[0m\u001b[37m━\u001b[0m \u001b[1m0s\u001b[0m 28ms/step - accuracy: 0.8475 - loss: 0.4215 - precision_26: 0.8667 - recall_26: 0.8245\n",
      "Epoch 2: val_loss did not improve from 0.92399\n",
      "\u001b[1m161/161\u001b[0m \u001b[32m━━━━━━━━━━━━━━━━━━━━\u001b[0m\u001b[37m\u001b[0m \u001b[1m6s\u001b[0m 35ms/step - accuracy: 0.8473 - loss: 0.4217 - precision_26: 0.8665 - recall_26: 0.8243 - val_accuracy: 0.6209 - val_loss: 1.1050 - val_precision_26: 0.6448 - val_recall_26: 0.5918\n",
      "Epoch 3/30\n",
      "\u001b[1m160/161\u001b[0m \u001b[32m━━━━━━━━━━━━━━━━━━━\u001b[0m\u001b[37m━\u001b[0m \u001b[1m0s\u001b[0m 29ms/step - accuracy: 0.9065 - loss: 0.2689 - precision_26: 0.9207 - recall_26: 0.8955\n",
      "Epoch 3: val_loss did not improve from 0.92399\n",
      "\u001b[1m161/161\u001b[0m \u001b[32m━━━━━━━━━━━━━━━━━━━━\u001b[0m\u001b[37m\u001b[0m \u001b[1m6s\u001b[0m 36ms/step - accuracy: 0.9064 - loss: 0.2692 - precision_26: 0.9206 - recall_26: 0.8954 - val_accuracy: 0.5954 - val_loss: 1.2760 - val_precision_26: 0.6067 - val_recall_26: 0.5747\n",
      "Epoch 4/30\n",
      "\u001b[1m160/161\u001b[0m \u001b[32m━━━━━━━━━━━━━━━━━━━\u001b[0m\u001b[37m━\u001b[0m \u001b[1m0s\u001b[0m 29ms/step - accuracy: 0.9320 - loss: 0.2048 - precision_26: 0.9411 - recall_26: 0.9216\n",
      "Epoch 4: val_loss did not improve from 0.92399\n",
      "\u001b[1m161/161\u001b[0m \u001b[32m━━━━━━━━━━━━━━━━━━━━\u001b[0m\u001b[37m\u001b[0m \u001b[1m6s\u001b[0m 36ms/step - accuracy: 0.9319 - loss: 0.2049 - precision_26: 0.9410 - recall_26: 0.9215 - val_accuracy: 0.5854 - val_loss: 1.5090 - val_precision_26: 0.5963 - val_recall_26: 0.5676\n",
      "\u001b[1m138/138\u001b[0m \u001b[32m━━━━━━━━━━━━━━━━━━━━\u001b[0m\u001b[37m\u001b[0m \u001b[1m1s\u001b[0m 9ms/step - accuracy: 0.6276 - loss: 0.9402 - precision_26: 0.6604 - recall_26: 0.5865\n",
      "Results: [0.9239877462387085, 0.6359289884567261, 0.6662384271621704, 0.5903916358947754]\n",
      "Testing with params: {'batch_size': 128, 'epochs': 10, 'learning_rate': 0.0001}\n",
      "Epoch 1/10\n",
      "\u001b[1m80/81\u001b[0m \u001b[32m━━━━━━━━━━━━━━━━━━━\u001b[0m\u001b[37m━\u001b[0m \u001b[1m0s\u001b[0m 45ms/step - accuracy: 0.5455 - loss: 1.0430 - precision_27: 0.3278 - recall_27: 0.0841\n",
      "Epoch 1: val_loss improved from inf to 0.90672, saving model to best_model.keras\n",
      "\u001b[1m81/81\u001b[0m \u001b[32m━━━━━━━━━━━━━━━━━━━━\u001b[0m\u001b[37m\u001b[0m \u001b[1m7s\u001b[0m 59ms/step - accuracy: 0.5469 - loss: 1.0417 - precision_27: 0.3348 - recall_27: 0.0891 - val_accuracy: 0.6407 - val_loss: 0.9067 - val_precision_27: 0.6407 - val_recall_27: 0.6407\n",
      "Epoch 2/10\n",
      "\u001b[1m80/81\u001b[0m \u001b[32m━━━━━━━━━━━━━━━━━━━\u001b[0m\u001b[37m━\u001b[0m \u001b[1m0s\u001b[0m 44ms/step - accuracy: 0.6213 - loss: 0.9336 - precision_27: 0.6206 - recall_27: 0.6156\n",
      "Epoch 2: val_loss improved from 0.90672 to 0.89671, saving model to best_model.keras\n",
      "\u001b[1m81/81\u001b[0m \u001b[32m━━━━━━━━━━━━━━━━━━━━\u001b[0m\u001b[37m\u001b[0m \u001b[1m4s\u001b[0m 53ms/step - accuracy: 0.6213 - loss: 0.9335 - precision_27: 0.6206 - recall_27: 0.6155 - val_accuracy: 0.6407 - val_loss: 0.8967 - val_precision_27: 0.6407 - val_recall_27: 0.6407\n",
      "Epoch 3/10\n",
      "\u001b[1m81/81\u001b[0m \u001b[32m━━━━━━━━━━━━━━━━━━━━\u001b[0m\u001b[37m\u001b[0m \u001b[1m0s\u001b[0m 43ms/step - accuracy: 0.6189 - loss: 0.9203 - precision_27: 0.6188 - recall_27: 0.6156\n",
      "Epoch 3: val_loss improved from 0.89671 to 0.87457, saving model to best_model.keras\n",
      "\u001b[1m81/81\u001b[0m \u001b[32m━━━━━━━━━━━━━━━━━━━━\u001b[0m\u001b[37m\u001b[0m \u001b[1m4s\u001b[0m 52ms/step - accuracy: 0.6189 - loss: 0.9201 - precision_27: 0.6188 - recall_27: 0.6156 - val_accuracy: 0.6407 - val_loss: 0.8746 - val_precision_27: 0.6407 - val_recall_27: 0.6407\n",
      "Epoch 4/10\n",
      "\u001b[1m81/81\u001b[0m \u001b[32m━━━━━━━━━━━━━━━━━━━━\u001b[0m\u001b[37m\u001b[0m \u001b[1m0s\u001b[0m 45ms/step - accuracy: 0.6224 - loss: 0.8585 - precision_27: 0.6426 - recall_27: 0.6139\n",
      "Epoch 4: val_loss improved from 0.87457 to 0.83378, saving model to best_model.keras\n",
      "\u001b[1m81/81\u001b[0m \u001b[32m━━━━━━━━━━━━━━━━━━━━\u001b[0m\u001b[37m\u001b[0m \u001b[1m4s\u001b[0m 54ms/step - accuracy: 0.6224 - loss: 0.8582 - precision_27: 0.6429 - recall_27: 0.6137 - val_accuracy: 0.6434 - val_loss: 0.8338 - val_precision_27: 0.7237 - val_recall_27: 0.5517\n",
      "Epoch 5/10\n",
      "\u001b[1m80/81\u001b[0m \u001b[32m━━━━━━━━━━━━━━━━━━━\u001b[0m\u001b[37m━\u001b[0m \u001b[1m0s\u001b[0m 45ms/step - accuracy: 0.6502 - loss: 0.7465 - precision_27: 0.7949 - recall_27: 0.5570\n",
      "Epoch 5: val_loss did not improve from 0.83378\n",
      "\u001b[1m81/81\u001b[0m \u001b[32m━━━━━━━━━━━━━━━━━━━━\u001b[0m\u001b[37m\u001b[0m \u001b[1m4s\u001b[0m 53ms/step - accuracy: 0.6505 - loss: 0.7462 - precision_27: 0.7952 - recall_27: 0.5566 - val_accuracy: 0.6514 - val_loss: 0.8458 - val_precision_27: 0.7365 - val_recall_27: 0.5262\n",
      "Epoch 6/10\n",
      "\u001b[1m81/81\u001b[0m \u001b[32m━━━━━━━━━━━━━━━━━━━━\u001b[0m\u001b[37m\u001b[0m \u001b[1m0s\u001b[0m 46ms/step - accuracy: 0.7129 - loss: 0.6741 - precision_27: 0.8517 - recall_27: 0.5437\n",
      "Epoch 6: val_loss did not improve from 0.83378\n",
      "\u001b[1m81/81\u001b[0m \u001b[32m━━━━━━━━━━━━━━━━━━━━\u001b[0m\u001b[37m\u001b[0m \u001b[1m4s\u001b[0m 54ms/step - accuracy: 0.7130 - loss: 0.6740 - precision_27: 0.8518 - recall_27: 0.5436 - val_accuracy: 0.6740 - val_loss: 0.8688 - val_precision_27: 0.7392 - val_recall_27: 0.5168\n",
      "Epoch 7/10\n",
      "\u001b[1m80/81\u001b[0m \u001b[32m━━━━━━━━━━━━━━━━━━━\u001b[0m\u001b[37m━\u001b[0m \u001b[1m0s\u001b[0m 44ms/step - accuracy: 0.7593 - loss: 0.6136 - precision_27: 0.8879 - recall_27: 0.5587\n",
      "Epoch 7: val_loss did not improve from 0.83378\n",
      "\u001b[1m81/81\u001b[0m \u001b[32m━━━━━━━━━━━━━━━━━━━━\u001b[0m\u001b[37m\u001b[0m \u001b[1m4s\u001b[0m 53ms/step - accuracy: 0.7593 - loss: 0.6134 - precision_27: 0.8878 - recall_27: 0.5588 - val_accuracy: 0.6758 - val_loss: 0.9124 - val_precision_27: 0.7396 - val_recall_27: 0.5496\n",
      "\u001b[1m138/138\u001b[0m \u001b[32m━━━━━━━━━━━━━━━━━━━━\u001b[0m\u001b[37m\u001b[0m \u001b[1m1s\u001b[0m 9ms/step - accuracy: 0.6374 - loss: 0.8446 - precision_27: 0.7190 - recall_27: 0.5474\n",
      "Results: [0.8337754607200623, 0.6434426307678223, 0.7237156629562378, 0.5516848564147949]\n",
      "Testing with params: {'batch_size': 128, 'epochs': 10, 'learning_rate': 0.001}\n",
      "Epoch 1/10\n",
      "\u001b[1m80/81\u001b[0m \u001b[32m━━━━━━━━━━━━━━━━━━━\u001b[0m\u001b[37m━\u001b[0m \u001b[1m0s\u001b[0m 45ms/step - accuracy: 0.6162 - loss: 0.9260 - precision_28: 0.6173 - recall_28: 0.4532\n",
      "Epoch 1: val_loss improved from inf to 0.85148, saving model to best_model.keras\n",
      "\u001b[1m81/81\u001b[0m \u001b[32m━━━━━━━━━━━━━━━━━━━━\u001b[0m\u001b[37m\u001b[0m \u001b[1m7s\u001b[0m 58ms/step - accuracy: 0.6169 - loss: 0.9237 - precision_28: 0.6195 - recall_28: 0.4552 - val_accuracy: 0.6348 - val_loss: 0.8515 - val_precision_28: 0.7425 - val_recall_28: 0.5100\n",
      "Epoch 2/10\n",
      "\u001b[1m81/81\u001b[0m \u001b[32m━━━━━━━━━━━━━━━━━━━━\u001b[0m\u001b[37m\u001b[0m \u001b[1m0s\u001b[0m 43ms/step - accuracy: 0.7300 - loss: 0.6112 - precision_28: 0.8463 - recall_28: 0.5802\n",
      "Epoch 2: val_loss did not improve from 0.85148\n",
      "\u001b[1m81/81\u001b[0m \u001b[32m━━━━━━━━━━━━━━━━━━━━\u001b[0m\u001b[37m\u001b[0m \u001b[1m4s\u001b[0m 52ms/step - accuracy: 0.7303 - loss: 0.6109 - precision_28: 0.8463 - recall_28: 0.5807 - val_accuracy: 0.6496 - val_loss: 0.9921 - val_precision_28: 0.6933 - val_recall_28: 0.5986\n",
      "Epoch 3/10\n",
      "\u001b[1m80/81\u001b[0m \u001b[32m━━━━━━━━━━━━━━━━━━━\u001b[0m\u001b[37m━\u001b[0m \u001b[1m0s\u001b[0m 46ms/step - accuracy: 0.8302 - loss: 0.4404 - precision_28: 0.8650 - recall_28: 0.7748\n",
      "Epoch 3: val_loss did not improve from 0.85148\n",
      "\u001b[1m81/81\u001b[0m \u001b[32m━━━━━━━━━━━━━━━━━━━━\u001b[0m\u001b[37m\u001b[0m \u001b[1m4s\u001b[0m 55ms/step - accuracy: 0.8302 - loss: 0.4405 - precision_28: 0.8647 - recall_28: 0.7750 - val_accuracy: 0.6204 - val_loss: 1.1019 - val_precision_28: 0.6429 - val_recall_28: 0.5906\n",
      "Epoch 4/10\n",
      "\u001b[1m80/81\u001b[0m \u001b[32m━━━━━━━━━━━━━━━━━━━\u001b[0m\u001b[37m━\u001b[0m \u001b[1m0s\u001b[0m 45ms/step - accuracy: 0.8849 - loss: 0.3317 - precision_28: 0.9016 - recall_28: 0.8639\n",
      "Epoch 4: val_loss did not improve from 0.85148\n",
      "\u001b[1m81/81\u001b[0m \u001b[32m━━━━━━━━━━━━━━━━━━━━\u001b[0m\u001b[37m\u001b[0m \u001b[1m4s\u001b[0m 53ms/step - accuracy: 0.8849 - loss: 0.3315 - precision_28: 0.9015 - recall_28: 0.8640 - val_accuracy: 0.6132 - val_loss: 1.2683 - val_precision_28: 0.6259 - val_recall_28: 0.5920\n",
      "\u001b[1m138/138\u001b[0m \u001b[32m━━━━━━━━━━━━━━━━━━━━\u001b[0m\u001b[37m\u001b[0m \u001b[1m1s\u001b[0m 9ms/step - accuracy: 0.6318 - loss: 0.8592 - precision_28: 0.7388 - recall_28: 0.5087\n",
      "Results: [0.8514817357063293, 0.6347905397415161, 0.7424594163894653, 0.5100182294845581]\n",
      "Testing with params: {'batch_size': 128, 'epochs': 10, 'learning_rate': 0.01}\n",
      "Epoch 1/10\n",
      "\u001b[1m81/81\u001b[0m \u001b[32m━━━━━━━━━━━━━━━━━━━━\u001b[0m\u001b[37m\u001b[0m \u001b[1m0s\u001b[0m 44ms/step - accuracy: 0.6406 - loss: 0.8151 - precision_29: 0.7217 - recall_29: 0.5191\n",
      "Epoch 1: val_loss improved from inf to 0.94331, saving model to best_model.keras\n",
      "\u001b[1m81/81\u001b[0m \u001b[32m━━━━━━━━━━━━━━━━━━━━\u001b[0m\u001b[37m\u001b[0m \u001b[1m7s\u001b[0m 58ms/step - accuracy: 0.6415 - loss: 0.8135 - precision_29: 0.7223 - recall_29: 0.5205 - val_accuracy: 0.6157 - val_loss: 0.9433 - val_precision_29: 0.6377 - val_recall_29: 0.5774\n",
      "Epoch 2/10\n",
      "\u001b[1m80/81\u001b[0m \u001b[32m━━━━━━━━━━━━━━━━━━━\u001b[0m\u001b[37m━\u001b[0m \u001b[1m0s\u001b[0m 43ms/step - accuracy: 0.8478 - loss: 0.4293 - precision_29: 0.8677 - recall_29: 0.8279\n",
      "Epoch 2: val_loss did not improve from 0.94331\n",
      "\u001b[1m81/81\u001b[0m \u001b[32m━━━━━━━━━━━━━━━━━━━━\u001b[0m\u001b[37m\u001b[0m \u001b[1m4s\u001b[0m 50ms/step - accuracy: 0.8477 - loss: 0.4293 - precision_29: 0.8675 - recall_29: 0.8279 - val_accuracy: 0.6309 - val_loss: 1.2281 - val_precision_29: 0.6448 - val_recall_29: 0.6141\n",
      "Epoch 3/10\n",
      "\u001b[1m80/81\u001b[0m \u001b[32m━━━━━━━━━━━━━━━━━━━\u001b[0m\u001b[37m━\u001b[0m \u001b[1m0s\u001b[0m 44ms/step - accuracy: 0.9049 - loss: 0.2699 - precision_29: 0.9128 - recall_29: 0.8928\n",
      "Epoch 3: val_loss did not improve from 0.94331\n",
      "\u001b[1m81/81\u001b[0m \u001b[32m━━━━━━━━━━━━━━━━━━━━\u001b[0m\u001b[37m\u001b[0m \u001b[1m4s\u001b[0m 52ms/step - accuracy: 0.9049 - loss: 0.2701 - precision_29: 0.9127 - recall_29: 0.8928 - val_accuracy: 0.6216 - val_loss: 1.2436 - val_precision_29: 0.6288 - val_recall_29: 0.6097\n",
      "Epoch 4/10\n",
      "\u001b[1m80/81\u001b[0m \u001b[32m━━━━━━━━━━━━━━━━━━━\u001b[0m\u001b[37m━\u001b[0m \u001b[1m0s\u001b[0m 41ms/step - accuracy: 0.9358 - loss: 0.1935 - precision_29: 0.9429 - recall_29: 0.9319\n",
      "Epoch 4: val_loss did not improve from 0.94331\n",
      "\u001b[1m81/81\u001b[0m \u001b[32m━━━━━━━━━━━━━━━━━━━━\u001b[0m\u001b[37m\u001b[0m \u001b[1m4s\u001b[0m 50ms/step - accuracy: 0.9356 - loss: 0.1938 - precision_29: 0.9427 - recall_29: 0.9316 - val_accuracy: 0.5861 - val_loss: 1.5633 - val_precision_29: 0.5910 - val_recall_29: 0.5713\n",
      "\u001b[1m138/138\u001b[0m \u001b[32m━━━━━━━━━━━━━━━━━━━━\u001b[0m\u001b[37m\u001b[0m \u001b[1m1s\u001b[0m 9ms/step - accuracy: 0.6179 - loss: 0.9517 - precision_29: 0.6382 - recall_29: 0.5789\n",
      "Results: [0.9433082342147827, 0.6156648397445679, 0.6376665830612183, 0.5774134993553162]\n",
      "Testing with params: {'batch_size': 128, 'epochs': 20, 'learning_rate': 0.0001}\n",
      "Epoch 1/20\n",
      "\u001b[1m80/81\u001b[0m \u001b[32m━━━━━━━━━━━━━━━━━━━\u001b[0m\u001b[37m━\u001b[0m \u001b[1m0s\u001b[0m 43ms/step - accuracy: 0.5358 - loss: 1.0447 - precision_30: 0.3331 - recall_30: 0.0773\n",
      "Epoch 1: val_loss improved from inf to 0.90559, saving model to best_model.keras\n",
      "\u001b[1m81/81\u001b[0m \u001b[32m━━━━━━━━━━━━━━━━━━━━\u001b[0m\u001b[37m\u001b[0m \u001b[1m7s\u001b[0m 56ms/step - accuracy: 0.5373 - loss: 1.0434 - precision_30: 0.3403 - recall_30: 0.0823 - val_accuracy: 0.6407 - val_loss: 0.9056 - val_precision_30: 0.6407 - val_recall_30: 0.6407\n",
      "Epoch 2/20\n",
      "\u001b[1m80/81\u001b[0m \u001b[32m━━━━━━━━━━━━━━━━━━━\u001b[0m\u001b[37m━\u001b[0m \u001b[1m0s\u001b[0m 44ms/step - accuracy: 0.6279 - loss: 0.9224 - precision_30: 0.6278 - recall_30: 0.6230\n",
      "Epoch 2: val_loss improved from 0.90559 to 0.89538, saving model to best_model.keras\n",
      "\u001b[1m81/81\u001b[0m \u001b[32m━━━━━━━━━━━━━━━━━━━━\u001b[0m\u001b[37m\u001b[0m \u001b[1m4s\u001b[0m 52ms/step - accuracy: 0.6277 - loss: 0.9225 - precision_30: 0.6276 - recall_30: 0.6228 - val_accuracy: 0.6407 - val_loss: 0.8954 - val_precision_30: 0.6407 - val_recall_30: 0.6407\n",
      "Epoch 3/20\n",
      "\u001b[1m80/81\u001b[0m \u001b[32m━━━━━━━━━━━━━━━━━━━\u001b[0m\u001b[37m━\u001b[0m \u001b[1m0s\u001b[0m 42ms/step - accuracy: 0.6182 - loss: 0.9169 - precision_30: 0.6209 - recall_30: 0.6125\n",
      "Epoch 3: val_loss improved from 0.89538 to 0.87236, saving model to best_model.keras\n",
      "\u001b[1m81/81\u001b[0m \u001b[32m━━━━━━━━━━━━━━━━━━━━\u001b[0m\u001b[37m\u001b[0m \u001b[1m4s\u001b[0m 52ms/step - accuracy: 0.6183 - loss: 0.9166 - precision_30: 0.6210 - recall_30: 0.6126 - val_accuracy: 0.6407 - val_loss: 0.8724 - val_precision_30: 0.6407 - val_recall_30: 0.6407\n",
      "Epoch 4/20\n",
      "\u001b[1m80/81\u001b[0m \u001b[32m━━━━━━━━━━━━━━━━━━━\u001b[0m\u001b[37m━\u001b[0m \u001b[1m0s\u001b[0m 43ms/step - accuracy: 0.6259 - loss: 0.8592 - precision_30: 0.6480 - recall_30: 0.6119\n",
      "Epoch 4: val_loss improved from 0.87236 to 0.83269, saving model to best_model.keras\n",
      "\u001b[1m81/81\u001b[0m \u001b[32m━━━━━━━━━━━━━━━━━━━━\u001b[0m\u001b[37m\u001b[0m \u001b[1m4s\u001b[0m 52ms/step - accuracy: 0.6258 - loss: 0.8588 - precision_30: 0.6485 - recall_30: 0.6114 - val_accuracy: 0.6407 - val_loss: 0.8327 - val_precision_30: 0.6904 - val_recall_30: 0.6118\n",
      "Epoch 5/20\n",
      "\u001b[1m80/81\u001b[0m \u001b[32m━━━━━━━━━━━━━━━━━━━\u001b[0m\u001b[37m━\u001b[0m \u001b[1m0s\u001b[0m 42ms/step - accuracy: 0.6484 - loss: 0.7603 - precision_30: 0.7652 - recall_30: 0.5569\n",
      "Epoch 5: val_loss did not improve from 0.83269\n",
      "\u001b[1m81/81\u001b[0m \u001b[32m━━━━━━━━━━━━━━━━━━━━\u001b[0m\u001b[37m\u001b[0m \u001b[1m4s\u001b[0m 52ms/step - accuracy: 0.6488 - loss: 0.7597 - precision_30: 0.7660 - recall_30: 0.5567 - val_accuracy: 0.6491 - val_loss: 0.8384 - val_precision_30: 0.7305 - val_recall_30: 0.5512\n",
      "Epoch 6/20\n",
      "\u001b[1m79/81\u001b[0m \u001b[32m━━━━━━━━━━━━━━━━━━━\u001b[0m\u001b[37m━\u001b[0m \u001b[1m0s\u001b[0m 42ms/step - accuracy: 0.6999 - loss: 0.6693 - precision_30: 0.8424 - recall_30: 0.5474\n",
      "Epoch 6: val_loss did not improve from 0.83269\n",
      "\u001b[1m81/81\u001b[0m \u001b[32m━━━━━━━━━━━━━━━━━━━━\u001b[0m\u001b[37m\u001b[0m \u001b[1m4s\u001b[0m 52ms/step - accuracy: 0.7000 - loss: 0.6691 - precision_30: 0.8426 - recall_30: 0.5474 - val_accuracy: 0.6409 - val_loss: 0.8629 - val_precision_30: 0.7372 - val_recall_30: 0.5194\n",
      "Epoch 7/20\n",
      "\u001b[1m80/81\u001b[0m \u001b[32m━━━━━━━━━━━━━━━━━━━\u001b[0m\u001b[37m━\u001b[0m \u001b[1m0s\u001b[0m 43ms/step - accuracy: 0.7326 - loss: 0.6172 - precision_30: 0.8654 - recall_30: 0.5642\n",
      "Epoch 7: val_loss did not improve from 0.83269\n",
      "\u001b[1m81/81\u001b[0m \u001b[32m━━━━━━━━━━━━━━━━━━━━\u001b[0m\u001b[37m\u001b[0m \u001b[1m4s\u001b[0m 51ms/step - accuracy: 0.7327 - loss: 0.6170 - precision_30: 0.8654 - recall_30: 0.5643 - val_accuracy: 0.6551 - val_loss: 0.9117 - val_precision_30: 0.7248 - val_recall_30: 0.5542\n",
      "\u001b[1m138/138\u001b[0m \u001b[32m━━━━━━━━━━━━━━━━━━━━\u001b[0m\u001b[37m\u001b[0m \u001b[1m1s\u001b[0m 9ms/step - accuracy: 0.6330 - loss: 0.8440 - precision_30: 0.6827 - recall_30: 0.6048\n",
      "Results: [0.8326862454414368, 0.6407103538513184, 0.6903905272483826, 0.6117941737174988]\n",
      "Testing with params: {'batch_size': 128, 'epochs': 20, 'learning_rate': 0.001}\n",
      "Epoch 1/20\n",
      "\u001b[1m80/81\u001b[0m \u001b[32m━━━━━━━━━━━━━━━━━━━\u001b[0m\u001b[37m━\u001b[0m \u001b[1m0s\u001b[0m 40ms/step - accuracy: 0.6003 - loss: 0.9338 - precision_31: 0.5989 - recall_31: 0.4224\n",
      "Epoch 1: val_loss improved from inf to 0.85260, saving model to best_model.keras\n",
      "\u001b[1m81/81\u001b[0m \u001b[32m━━━━━━━━━━━━━━━━━━━━\u001b[0m\u001b[37m\u001b[0m \u001b[1m6s\u001b[0m 54ms/step - accuracy: 0.6012 - loss: 0.9314 - precision_31: 0.6014 - recall_31: 0.4247 - val_accuracy: 0.6630 - val_loss: 0.8526 - val_precision_31: 0.7367 - val_recall_31: 0.5280\n",
      "Epoch 2/20\n",
      "\u001b[1m81/81\u001b[0m \u001b[32m━━━━━━━━━━━━━━━━━━━━\u001b[0m\u001b[37m\u001b[0m \u001b[1m0s\u001b[0m 41ms/step - accuracy: 0.7245 - loss: 0.6289 - precision_31: 0.8485 - recall_31: 0.5801\n",
      "Epoch 2: val_loss did not improve from 0.85260\n",
      "\u001b[1m81/81\u001b[0m \u001b[32m━━━━━━━━━━━━━━━━━━━━\u001b[0m\u001b[37m\u001b[0m \u001b[1m4s\u001b[0m 50ms/step - accuracy: 0.7245 - loss: 0.6288 - precision_31: 0.8484 - recall_31: 0.5803 - val_accuracy: 0.6473 - val_loss: 0.9643 - val_precision_31: 0.7219 - val_recall_31: 0.5490\n",
      "Epoch 3/20\n",
      "\u001b[1m81/81\u001b[0m \u001b[32m━━━━━━━━━━━━━━━━━━━━\u001b[0m\u001b[37m\u001b[0m \u001b[1m0s\u001b[0m 42ms/step - accuracy: 0.8005 - loss: 0.5027 - precision_31: 0.8701 - recall_31: 0.6918\n",
      "Epoch 3: val_loss did not improve from 0.85260\n",
      "\u001b[1m81/81\u001b[0m \u001b[32m━━━━━━━━━━━━━━━━━━━━\u001b[0m\u001b[37m\u001b[0m \u001b[1m4s\u001b[0m 51ms/step - accuracy: 0.8006 - loss: 0.5025 - precision_31: 0.8700 - recall_31: 0.6923 - val_accuracy: 0.6259 - val_loss: 1.1156 - val_precision_31: 0.6531 - val_recall_31: 0.5897\n",
      "Epoch 4/20\n",
      "\u001b[1m80/81\u001b[0m \u001b[32m━━━━━━━━━━━━━━━━━━━\u001b[0m\u001b[37m━\u001b[0m \u001b[1m0s\u001b[0m 40ms/step - accuracy: 0.8685 - loss: 0.3635 - precision_31: 0.8873 - recall_31: 0.8425\n",
      "Epoch 4: val_loss did not improve from 0.85260\n",
      "\u001b[1m81/81\u001b[0m \u001b[32m━━━━━━━━━━━━━━━━━━━━\u001b[0m\u001b[37m\u001b[0m \u001b[1m4s\u001b[0m 49ms/step - accuracy: 0.8685 - loss: 0.3632 - precision_31: 0.8873 - recall_31: 0.8427 - val_accuracy: 0.6362 - val_loss: 1.2740 - val_precision_31: 0.6463 - val_recall_31: 0.6200\n",
      "\u001b[1m138/138\u001b[0m \u001b[32m━━━━━━━━━━━━━━━━━━━━\u001b[0m\u001b[37m\u001b[0m \u001b[1m1s\u001b[0m 9ms/step - accuracy: 0.6481 - loss: 0.8687 - precision_31: 0.7339 - recall_31: 0.5247\n",
      "Results: [0.8525996804237366, 0.6630236506462097, 0.7366582155227661, 0.5280054807662964]\n",
      "Testing with params: {'batch_size': 128, 'epochs': 20, 'learning_rate': 0.01}\n",
      "Epoch 1/20\n",
      "\u001b[1m81/81\u001b[0m \u001b[32m━━━━━━━━━━━━━━━━━━━━\u001b[0m\u001b[37m\u001b[0m \u001b[1m0s\u001b[0m 42ms/step - accuracy: 0.6545 - loss: 0.8050 - precision_32: 0.7174 - recall_32: 0.5454\n",
      "Epoch 1: val_loss improved from inf to 1.03254, saving model to best_model.keras\n",
      "\u001b[1m81/81\u001b[0m \u001b[32m━━━━━━━━━━━━━━━━━━━━\u001b[0m\u001b[37m\u001b[0m \u001b[1m7s\u001b[0m 56ms/step - accuracy: 0.6553 - loss: 0.8036 - precision_32: 0.7181 - recall_32: 0.5466 - val_accuracy: 0.6566 - val_loss: 1.0325 - val_precision_32: 0.6723 - val_recall_32: 0.6375\n",
      "Epoch 2/20\n",
      "\u001b[1m80/81\u001b[0m \u001b[32m━━━━━━━━━━━━━━━━━━━\u001b[0m\u001b[37m━\u001b[0m \u001b[1m0s\u001b[0m 42ms/step - accuracy: 0.8456 - loss: 0.4105 - precision_32: 0.8585 - recall_32: 0.8250\n",
      "Epoch 2: val_loss did not improve from 1.03254\n",
      "\u001b[1m81/81\u001b[0m \u001b[32m━━━━━━━━━━━━━━━━━━━━\u001b[0m\u001b[37m\u001b[0m \u001b[1m4s\u001b[0m 51ms/step - accuracy: 0.8455 - loss: 0.4106 - precision_32: 0.8584 - recall_32: 0.8250 - val_accuracy: 0.6234 - val_loss: 1.0637 - val_precision_32: 0.6362 - val_recall_32: 0.5872\n",
      "Epoch 3/20\n",
      "\u001b[1m80/81\u001b[0m \u001b[32m━━━━━━━━━━━━━━━━━━━\u001b[0m\u001b[37m━\u001b[0m \u001b[1m0s\u001b[0m 43ms/step - accuracy: 0.9131 - loss: 0.2519 - precision_32: 0.9244 - recall_32: 0.9027\n",
      "Epoch 3: val_loss did not improve from 1.03254\n",
      "\u001b[1m81/81\u001b[0m \u001b[32m━━━━━━━━━━━━━━━━━━━━\u001b[0m\u001b[37m\u001b[0m \u001b[1m4s\u001b[0m 53ms/step - accuracy: 0.9129 - loss: 0.2522 - precision_32: 0.9242 - recall_32: 0.9025 - val_accuracy: 0.6373 - val_loss: 1.3590 - val_precision_32: 0.6418 - val_recall_32: 0.6236\n",
      "Epoch 4/20\n",
      "\u001b[1m81/81\u001b[0m \u001b[32m━━━━━━━━━━━━━━━━━━━━\u001b[0m\u001b[37m\u001b[0m \u001b[1m0s\u001b[0m 42ms/step - accuracy: 0.9373 - loss: 0.1917 - precision_32: 0.9442 - recall_32: 0.9319\n",
      "Epoch 4: val_loss did not improve from 1.03254\n",
      "\u001b[1m81/81\u001b[0m \u001b[32m━━━━━━━━━━━━━━━━━━━━\u001b[0m\u001b[37m\u001b[0m \u001b[1m4s\u001b[0m 52ms/step - accuracy: 0.9373 - loss: 0.1917 - precision_32: 0.9442 - recall_32: 0.9319 - val_accuracy: 0.5774 - val_loss: 1.6144 - val_precision_32: 0.5851 - val_recall_32: 0.5644\n",
      "\u001b[1m138/138\u001b[0m \u001b[32m━━━━━━━━━━━━━━━━━━━━\u001b[0m\u001b[37m\u001b[0m \u001b[1m1s\u001b[0m 8ms/step - accuracy: 0.6461 - loss: 1.0575 - precision_32: 0.6613 - recall_32: 0.6295\n",
      "Results: [1.0325355529785156, 0.6566484570503235, 0.6722689270973206, 0.6375227570533752]\n",
      "Testing with params: {'batch_size': 128, 'epochs': 30, 'learning_rate': 0.0001}\n",
      "Epoch 1/30\n",
      "\u001b[1m80/81\u001b[0m \u001b[32m━━━━━━━━━━━━━━━━━━━\u001b[0m\u001b[37m━\u001b[0m \u001b[1m0s\u001b[0m 42ms/step - accuracy: 0.5368 - loss: 1.0471 - precision_33: 0.3382 - recall_33: 0.0685\n",
      "Epoch 1: val_loss improved from inf to 0.90455, saving model to best_model.keras\n",
      "\u001b[1m81/81\u001b[0m \u001b[32m━━━━━━━━━━━━━━━━━━━━\u001b[0m\u001b[37m\u001b[0m \u001b[1m7s\u001b[0m 54ms/step - accuracy: 0.5382 - loss: 1.0458 - precision_33: 0.3452 - recall_33: 0.0732 - val_accuracy: 0.6407 - val_loss: 0.9045 - val_precision_33: 0.6407 - val_recall_33: 0.6407\n",
      "Epoch 2/30\n",
      "\u001b[1m80/81\u001b[0m \u001b[32m━━━━━━━━━━━━━━━━━━━\u001b[0m\u001b[37m━\u001b[0m \u001b[1m0s\u001b[0m 42ms/step - accuracy: 0.6123 - loss: 0.9332 - precision_33: 0.6131 - recall_33: 0.6057\n",
      "Epoch 2: val_loss improved from 0.90455 to 0.89103, saving model to best_model.keras\n",
      "\u001b[1m81/81\u001b[0m \u001b[32m━━━━━━━━━━━━━━━━━━━━\u001b[0m\u001b[37m\u001b[0m \u001b[1m4s\u001b[0m 51ms/step - accuracy: 0.6125 - loss: 0.9330 - precision_33: 0.6133 - recall_33: 0.6059 - val_accuracy: 0.6407 - val_loss: 0.8910 - val_precision_33: 0.6407 - val_recall_33: 0.6407\n",
      "Epoch 3/30\n",
      "\u001b[1m80/81\u001b[0m \u001b[32m━━━━━━━━━━━━━━━━━━━\u001b[0m\u001b[37m━\u001b[0m \u001b[1m0s\u001b[0m 42ms/step - accuracy: 0.6166 - loss: 0.9092 - precision_33: 0.6210 - recall_33: 0.6119\n",
      "Epoch 3: val_loss improved from 0.89103 to 0.85971, saving model to best_model.keras\n",
      "\u001b[1m81/81\u001b[0m \u001b[32m━━━━━━━━━━━━━━━━━━━━\u001b[0m\u001b[37m\u001b[0m \u001b[1m4s\u001b[0m 51ms/step - accuracy: 0.6167 - loss: 0.9088 - precision_33: 0.6213 - recall_33: 0.6120 - val_accuracy: 0.6407 - val_loss: 0.8597 - val_precision_33: 0.6485 - val_recall_33: 0.6393\n",
      "Epoch 4/30\n",
      "\u001b[1m79/81\u001b[0m \u001b[32m━━━━━━━━━━━━━━━━━━━\u001b[0m\u001b[37m━\u001b[0m \u001b[1m0s\u001b[0m 42ms/step - accuracy: 0.6219 - loss: 0.8351 - precision_33: 0.6765 - recall_33: 0.5912\n",
      "Epoch 4: val_loss improved from 0.85971 to 0.83179, saving model to best_model.keras\n",
      "\u001b[1m81/81\u001b[0m \u001b[32m━━━━━━━━━━━━━━━━━━━━\u001b[0m\u001b[37m\u001b[0m \u001b[1m4s\u001b[0m 50ms/step - accuracy: 0.6223 - loss: 0.8339 - precision_33: 0.6780 - recall_33: 0.5906 - val_accuracy: 0.6500 - val_loss: 0.8318 - val_precision_33: 0.7289 - val_recall_33: 0.5467\n",
      "Epoch 5/30\n",
      "\u001b[1m80/81\u001b[0m \u001b[32m━━━━━━━━━━━━━━━━━━━\u001b[0m\u001b[37m━\u001b[0m \u001b[1m0s\u001b[0m 42ms/step - accuracy: 0.6673 - loss: 0.7260 - precision_33: 0.8107 - recall_33: 0.5406\n",
      "Epoch 5: val_loss did not improve from 0.83179\n",
      "\u001b[1m81/81\u001b[0m \u001b[32m━━━━━━━━━━━━━━━━━━━━\u001b[0m\u001b[37m\u001b[0m \u001b[1m4s\u001b[0m 51ms/step - accuracy: 0.6675 - loss: 0.7256 - precision_33: 0.8109 - recall_33: 0.5406 - val_accuracy: 0.6450 - val_loss: 0.8604 - val_precision_33: 0.7303 - val_recall_33: 0.5401\n",
      "Epoch 6/30\n",
      "\u001b[1m81/81\u001b[0m \u001b[32m━━━━━━━━━━━━━━━━━━━━\u001b[0m\u001b[37m\u001b[0m \u001b[1m0s\u001b[0m 41ms/step - accuracy: 0.7049 - loss: 0.6553 - precision_33: 0.8538 - recall_33: 0.5385\n",
      "Epoch 6: val_loss did not improve from 0.83179\n",
      "\u001b[1m81/81\u001b[0m \u001b[32m━━━━━━━━━━━━━━━━━━━━\u001b[0m\u001b[37m\u001b[0m \u001b[1m4s\u001b[0m 51ms/step - accuracy: 0.7051 - loss: 0.6552 - precision_33: 0.8539 - recall_33: 0.5385 - val_accuracy: 0.6498 - val_loss: 0.8888 - val_precision_33: 0.7334 - val_recall_33: 0.5398\n",
      "Epoch 7/30\n",
      "\u001b[1m80/81\u001b[0m \u001b[32m━━━━━━━━━━━━━━━━━━━\u001b[0m\u001b[37m━\u001b[0m \u001b[1m0s\u001b[0m 42ms/step - accuracy: 0.7436 - loss: 0.5938 - precision_33: 0.8780 - recall_33: 0.5699\n",
      "Epoch 7: val_loss did not improve from 0.83179\n",
      "\u001b[1m81/81\u001b[0m \u001b[32m━━━━━━━━━━━━━━━━━━━━\u001b[0m\u001b[37m\u001b[0m \u001b[1m4s\u001b[0m 51ms/step - accuracy: 0.7436 - loss: 0.5937 - precision_33: 0.8780 - recall_33: 0.5700 - val_accuracy: 0.6448 - val_loss: 0.9217 - val_precision_33: 0.7421 - val_recall_33: 0.5039\n",
      "\u001b[1m138/138\u001b[0m \u001b[32m━━━━━━━━━━━━━━━━━━━━\u001b[0m\u001b[37m\u001b[0m \u001b[1m1s\u001b[0m 8ms/step - accuracy: 0.6458 - loss: 0.8427 - precision_33: 0.7261 - recall_33: 0.5438\n",
      "Results: [0.8317875266075134, 0.6500455141067505, 0.7289010286331177, 0.5466758012771606]\n",
      "Testing with params: {'batch_size': 128, 'epochs': 30, 'learning_rate': 0.001}\n",
      "Epoch 1/30\n",
      "\u001b[1m80/81\u001b[0m \u001b[32m━━━━━━━━━━━━━━━━━━━\u001b[0m\u001b[37m━\u001b[0m \u001b[1m0s\u001b[0m 42ms/step - accuracy: 0.5964 - loss: 0.9286 - precision_34: 0.6046 - recall_34: 0.4261\n",
      "Epoch 1: val_loss improved from inf to 0.84385, saving model to best_model.keras\n",
      "\u001b[1m81/81\u001b[0m \u001b[32m━━━━━━━━━━━━━━━━━━━━\u001b[0m\u001b[37m\u001b[0m \u001b[1m7s\u001b[0m 57ms/step - accuracy: 0.5975 - loss: 0.9261 - precision_34: 0.6071 - recall_34: 0.4284 - val_accuracy: 0.6705 - val_loss: 0.8439 - val_precision_34: 0.7342 - val_recall_34: 0.5171\n",
      "Epoch 2/30\n",
      "\u001b[1m80/81\u001b[0m \u001b[32m━━━━━━━━━━━━━━━━━━━\u001b[0m\u001b[37m━\u001b[0m \u001b[1m0s\u001b[0m 42ms/step - accuracy: 0.7437 - loss: 0.6022 - precision_34: 0.8509 - recall_34: 0.5857\n",
      "Epoch 2: val_loss did not improve from 0.84385\n",
      "\u001b[1m81/81\u001b[0m \u001b[32m━━━━━━━━━━━━━━━━━━━━\u001b[0m\u001b[37m\u001b[0m \u001b[1m4s\u001b[0m 50ms/step - accuracy: 0.7443 - loss: 0.6014 - precision_34: 0.8509 - recall_34: 0.5870 - val_accuracy: 0.6514 - val_loss: 1.0093 - val_precision_34: 0.6818 - val_recall_34: 0.6002\n",
      "Epoch 3/30\n",
      "\u001b[1m81/81\u001b[0m \u001b[32m━━━━━━━━━━━━━━━━━━━━\u001b[0m\u001b[37m\u001b[0m \u001b[1m0s\u001b[0m 43ms/step - accuracy: 0.8334 - loss: 0.4356 - precision_34: 0.8626 - recall_34: 0.7926\n",
      "Epoch 3: val_loss did not improve from 0.84385\n",
      "\u001b[1m81/81\u001b[0m \u001b[32m━━━━━━━━━━━━━━━━━━━━\u001b[0m\u001b[37m\u001b[0m \u001b[1m4s\u001b[0m 51ms/step - accuracy: 0.8334 - loss: 0.4355 - precision_34: 0.8626 - recall_34: 0.7927 - val_accuracy: 0.6000 - val_loss: 1.1497 - val_precision_34: 0.6156 - val_recall_34: 0.5688\n",
      "Epoch 4/30\n",
      "\u001b[1m80/81\u001b[0m \u001b[32m━━━━━━━━━━━━━━━━━━━\u001b[0m\u001b[37m━\u001b[0m \u001b[1m0s\u001b[0m 41ms/step - accuracy: 0.8869 - loss: 0.3115 - precision_34: 0.9030 - recall_34: 0.8698\n",
      "Epoch 4: val_loss did not improve from 0.84385\n",
      "\u001b[1m81/81\u001b[0m \u001b[32m━━━━━━━━━━━━━━━━━━━━\u001b[0m\u001b[37m\u001b[0m \u001b[1m4s\u001b[0m 49ms/step - accuracy: 0.8870 - loss: 0.3113 - precision_34: 0.9030 - recall_34: 0.8700 - val_accuracy: 0.5906 - val_loss: 1.3342 - val_precision_34: 0.6017 - val_recall_34: 0.5719\n",
      "\u001b[1m138/138\u001b[0m \u001b[32m━━━━━━━━━━━━━━━━━━━━\u001b[0m\u001b[37m\u001b[0m \u001b[1m1s\u001b[0m 9ms/step - accuracy: 0.6615 - loss: 0.8547 - precision_34: 0.7313 - recall_34: 0.5151\n",
      "Results: [0.8438530564308167, 0.6705373525619507, 0.7342386245727539, 0.5170764923095703]\n",
      "Testing with params: {'batch_size': 128, 'epochs': 30, 'learning_rate': 0.01}\n",
      "Epoch 1/30\n",
      "\u001b[1m80/81\u001b[0m \u001b[32m━━━━━━━━━━━━━━━━━━━\u001b[0m\u001b[37m━\u001b[0m \u001b[1m0s\u001b[0m 42ms/step - accuracy: 0.6401 - loss: 0.8137 - precision_35: 0.7217 - recall_35: 0.5211\n",
      "Epoch 1: val_loss improved from inf to 0.95111, saving model to best_model.keras\n",
      "\u001b[1m81/81\u001b[0m \u001b[32m━━━━━━━━━━━━━━━━━━━━\u001b[0m\u001b[37m\u001b[0m \u001b[1m6s\u001b[0m 56ms/step - accuracy: 0.6420 - loss: 0.8106 - precision_35: 0.7231 - recall_35: 0.5240 - val_accuracy: 0.5815 - val_loss: 0.9511 - val_precision_35: 0.5975 - val_recall_35: 0.5373\n",
      "Epoch 2/30\n",
      "\u001b[1m80/81\u001b[0m \u001b[32m━━━━━━━━━━━━━━━━━━━\u001b[0m\u001b[37m━\u001b[0m \u001b[1m0s\u001b[0m 40ms/step - accuracy: 0.8364 - loss: 0.4374 - precision_35: 0.8577 - recall_35: 0.8146\n",
      "Epoch 2: val_loss did not improve from 0.95111\n",
      "\u001b[1m81/81\u001b[0m \u001b[32m━━━━━━━━━━━━━━━━━━━━\u001b[0m\u001b[37m\u001b[0m \u001b[1m4s\u001b[0m 50ms/step - accuracy: 0.8365 - loss: 0.4370 - precision_35: 0.8578 - recall_35: 0.8148 - val_accuracy: 0.6234 - val_loss: 1.2099 - val_precision_35: 0.6335 - val_recall_35: 0.6068\n",
      "Epoch 3/30\n",
      "\u001b[1m81/81\u001b[0m \u001b[32m━━━━━━━━━━━━━━━━━━━━\u001b[0m\u001b[37m\u001b[0m \u001b[1m0s\u001b[0m 41ms/step - accuracy: 0.8997 - loss: 0.2862 - precision_35: 0.9117 - recall_35: 0.8930\n",
      "Epoch 3: val_loss did not improve from 0.95111\n",
      "\u001b[1m81/81\u001b[0m \u001b[32m━━━━━━━━━━━━━━━━━━━━\u001b[0m\u001b[37m\u001b[0m \u001b[1m4s\u001b[0m 49ms/step - accuracy: 0.8997 - loss: 0.2863 - precision_35: 0.9116 - recall_35: 0.8929 - val_accuracy: 0.6220 - val_loss: 1.4240 - val_precision_35: 0.6316 - val_recall_35: 0.6063\n",
      "Epoch 4/30\n",
      "\u001b[1m80/81\u001b[0m \u001b[32m━━━━━━━━━━━━━━━━━━━\u001b[0m\u001b[37m━\u001b[0m \u001b[1m0s\u001b[0m 42ms/step - accuracy: 0.9360 - loss: 0.1893 - precision_35: 0.9434 - recall_35: 0.9285\n",
      "Epoch 4: val_loss did not improve from 0.95111\n",
      "\u001b[1m81/81\u001b[0m \u001b[32m━━━━━━━━━━━━━━━━━━━━\u001b[0m\u001b[37m\u001b[0m \u001b[1m4s\u001b[0m 51ms/step - accuracy: 0.9359 - loss: 0.1895 - precision_35: 0.9433 - recall_35: 0.9284 - val_accuracy: 0.5920 - val_loss: 1.7126 - val_precision_35: 0.5982 - val_recall_35: 0.5820\n",
      "\u001b[1m138/138\u001b[0m \u001b[32m━━━━━━━━━━━━━━━━━━━━\u001b[0m\u001b[37m\u001b[0m \u001b[1m1s\u001b[0m 9ms/step - accuracy: 0.5804 - loss: 0.9621 - precision_35: 0.5982 - recall_35: 0.5371\n",
      "Results: [0.9511049389839172, 0.5815118551254272, 0.597468376159668, 0.5373406410217285]\n"
     ]
    }
   ],
   "source": [
    "\n",
    "# Itérer sur les combinaisons d'hyperparamètres\n",
    "for params in ParameterGrid(param_grid):\n",
    "    print(f\"Testing with params: {params}\")\n",
    "    \n",
    "    # Construire le modèle\n",
    "    model = Sequential()\n",
    "    model.add(Embedding(input_dim=max_words, output_dim=embedding_size, input_length=max_len))\n",
    "    model.add(Conv1D(filters=64, kernel_size=3, padding='same', activation='relu'))\n",
    "    model.add(MaxPooling1D(pool_size=2))\n",
    "    model.add(Bidirectional(LSTM(units=64)))\n",
    "    model.add(Dropout(0.5))\n",
    "    model.add(Dense(num_classes, activation='softmax'))\n",
    "    \n",
    "    # Utiliser un optimiseur avec le taux d'apprentissage\n",
    "    optimizer = Adam(learning_rate=params['learning_rate'])\n",
    "    model.compile(optimizer=optimizer,\n",
    "                  loss=CategoricalCrossentropy(),\n",
    "                  metrics=['accuracy', Precision(), Recall()])\n",
    "\n",
    "    # Callbacks pour sauvegarder le meilleur modèle\n",
    "    early_stopping = EarlyStopping(monitor='val_loss', patience=3, restore_best_weights=True)\n",
    "    model_checkpoint = ModelCheckpoint('best_model.keras', \n",
    "                                       monitor='val_loss', \n",
    "                                       save_best_only=True, \n",
    "                                       mode='min', \n",
    "                                       verbose=1)\n",
    "\n",
    "    # Entraînement du modèle\n",
    "    history = model.fit(x_train, \n",
    "                        y_train, \n",
    "                        validation_data=(x_test, y_test),\n",
    "                        epochs=params['epochs'],\n",
    "                        batch_size=params['batch_size'],\n",
    "                        callbacks=[early_stopping, model_checkpoint])\n",
    "\n",
    "    # Évaluation du modèle\n",
    "    results = model.evaluate(x_test, y_test)\n",
    "    print(f\"Results: {results}\")\n",
    "\n",
    "\n"
   ]
  },
  {
   "cell_type": "code",
   "execution_count": 488,
   "metadata": {},
   "outputs": [],
   "source": [
    "# Charger le meilleur modèle sauvegardé\n",
    "model = load_model('best_model.keras')"
   ]
  },
  {
   "cell_type": "code",
   "execution_count": 491,
   "metadata": {},
   "outputs": [
    {
     "name": "stdout",
     "output_type": "stream",
     "text": [
      "Defaulting to user installation because normal site-packages is not writeable\n",
      "Requirement already satisfied: pydot in /home/ensai/.local/lib/python3.10/site-packages (3.0.2)\n",
      "Requirement already satisfied: pyparsing>=3.0.9 in /home/ensai/.local/lib/python3.10/site-packages (from pydot) (3.2.0)\n"
     ]
    }
   ],
   "source": [
    "!pip install pydot"
   ]
  },
  {
   "cell_type": "code",
   "execution_count": 492,
   "metadata": {},
   "outputs": [
    {
     "name": "stdout",
     "output_type": "stream",
     "text": [
      "You must install pydot (`pip install pydot`) for `plot_model` to work.\n"
     ]
    }
   ],
   "source": [
    "import tensorflow as tf\n",
    "tf.keras.utils.plot_model(model, show_shapes=True)"
   ]
  },
  {
   "cell_type": "markdown",
   "metadata": {},
   "source": [
    "### Visualisation des Résultats\n",
    "\n",
    "Des courbes de performance sont tracées pour observer la progression de l'exactitude et de la perte du modèle au fil des époques. Ces courbes permettent d'évaluer le comportement du modèle (par exemple, si un surapprentissage est détecté). Un exemple de courbes d'apprentissage à inclure dans votre projet :\n",
    "\n",
    "- **Courbe d'exactitude** : montre l'évolution de l'exactitude sur les ensembles d'entraînement et de validation.\n",
    "- **Courbe de perte** : montre la diminution de la perte pendant l'entraînement.\n",
    "\n",
    "\n",
    "## Évaluation\n",
    "\n",
    "Après l'entraînement, le modèle est évalué sur des données de test non vues. Le processus d'évaluation consiste à mesurer l'exactitude du modèle ainsi que d'autres métriques telles que la précision, le rappel et le score F1 pour évaluer ses performances. De plus, les prédictions du modèle sur des phrases d'exemple sont analysées afin de vérifier son efficacité dans des scénarios réels."
   ]
  },
  {
   "cell_type": "markdown",
   "metadata": {},
   "source": [
    "<!--\n",
    " Copyright 2024 ensai\n",
    " \n",
    " Licensed under the Apache License, Version 2.0 (the \"License\");\n",
    " you may not use this file except in compliance with the License.\n",
    " You may obtain a copy of the License at\n",
    " \n",
    "     https://www.apache.org/licenses/LICENSE-2.0\n",
    " \n",
    " Unless required by applicable law or agreed to in writing, software\n",
    " distributed under the License is distributed on an \"AS IS\" BASIS,\n",
    " WITHOUT WARRANTIES OR CONDITIONS OF ANY KIND, either express or implied.\n",
    " See the License for the specific language governing permissions and\n",
    " limitations under the License.\n",
    "-->\n",
    "\n"
   ]
  },
  {
   "cell_type": "code",
   "execution_count": 498,
   "metadata": {},
   "outputs": [
    {
     "name": "stdout",
     "output_type": "stream",
     "text": [
      "\n",
      "Évaluation du modèle sur l'ensemble de test :\n",
      "Exactitude (Accuracy)  : 0.5815\n",
      "Précision (Precision)  : 0.5975\n",
      "Rappel (Recall)        : 0.5373\n",
      "F1-Score               : 0.5658\n"
     ]
    }
   ],
   "source": [
    "# Importations nécessaires\n",
    "import numpy as np\n",
    "from sklearn.metrics import precision_score, recall_score\n",
    "\n",
    "# Fonction pour calculer le F1-score\n",
    "def f1_score(precision, recall):\n",
    "    return 2 * (precision * recall) / (precision + recall)\n",
    "\n",
    "# Évaluer le modèle sur l'ensemble de test\n",
    "loss, accuracy, precision, recall = model.evaluate(x_test, y_test, verbose=0)\n",
    "\n",
    "# Calculer le F1-score\n",
    "f1 = f1_score(precision, recall)\n",
    "\n",
    "# Afficher les métriques\n",
    "print(\"\\nÉvaluation du modèle sur l'ensemble de test :\")\n",
    "print(f\"Exactitude (Accuracy)  : {accuracy:.4f}\")\n",
    "print(f\"Précision (Precision)  : {precision:.4f}\")\n",
    "print(f\"Rappel (Recall)        : {recall:.4f}\")\n",
    "print(f\"F1-Score               : {f1:.4f}\")\n"
   ]
  },
  {
   "cell_type": "code",
   "execution_count": 499,
   "metadata": {},
   "outputs": [],
   "source": [
    "def plot_training_hist(history):\n",
    "    '''Function to plot history for accuracy and loss'''\n",
    "    \n",
    "    fig, ax = plt.subplots(1, 2, figsize=(10,4))\n",
    "    # first plot\n",
    "    ax[0].plot(history.history['accuracy'])\n",
    "    ax[0].plot(history.history['val_accuracy'])\n",
    "    ax[0].set_title('Model Accuracy')\n",
    "    ax[0].set_xlabel('epoch')\n",
    "    ax[0].set_ylabel('accuracy')\n",
    "    ax[0].legend(['train', 'validation'], loc='best')\n",
    "    # second plot\n",
    "    ax[1].plot(history.history['loss'])\n",
    "    ax[1].plot(history.history['val_loss'])\n",
    "    ax[1].set_title('Model Loss')\n",
    "    ax[1].set_xlabel('epoch')\n",
    "    ax[1].set_ylabel('loss')\n",
    "    ax[1].legend(['train', 'validation'], loc='best')\n",
    "    \n"
   ]
  },
  {
   "cell_type": "code",
   "execution_count": 500,
   "metadata": {},
   "outputs": [
    {
     "data": {
      "image/png": "[encoded data removed]",
      "text/plain": [
       "<Figure size 720x288 with 2 Axes>"
      ]
     },
     "metadata": {
      "needs_background": "light"
     },
     "output_type": "display_data"
    }
   ],
   "source": [
    "plot_training_hist(history)"
   ]
  },
  {
   "cell_type": "code",
   "execution_count": 501,
   "metadata": {},
   "outputs": [
    {
     "name": "stdout",
     "output_type": "stream",
     "text": [
      "\u001b[1m138/138\u001b[0m \u001b[32m━━━━━━━━━━━━━━━━━━━━\u001b[0m\u001b[37m\u001b[0m \u001b[1m2s\u001b[0m 14ms/step - accuracy: 0.5804 - loss: 0.9621 - precision_35: 0.5982 - recall_35: 0.5371\n",
      "Test Accuracy: 0.5815118551254272\n"
     ]
    }
   ],
   "source": [
    "# Évaluation du modèle\n",
    "results = model.evaluate(x_test, y_test)\n",
    "print(f\"Test Accuracy: {results[1]}\")"
   ]
  },
  {
   "cell_type": "markdown",
   "metadata": {},
   "source": [
    "<!--\n",
    " Copyright 2024 ensai\n",
    " \n",
    " Licensed under the Apache License, Version 2.0 (the \"License\");\n",
    " you may not use this file except in compliance with the License.\n",
    " You may obtain a copy of the License at\n",
    " \n",
    "     https://www.apache.org/licenses/LICENSE-2.0\n",
    " \n",
    " Unless required by applicable law or agreed to in writing, software\n",
    " distributed under the License is distributed on an \"AS IS\" BASIS,\n",
    " WITHOUT WARRANTIES OR CONDITIONS OF ANY KIND, either express or implied.\n",
    " See the License for the specific language governing permissions and\n",
    " limitations under the License.\n",
    "-->\n",
    "\n"
   ]
  },
  {
   "cell_type": "code",
   "execution_count": 502,
   "metadata": {},
   "outputs": [],
   "source": [
    "import numpy as np\n",
    "import matplotlib.pyplot as plt\n",
    "import seaborn as sns\n",
    "from sklearn.metrics import confusion_matrix\n",
    "\n",
    "def plot_confusion_matrix(model, X_test, y_test, class_names):\n",
    "    '''Function to plot confusion matrix for the passed model and test data'''\n",
    "    \n",
    "    # Prédire les classes avec le modèle\n",
    "    y_pred = model.predict(X_test)\n",
    "    \n",
    "    # Calculer la matrice de confusion\n",
    "    cm = confusion_matrix(np.argmax(np.array(y_test), axis=1), np.argmax(y_pred, axis=1))\n",
    "    \n",
    "    # Tracer la matrice de confusion avec seaborn\n",
    "    plt.figure(figsize=(8, 6))\n",
    "    sns.heatmap(cm, cmap=plt.cm.Blues, annot=True, fmt='d', \n",
    "                xticklabels=class_names, yticklabels=class_names)\n",
    "    \n",
    "    # Titres et labels\n",
    "    plt.title('Matrice de Confusion', fontsize=16)\n",
    "    plt.xlabel('Étiquette Prédite', fontsize=12)\n",
    "    plt.ylabel('Étiquette Réelle', fontsize=12)\n",
    "    plt.show()\n",
    "\n",
    "\n"
   ]
  },
  {
   "cell_type": "code",
   "execution_count": 503,
   "metadata": {},
   "outputs": [
    {
     "name": "stdout",
     "output_type": "stream",
     "text": [
      "\u001b[1m138/138\u001b[0m \u001b[32m━━━━━━━━━━━━━━━━━━━━\u001b[0m\u001b[37m\u001b[0m \u001b[1m2s\u001b[0m 14ms/step\n"
     ]
    },
    {
     "data": {
      "image/png": "[encoded data removed]",
      "text/plain": [
       "<Figure size 576x432 with 2 Axes>"
      ]
     },
     "metadata": {
      "needs_background": "light"
     },
     "output_type": "display_data"
    }
   ],
   "source": [
    "# Assurez-vous que 'class_names' contient les noms des classes dans l'ordre (e.g., ['negative', 'neutral', 'positive'])\n",
    "class_names = data['airline_sentiment'].unique()\n",
    "\n",
    "# Appel de la fonction avec votre modèle, jeu de test et étiquettes de classe\n",
    "plot_confusion_matrix(model, x_test, y_test, class_names)"
   ]
  },
  {
   "cell_type": "markdown",
   "metadata": {},
   "source": [
    "<!--\n",
    " Copyright 2024 ensai\n",
    " \n",
    " Licensed under the Apache License, Version 2.0 (the \"License\");\n",
    " you may not use this file except in compliance with the License.\n",
    " You may obtain a copy of the License at\n",
    " \n",
    "     https://www.apache.org/licenses/LICENSE-2.0\n",
    " \n",
    " Unless required by applicable law or agreed to in writing, software\n",
    " distributed under the License is distributed on an \"AS IS\" BASIS,\n",
    " WITHOUT WARRANTIES OR CONDITIONS OF ANY KIND, either express or implied.\n",
    " See the License for the specific language governing permissions and\n",
    " limitations under the License.\n",
    "-->\n",
    "\n"
   ]
  },
  {
   "cell_type": "code",
   "execution_count": 504,
   "metadata": {},
   "outputs": [
    {
     "name": "stdout",
     "output_type": "stream",
     "text": [
      "Meilleur modèle sauvegardé au format Keras (.keras)\n"
     ]
    }
   ],
   "source": [
    "from keras.models import load_model\n",
    "from keras.preprocessing.sequence import pad_sequences\n",
    "\n",
    "# Sauvegarder le meilleur modèle au format natif Keras\n",
    "model.save('best_model.keras')\n",
    "print('Meilleur modèle sauvegardé au format Keras (.keras)')\n",
    "\n"
   ]
  },
  {
   "cell_type": "code",
   "execution_count": 505,
   "metadata": {},
   "outputs": [],
   "source": [
    "# Charger le modèle sauvegardé\n",
    "from tensorflow.keras.models import load_model\n",
    "\n",
    "model = load_model('best_model.keras')\n",
    "\n",
    "def predict_class(text):\n",
    "    '''Function to predict sentiment class of the passed text'''\n",
    "    \n",
    "    sentiment_classes = ['Negative', 'Neutral', 'Positive']\n",
    "    max_len = 50  # La même longueur maximale utilisée lors de l'entraînement\n",
    "\n",
    "    # Transformer le texte en séquence d'entiers à l'aide du tokenizer\n",
    "    xt = tokenizer.texts_to_sequences(text)\n",
    "    \n",
    "    # Vérifier si le texte est valide et a bien été converti en une séquence\n",
    "    if len(xt[0]) == 0:\n",
    "        print(\"Le texte fourni est trop court ou ne contient aucun mot reconnu.\")\n",
    "        return\n",
    "    \n",
    "    # Appliquer le padding pour obtenir des séquences de même longueur\n",
    "    xt = pad_sequences(xt, padding='post', maxlen=max_len)\n",
    "    \n",
    "    # Prédire la classe de sentiment avec le modèle chargé\n",
    "    yt = model.predict(xt).argmax(axis=1)\n",
    "    \n",
    "    # Afficher la prédiction\n",
    "    print(f'Texte : {text[0]}')\n",
    "    print(f'Sentiment prédit : {sentiment_classes[yt[0]]}\\n')\n",
    "\n"
   ]
  },
  {
   "cell_type": "code",
   "execution_count": 506,
   "metadata": {},
   "outputs": [
    {
     "name": "stdout",
     "output_type": "stream",
     "text": [
      "\u001b[1m1/1\u001b[0m \u001b[32m━━━━━━━━━━━━━━━━━━━━\u001b[0m\u001b[37m\u001b[0m \u001b[1m0s\u001b[0m 151ms/step\n",
      "Texte : I hate when I have to call and wake people up\n",
      "Sentiment prédit : Negative\n",
      "\n",
      "\u001b[1m1/1\u001b[0m \u001b[32m━━━━━━━━━━━━━━━━━━━━\u001b[0m\u001b[37m\u001b[0m \u001b[1m0s\u001b[0m 13ms/step\n",
      "Texte : The food was meh\n",
      "Sentiment prédit : Neutral\n",
      "\n",
      "\u001b[1m1/1\u001b[0m \u001b[32m━━━━━━━━━━━━━━━━━━━━\u001b[0m\u001b[37m\u001b[0m \u001b[1m0s\u001b[0m 15ms/step\n",
      "Texte : He is the best minister India has ever seen\n",
      "Sentiment prédit : Positive\n",
      "\n"
     ]
    }
   ],
   "source": [
    "# Exemples de prédictions\n",
    "predict_class(['I hate when I have to call and wake people up'])\n",
    "predict_class(['The food was meh'])\n",
    "predict_class(['He is the best minister India has ever seen'])"
   ]
  },
  {
   "cell_type": "code",
   "execution_count": 507,
   "metadata": {},
   "outputs": [
    {
     "name": "stdout",
     "output_type": "stream",
     "text": [
      "\u001b[1m1/1\u001b[0m \u001b[32m━━━━━━━━━━━━━━━━━━━━\u001b[0m\u001b[37m\u001b[0m \u001b[1m0s\u001b[0m 14ms/step\n",
      "Texte : I absolutely despise waiting in long lines.\n",
      "Sentiment prédit : Neutral\n",
      "\n",
      "\u001b[1m1/1\u001b[0m \u001b[32m━━━━━━━━━━━━━━━━━━━━\u001b[0m\u001b[37m\u001b[0m \u001b[1m0s\u001b[0m 13ms/step\n",
      "Texte : The service was terrible and I will never return.\n",
      "Sentiment prédit : Negative\n",
      "\n",
      "\u001b[1m1/1\u001b[0m \u001b[32m━━━━━━━━━━━━━━━━━━━━\u001b[0m\u001b[37m\u001b[0m \u001b[1m0s\u001b[0m 15ms/step\n",
      "Texte : I had a horrible experience with the product.\n",
      "Sentiment prédit : Neutral\n",
      "\n",
      "\u001b[1m1/1\u001b[0m \u001b[32m━━━━━━━━━━━━━━━━━━━━\u001b[0m\u001b[37m\u001b[0m \u001b[1m0s\u001b[0m 13ms/step\n",
      "Texte : The meeting is scheduled for next Tuesday.\n",
      "Sentiment prédit : Neutral\n",
      "\n",
      "\u001b[1m1/1\u001b[0m \u001b[32m━━━━━━━━━━━━━━━━━━━━\u001b[0m\u001b[37m\u001b[0m \u001b[1m0s\u001b[0m 13ms/step\n",
      "Texte : I have a book that I read last year.\n",
      "Sentiment prédit : Neutral\n",
      "\n",
      "\u001b[1m1/1\u001b[0m \u001b[32m━━━━━━━━━━━━━━━━━━━━\u001b[0m\u001b[37m\u001b[0m \u001b[1m0s\u001b[0m 15ms/step\n",
      "Texte : Today is a cloudy day.\n",
      "Sentiment prédit : Neutral\n",
      "\n",
      "\u001b[1m1/1\u001b[0m \u001b[32m━━━━━━━━━━━━━━━━━━━━\u001b[0m\u001b[37m\u001b[0m \u001b[1m0s\u001b[0m 20ms/step\n",
      "Texte : I love this place! The ambiance is wonderful.\n",
      "Sentiment prédit : Positive\n",
      "\n",
      "Le texte fourni est trop court ou ne contient aucun mot reconnu.\n",
      "\u001b[1m1/1\u001b[0m \u001b[32m━━━━━━━━━━━━━━━━━━━━\u001b[0m\u001b[37m\u001b[0m \u001b[1m0s\u001b[0m 21ms/step\n",
      "Texte : This is the best coffee I have ever tasted!\n",
      "Sentiment prédit : Positive\n",
      "\n"
     ]
    }
   ],
   "source": [
    "# Exemples de prédictions\n",
    "test_phrases = [\n",
    "    \"I absolutely despise waiting in long lines.\",\n",
    "    \"The service was terrible and I will never return.\",\n",
    "    \"I had a horrible experience with the product.\",\n",
    "    \"The meeting is scheduled for next Tuesday.\",\n",
    "    \"I have a book that I read last year.\",\n",
    "    \"Today is a cloudy day.\",\n",
    "    \"I love this place! The ambiance is wonderful.\",\n",
    "    \"The presentation was fantastic and very engaging.\",\n",
    "    \"This is the best coffee I have ever tasted!\"\n",
    "]\n",
    "\n",
    "for phrase in test_phrases:\n",
    "    predict_class([phrase])  # Test each phrase\n"
   ]
  }
 ],
 "metadata": {
  "kernelspec": {
   "display_name": "Python 3",
   "language": "python",
   "name": "python3"
  },
  "language_info": {
   "codemirror_mode": {
    "name": "ipython",
    "version": 3
   },
   "file_extension": ".py",
   "mimetype": "text/x-python",
   "name": "python",
   "nbconvert_exporter": "python",
   "pygments_lexer": "ipython3",
   "version": "3.10.12"
  }
 },
 "nbformat": 4,
 "nbformat_minor": 2
}
